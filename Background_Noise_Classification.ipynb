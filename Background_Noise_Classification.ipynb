{
 "cells": [
  {
   "cell_type": "code",
   "execution_count": 1,
   "id": "fe1c5888-a28e-40d7-84e8-8febfc6ee932",
   "metadata": {
    "tags": []
   },
   "outputs": [
    {
     "name": "stderr",
     "output_type": "stream",
     "text": [
      "2023-04-13 23:09:49.673743: I tensorflow/core/platform/cpu_feature_guard.cc:193] This TensorFlow binary is optimized with oneAPI Deep Neural Network Library (oneDNN) to use the following CPU instructions in performance-critical operations:  AVX2 AVX512F AVX512_VNNI FMA\n",
      "To enable them in other operations, rebuild TensorFlow with the appropriate compiler flags.\n",
      "2023-04-13 23:09:49.774969: I tensorflow/core/util/port.cc:104] oneDNN custom operations are on. You may see slightly different numerical results due to floating-point round-off errors from different computation orders. To turn them off, set the environment variable `TF_ENABLE_ONEDNN_OPTS=0`.\n",
      "2023-04-13 23:09:50.365322: W tensorflow/compiler/xla/stream_executor/platform/default/dso_loader.cc:64] Could not load dynamic library 'libnvinfer.so.7'; dlerror: libnvinfer.so.7: cannot open shared object file: No such file or directory; LD_LIBRARY_PATH: /usr/local/cuda-11.2/lib64:/home/cc/miniconda3/envs/tf-keras/lib/\n",
      "2023-04-13 23:09:50.365367: W tensorflow/compiler/xla/stream_executor/platform/default/dso_loader.cc:64] Could not load dynamic library 'libnvinfer_plugin.so.7'; dlerror: libnvinfer_plugin.so.7: cannot open shared object file: No such file or directory; LD_LIBRARY_PATH: /usr/local/cuda-11.2/lib64:/home/cc/miniconda3/envs/tf-keras/lib/\n",
      "2023-04-13 23:09:50.365372: W tensorflow/compiler/tf2tensorrt/utils/py_utils.cc:38] TF-TRT Warning: Cannot dlopen some TensorRT libraries. If you would like to use Nvidia GPU with TensorRT, please make sure the missing libraries mentioned above are installed properly.\n"
     ]
    }
   ],
   "source": [
    "## DATA PREPARATION\n",
    "from keras.utils import to_categorical\n",
    "import numpy as np\n",
    "import h5py\n",
    "import matplotlib.pyplot as plt\n",
    "from sklearn.model_selection import train_test_split\n",
    "\n",
    "with h5py.File('UrbanSound8K_Spectrograms/Urban_spectograms.h5', 'r') as f:\n",
    "\n",
    "    spectrograms = f['spectrograms']\n",
    "    labels = f['labels']\n",
    "\n",
    "    \n",
    "    X_pretrain = spectrograms[()]\n",
    "    y_pretrain = labels[()]\n",
    "    \n",
    "    mask = np.any(X_pretrain != 0, axis=(1, 2))\n",
    "    X_pretrain = X_pretrain[mask]\n",
    "    y_pretrain = y_pretrain[mask]\n",
    "    \n",
    "with h5py.File('UrbanSound8K_Augmentation/Urban_spectograms_augmented.h5', 'r') as f:\n",
    "\n",
    "    spectrograms_aug = f['spectrograms_aug']\n",
    "    labels_aug = f['labels_aug']\n",
    "\n",
    "    \n",
    "    X_pretrain_aug = spectrograms_aug[()]\n",
    "    y_pretrain_aug = labels_aug[()]\n",
    "    \n",
    "    mask_aug = np.any(X_pretrain_aug != 0, axis=(1, 2))\n",
    "    X_pretrain_aug = X_pretrain_aug[mask_aug]\n",
    "    y_pretrain_aug = y_pretrain_aug[mask_aug]\n",
    "\n",
    "with h5py.File('ybss-spectrograms/Ybss-spectrograms.h5', 'r') as f:\n",
    "    \n",
    "    test_spec = f['test_spec']\n",
    "    test_labs = f['test_labs']\n",
    "\n",
    "    \n",
    "    X_test = test_spec[()]\n",
    "    y_test = test_labs[()]\n",
    "    \n",
    "    \n",
    "    train_spec = f['train_spec']\n",
    "    train_labs = f['train_labs']\n",
    "\n",
    "    \n",
    "    X_train = train_spec[()]\n",
    "    y_train = train_labs[()]\n",
    "    \n",
    "with h5py.File('mixing_dataset_0.3/final_dataset_0.3.h5', 'r') as f:\n",
    "\n",
    "    spectrograms_mix_03 = f['spectrograms_mix']\n",
    "    labels_mix_03 = f['labels_mix']\n",
    "\n",
    "    \n",
    "    X_final_03 = spectrograms_mix_03[()]\n",
    "    y_final_03 = labels_mix_03[()]\n",
    "    \n",
    "    mask_final_03 = np.any(X_final_03 != 0, axis=(1, 2))\n",
    "    X_final_03 = X_final_03[mask_final_03]\n",
    "    y_final_03 = y_final_03[mask_final_03]\n",
    "    \n",
    "    \n",
    "with h5py.File('mixing_dataset_0.2/final_dataset_0.2.h5', 'r') as f:\n",
    "\n",
    "    spectrograms_mix_02 = f['spectrograms_mix']\n",
    "    labels_mix_02 = f['labels_mix']\n",
    "\n",
    "    \n",
    "    X_final_02 = spectrograms_mix_02[()]\n",
    "    y_final_02 = labels_mix_02[()]\n",
    "    \n",
    "    mask_final_02 = np.any(X_final_02 != 0, axis=(1, 2))\n",
    "    X_final_02 = X_final_02[mask_final_02]\n",
    "    y_final_02 = y_final_02[mask_final_02]\n",
    "    \n",
    "with h5py.File('mixing_dataset_0.1/final_dataset_0.1.h5', 'r') as f:\n",
    "\n",
    "    spectrograms_mix_01 = f['spectrograms_mix']\n",
    "    labels_mix_01 = f['labels_mix']\n",
    "\n",
    "    \n",
    "    X_final_01 = spectrograms_mix_01[()]\n",
    "    y_final_01 = labels_mix_01[()]\n",
    "    \n",
    "    mask_final_01 = np.any(X_final_01 != 0, axis=(1, 2))\n",
    "    X_final_01 = X_final_01[mask_final_01]\n",
    "    y_final_01 = y_final_01[mask_final_01]\n",
    "    \n",
    "with h5py.File('mixing_dataset_0.05/final_dataset_0.05.h5', 'r') as f:\n",
    "\n",
    "    spectrograms_mix_005 = f['spectrograms_mix']\n",
    "    labels_mix_005 = f['labels_mix']\n",
    "\n",
    "    \n",
    "    X_final_005 = spectrograms_mix_005[()]\n",
    "    y_final_005 = labels_mix_005[()]\n",
    "    \n",
    "    mask_final_005 = np.any(X_final_005 != 0, axis=(1, 2))\n",
    "    X_final_005 = X_final_005[mask_final_005]\n",
    "    y_final_005 = y_final_005[mask_final_005]\n",
    "\n",
    "\n",
    "# We one-hot encode the target variables to feed it to the neural network.\n",
    "y_pretrain = to_categorical(y_pretrain)\n",
    "y_pretrain_aug = to_categorical(y_pretrain_aug)\n",
    "y_test = to_categorical(y_test)\n",
    "y_train = to_categorical(y_train)\n",
    "y_final_03 = to_categorical(y_final_03)\n",
    "y_final_02 = to_categorical(y_final_02)\n",
    "y_final_01 = to_categorical(y_final_01)\n",
    "y_final_005 = to_categorical(y_final_005)\n",
    "\n",
    "# We do train-validation split\n",
    "#X_pretrain, X_pretest, y_pretrain, y_pretest = train_test_split(X_pretrain, y_pretrain, test_size=0.2, random_state=33)\n",
    "#X_pretrain_aug, X_pretest_aug, y_pretrain_aug, y_pretest_aug = train_test_split(X_pretrain_aug, y_pretrain_aug, test_size=0.2, random_state=33)\n",
    "X_train, X_validate, y_train, y_validate = train_test_split(X_train, y_train, test_size=0.2)\n",
    "#X_final, X_val_final, y_final, y_val_final = train_test_split(X_final, y_final, test_size=0.2)"
   ]
  },
  {
   "cell_type": "code",
   "execution_count": 23,
   "id": "4a15397c-7a51-46cc-b4bd-2ac221bf6e7c",
   "metadata": {
    "tags": []
   },
   "outputs": [
    {
     "name": "stdout",
     "output_type": "stream",
     "text": [
      "WARNING:tensorflow:There are non-GPU devices in `tf.distribute.Strategy`, not using nccl allreduce.\n",
      "INFO:tensorflow:Using MirroredStrategy with devices ('/job:localhost/replica:0/task:0/device:CPU:0',)\n",
      "Model: \"sequential_2\"\n",
      "_________________________________________________________________\n",
      " Layer (type)                Output Shape              Param #   \n",
      "=================================================================\n",
      " conv2d_16 (Conv2D)          (None, 127, 64, 64)       640       \n",
      "                                                                 \n",
      " batch_normalization_16 (Bat  (None, 127, 64, 64)      256       \n",
      " chNormalization)                                                \n",
      "                                                                 \n",
      " conv2d_17 (Conv2D)          (None, 127, 64, 64)       36928     \n",
      "                                                                 \n",
      " batch_normalization_17 (Bat  (None, 127, 64, 64)      256       \n",
      " chNormalization)                                                \n",
      "                                                                 \n",
      " max_pooling2d_8 (MaxPooling  (None, 63, 32, 64)       0         \n",
      " 2D)                                                             \n",
      "                                                                 \n",
      " conv2d_18 (Conv2D)          (None, 63, 32, 128)       73856     \n",
      "                                                                 \n",
      " batch_normalization_18 (Bat  (None, 63, 32, 128)      512       \n",
      " chNormalization)                                                \n",
      "                                                                 \n",
      " conv2d_19 (Conv2D)          (None, 63, 32, 128)       147584    \n",
      "                                                                 \n",
      " batch_normalization_19 (Bat  (None, 63, 32, 128)      512       \n",
      " chNormalization)                                                \n",
      "                                                                 \n",
      " max_pooling2d_9 (MaxPooling  (None, 31, 16, 128)      0         \n",
      " 2D)                                                             \n",
      "                                                                 \n",
      " conv2d_20 (Conv2D)          (None, 31, 16, 256)       295168    \n",
      "                                                                 \n",
      " batch_normalization_20 (Bat  (None, 31, 16, 256)      1024      \n",
      " chNormalization)                                                \n",
      "                                                                 \n",
      " conv2d_21 (Conv2D)          (None, 31, 16, 256)       590080    \n",
      "                                                                 \n",
      " batch_normalization_21 (Bat  (None, 31, 16, 256)      1024      \n",
      " chNormalization)                                                \n",
      "                                                                 \n",
      " max_pooling2d_10 (MaxPoolin  (None, 15, 8, 256)       0         \n",
      " g2D)                                                            \n",
      "                                                                 \n",
      " conv2d_22 (Conv2D)          (None, 15, 8, 512)        1180160   \n",
      "                                                                 \n",
      " batch_normalization_22 (Bat  (None, 15, 8, 512)       2048      \n",
      " chNormalization)                                                \n",
      "                                                                 \n",
      " conv2d_23 (Conv2D)          (None, 15, 8, 512)        2359808   \n",
      "                                                                 \n",
      " batch_normalization_23 (Bat  (None, 15, 8, 512)       2048      \n",
      " chNormalization)                                                \n",
      "                                                                 \n",
      " max_pooling2d_11 (MaxPoolin  (None, 7, 4, 512)        0         \n",
      " g2D)                                                            \n",
      "                                                                 \n",
      " global_max_pooling2d_2 (Glo  (None, 512)              0         \n",
      " balMaxPooling2D)                                                \n",
      "                                                                 \n",
      " flatten_2 (Flatten)         (None, 512)               0         \n",
      "                                                                 \n",
      " dense_2 (Dense)             (None, 10)                5130      \n",
      "                                                                 \n",
      "=================================================================\n",
      "Total params: 4,697,034\n",
      "Trainable params: 4,693,194\n",
      "Non-trainable params: 3,840\n",
      "_________________________________________________________________\n",
      "Epoch 1/60\n",
      "20/20 [==============================] - 17s 629ms/step - loss: 2.0014 - accuracy: 0.6403 - val_loss: 7.0879 - val_accuracy: 0.0312\n",
      "Epoch 2/60\n",
      "20/20 [==============================] - ETA: 0s - loss: 0.2795 - accuracy: 0.9124"
     ]
    },
    {
     "name": "stderr",
     "output_type": "stream",
     "text": [
      "2023-04-13 22:59:41.519758: W tensorflow/core/framework/dataset.cc:769] Input of GeneratorDatasetOp::Dataset will not be optimized because the dataset does not implement the AsGraphDefInternal() method needed to apply optimizations.\n"
     ]
    },
    {
     "name": "stdout",
     "output_type": "stream",
     "text": [
      "20/20 [==============================] - 11s 560ms/step - loss: 0.2795 - accuracy: 0.9124 - val_loss: 7.1424 - val_accuracy: 0.1125\n",
      "Epoch 3/60\n",
      "20/20 [==============================] - 11s 562ms/step - loss: 0.1328 - accuracy: 0.9578 - val_loss: 5.8205 - val_accuracy: 0.1125\n",
      "Epoch 4/60\n",
      "20/20 [==============================] - 11s 567ms/step - loss: 0.0771 - accuracy: 0.9773 - val_loss: 5.1912 - val_accuracy: 0.1250\n",
      "Epoch 5/60\n",
      "20/20 [==============================] - ETA: 0s - loss: 0.0486 - accuracy: 0.9867"
     ]
    },
    {
     "name": "stderr",
     "output_type": "stream",
     "text": [
      "2023-04-13 23:00:15.320532: W tensorflow/core/framework/dataset.cc:769] Input of GeneratorDatasetOp::Dataset will not be optimized because the dataset does not implement the AsGraphDefInternal() method needed to apply optimizations.\n"
     ]
    },
    {
     "name": "stdout",
     "output_type": "stream",
     "text": [
      "20/20 [==============================] - 11s 569ms/step - loss: 0.0486 - accuracy: 0.9867 - val_loss: 6.0018 - val_accuracy: 0.1781\n",
      "Epoch 6/60\n",
      "20/20 [==============================] - 11s 571ms/step - loss: 0.0301 - accuracy: 0.9898 - val_loss: 6.7050 - val_accuracy: 0.1469\n",
      "Epoch 7/60\n",
      "20/20 [==============================] - 11s 568ms/step - loss: 0.0401 - accuracy: 0.9859 - val_loss: 5.6967 - val_accuracy: 0.2031\n",
      "Epoch 8/60\n",
      "20/20 [==============================] - ETA: 0s - loss: 0.0143 - accuracy: 0.9969"
     ]
    },
    {
     "name": "stderr",
     "output_type": "stream",
     "text": [
      "2023-04-13 23:00:49.321627: W tensorflow/core/framework/dataset.cc:769] Input of GeneratorDatasetOp::Dataset will not be optimized because the dataset does not implement the AsGraphDefInternal() method needed to apply optimizations.\n"
     ]
    },
    {
     "name": "stdout",
     "output_type": "stream",
     "text": [
      "20/20 [==============================] - 11s 567ms/step - loss: 0.0143 - accuracy: 0.9969 - val_loss: 7.4516 - val_accuracy: 0.1719\n",
      "Epoch 9/60\n",
      "20/20 [==============================] - 11s 563ms/step - loss: 0.0136 - accuracy: 0.9961 - val_loss: 7.1395 - val_accuracy: 0.1719\n",
      "Epoch 10/60\n",
      "20/20 [==============================] - 11s 566ms/step - loss: 0.0193 - accuracy: 0.9977 - val_loss: 7.8276 - val_accuracy: 0.1750\n",
      "Epoch 11/60\n",
      "20/20 [==============================] - ETA: 0s - loss: 0.0059 - accuracy: 0.9992"
     ]
    },
    {
     "name": "stderr",
     "output_type": "stream",
     "text": [
      "2023-04-13 23:01:23.075626: W tensorflow/core/framework/dataset.cc:769] Input of GeneratorDatasetOp::Dataset will not be optimized because the dataset does not implement the AsGraphDefInternal() method needed to apply optimizations.\n"
     ]
    },
    {
     "name": "stdout",
     "output_type": "stream",
     "text": [
      "20/20 [==============================] - 11s 566ms/step - loss: 0.0059 - accuracy: 0.9992 - val_loss: 6.9571 - val_accuracy: 0.1531\n",
      "Epoch 12/60\n",
      "10/20 [==============>...............] - ETA: 5s - loss: 0.0025 - accuracy: 1.0000"
     ]
    },
    {
     "ename": "KeyboardInterrupt",
     "evalue": "",
     "output_type": "error",
     "traceback": [
      "\u001b[0;31m---------------------------------------------------------------------------\u001b[0m",
      "\u001b[0;31mKeyboardInterrupt\u001b[0m                         Traceback (most recent call last)",
      "Cell \u001b[0;32mIn[23], line 54\u001b[0m\n\u001b[1;32m     51\u001b[0m model\u001b[38;5;241m.\u001b[39mcompile(optimizer\u001b[38;5;241m=\u001b[39m\u001b[38;5;124m'\u001b[39m\u001b[38;5;124madam\u001b[39m\u001b[38;5;124m'\u001b[39m, loss\u001b[38;5;241m=\u001b[39m\u001b[38;5;124m'\u001b[39m\u001b[38;5;124mcategorical_crossentropy\u001b[39m\u001b[38;5;124m'\u001b[39m, metrics\u001b[38;5;241m=\u001b[39m[\u001b[38;5;124m'\u001b[39m\u001b[38;5;124maccuracy\u001b[39m\u001b[38;5;124m'\u001b[39m])\n\u001b[1;32m     53\u001b[0m \u001b[38;5;66;03m## We train the model\u001b[39;00m\n\u001b[0;32m---> 54\u001b[0m hist \u001b[38;5;241m=\u001b[39m \u001b[43mmodel\u001b[49m\u001b[38;5;241;43m.\u001b[39;49m\u001b[43mfit\u001b[49m\u001b[43m(\u001b[49m\u001b[43mX_train\u001b[49m\u001b[43m,\u001b[49m\u001b[43m \u001b[49m\u001b[43my_train\u001b[49m\u001b[43m,\u001b[49m\u001b[43m \u001b[49m\u001b[43mvalidation_data\u001b[49m\u001b[43m \u001b[49m\u001b[38;5;241;43m=\u001b[39;49m\u001b[43m \u001b[49m\u001b[43m(\u001b[49m\u001b[43mX_validate\u001b[49m\u001b[43m,\u001b[49m\u001b[43my_validate\u001b[49m\u001b[43m)\u001b[49m\u001b[43m,\u001b[49m\u001b[43m \u001b[49m\u001b[43mepochs\u001b[49m\u001b[38;5;241;43m=\u001b[39;49m\u001b[38;5;241;43m60\u001b[39;49m\u001b[43m,\u001b[49m\u001b[43m \u001b[49m\u001b[43mbatch_size\u001b[49m\u001b[38;5;241;43m=\u001b[39;49m\u001b[38;5;241;43m64\u001b[39;49m\u001b[43m)\u001b[49m\n",
      "File \u001b[0;32m~/.local/lib/python3.8/site-packages/keras/utils/traceback_utils.py:65\u001b[0m, in \u001b[0;36mfilter_traceback.<locals>.error_handler\u001b[0;34m(*args, **kwargs)\u001b[0m\n\u001b[1;32m     63\u001b[0m filtered_tb \u001b[38;5;241m=\u001b[39m \u001b[38;5;28;01mNone\u001b[39;00m\n\u001b[1;32m     64\u001b[0m \u001b[38;5;28;01mtry\u001b[39;00m:\n\u001b[0;32m---> 65\u001b[0m     \u001b[38;5;28;01mreturn\u001b[39;00m \u001b[43mfn\u001b[49m\u001b[43m(\u001b[49m\u001b[38;5;241;43m*\u001b[39;49m\u001b[43margs\u001b[49m\u001b[43m,\u001b[49m\u001b[43m \u001b[49m\u001b[38;5;241;43m*\u001b[39;49m\u001b[38;5;241;43m*\u001b[39;49m\u001b[43mkwargs\u001b[49m\u001b[43m)\u001b[49m\n\u001b[1;32m     66\u001b[0m \u001b[38;5;28;01mexcept\u001b[39;00m \u001b[38;5;167;01mException\u001b[39;00m \u001b[38;5;28;01mas\u001b[39;00m e:\n\u001b[1;32m     67\u001b[0m     filtered_tb \u001b[38;5;241m=\u001b[39m _process_traceback_frames(e\u001b[38;5;241m.\u001b[39m__traceback__)\n",
      "File \u001b[0;32m~/.local/lib/python3.8/site-packages/keras/engine/training.py:1650\u001b[0m, in \u001b[0;36mModel.fit\u001b[0;34m(self, x, y, batch_size, epochs, verbose, callbacks, validation_split, validation_data, shuffle, class_weight, sample_weight, initial_epoch, steps_per_epoch, validation_steps, validation_batch_size, validation_freq, max_queue_size, workers, use_multiprocessing)\u001b[0m\n\u001b[1;32m   1642\u001b[0m \u001b[38;5;28;01mwith\u001b[39;00m tf\u001b[38;5;241m.\u001b[39mprofiler\u001b[38;5;241m.\u001b[39mexperimental\u001b[38;5;241m.\u001b[39mTrace(\n\u001b[1;32m   1643\u001b[0m     \u001b[38;5;124m\"\u001b[39m\u001b[38;5;124mtrain\u001b[39m\u001b[38;5;124m\"\u001b[39m,\n\u001b[1;32m   1644\u001b[0m     epoch_num\u001b[38;5;241m=\u001b[39mepoch,\n\u001b[0;32m   (...)\u001b[0m\n\u001b[1;32m   1647\u001b[0m     _r\u001b[38;5;241m=\u001b[39m\u001b[38;5;241m1\u001b[39m,\n\u001b[1;32m   1648\u001b[0m ):\n\u001b[1;32m   1649\u001b[0m     callbacks\u001b[38;5;241m.\u001b[39mon_train_batch_begin(step)\n\u001b[0;32m-> 1650\u001b[0m     tmp_logs \u001b[38;5;241m=\u001b[39m \u001b[38;5;28;43mself\u001b[39;49m\u001b[38;5;241;43m.\u001b[39;49m\u001b[43mtrain_function\u001b[49m\u001b[43m(\u001b[49m\u001b[43miterator\u001b[49m\u001b[43m)\u001b[49m\n\u001b[1;32m   1651\u001b[0m     \u001b[38;5;28;01mif\u001b[39;00m data_handler\u001b[38;5;241m.\u001b[39mshould_sync:\n\u001b[1;32m   1652\u001b[0m         context\u001b[38;5;241m.\u001b[39masync_wait()\n",
      "File \u001b[0;32m~/.local/lib/python3.8/site-packages/tensorflow/python/util/traceback_utils.py:150\u001b[0m, in \u001b[0;36mfilter_traceback.<locals>.error_handler\u001b[0;34m(*args, **kwargs)\u001b[0m\n\u001b[1;32m    148\u001b[0m filtered_tb \u001b[38;5;241m=\u001b[39m \u001b[38;5;28;01mNone\u001b[39;00m\n\u001b[1;32m    149\u001b[0m \u001b[38;5;28;01mtry\u001b[39;00m:\n\u001b[0;32m--> 150\u001b[0m   \u001b[38;5;28;01mreturn\u001b[39;00m \u001b[43mfn\u001b[49m\u001b[43m(\u001b[49m\u001b[38;5;241;43m*\u001b[39;49m\u001b[43margs\u001b[49m\u001b[43m,\u001b[49m\u001b[43m \u001b[49m\u001b[38;5;241;43m*\u001b[39;49m\u001b[38;5;241;43m*\u001b[39;49m\u001b[43mkwargs\u001b[49m\u001b[43m)\u001b[49m\n\u001b[1;32m    151\u001b[0m \u001b[38;5;28;01mexcept\u001b[39;00m \u001b[38;5;167;01mException\u001b[39;00m \u001b[38;5;28;01mas\u001b[39;00m e:\n\u001b[1;32m    152\u001b[0m   filtered_tb \u001b[38;5;241m=\u001b[39m _process_traceback_frames(e\u001b[38;5;241m.\u001b[39m__traceback__)\n",
      "File \u001b[0;32m~/.local/lib/python3.8/site-packages/tensorflow/python/eager/polymorphic_function/polymorphic_function.py:880\u001b[0m, in \u001b[0;36mFunction.__call__\u001b[0;34m(self, *args, **kwds)\u001b[0m\n\u001b[1;32m    877\u001b[0m compiler \u001b[38;5;241m=\u001b[39m \u001b[38;5;124m\"\u001b[39m\u001b[38;5;124mxla\u001b[39m\u001b[38;5;124m\"\u001b[39m \u001b[38;5;28;01mif\u001b[39;00m \u001b[38;5;28mself\u001b[39m\u001b[38;5;241m.\u001b[39m_jit_compile \u001b[38;5;28;01melse\u001b[39;00m \u001b[38;5;124m\"\u001b[39m\u001b[38;5;124mnonXla\u001b[39m\u001b[38;5;124m\"\u001b[39m\n\u001b[1;32m    879\u001b[0m \u001b[38;5;28;01mwith\u001b[39;00m OptionalXlaContext(\u001b[38;5;28mself\u001b[39m\u001b[38;5;241m.\u001b[39m_jit_compile):\n\u001b[0;32m--> 880\u001b[0m   result \u001b[38;5;241m=\u001b[39m \u001b[38;5;28;43mself\u001b[39;49m\u001b[38;5;241;43m.\u001b[39;49m\u001b[43m_call\u001b[49m\u001b[43m(\u001b[49m\u001b[38;5;241;43m*\u001b[39;49m\u001b[43margs\u001b[49m\u001b[43m,\u001b[49m\u001b[43m \u001b[49m\u001b[38;5;241;43m*\u001b[39;49m\u001b[38;5;241;43m*\u001b[39;49m\u001b[43mkwds\u001b[49m\u001b[43m)\u001b[49m\n\u001b[1;32m    882\u001b[0m new_tracing_count \u001b[38;5;241m=\u001b[39m \u001b[38;5;28mself\u001b[39m\u001b[38;5;241m.\u001b[39mexperimental_get_tracing_count()\n\u001b[1;32m    883\u001b[0m without_tracing \u001b[38;5;241m=\u001b[39m (tracing_count \u001b[38;5;241m==\u001b[39m new_tracing_count)\n",
      "File \u001b[0;32m~/.local/lib/python3.8/site-packages/tensorflow/python/eager/polymorphic_function/polymorphic_function.py:912\u001b[0m, in \u001b[0;36mFunction._call\u001b[0;34m(self, *args, **kwds)\u001b[0m\n\u001b[1;32m    909\u001b[0m   \u001b[38;5;28mself\u001b[39m\u001b[38;5;241m.\u001b[39m_lock\u001b[38;5;241m.\u001b[39mrelease()\n\u001b[1;32m    910\u001b[0m   \u001b[38;5;66;03m# In this case we have created variables on the first call, so we run the\u001b[39;00m\n\u001b[1;32m    911\u001b[0m   \u001b[38;5;66;03m# defunned version which is guaranteed to never create variables.\u001b[39;00m\n\u001b[0;32m--> 912\u001b[0m   \u001b[38;5;28;01mreturn\u001b[39;00m \u001b[38;5;28;43mself\u001b[39;49m\u001b[38;5;241;43m.\u001b[39;49m\u001b[43m_no_variable_creation_fn\u001b[49m\u001b[43m(\u001b[49m\u001b[38;5;241;43m*\u001b[39;49m\u001b[43margs\u001b[49m\u001b[43m,\u001b[49m\u001b[43m \u001b[49m\u001b[38;5;241;43m*\u001b[39;49m\u001b[38;5;241;43m*\u001b[39;49m\u001b[43mkwds\u001b[49m\u001b[43m)\u001b[49m  \u001b[38;5;66;03m# pylint: disable=not-callable\u001b[39;00m\n\u001b[1;32m    913\u001b[0m \u001b[38;5;28;01melif\u001b[39;00m \u001b[38;5;28mself\u001b[39m\u001b[38;5;241m.\u001b[39m_variable_creation_fn \u001b[38;5;129;01mis\u001b[39;00m \u001b[38;5;129;01mnot\u001b[39;00m \u001b[38;5;28;01mNone\u001b[39;00m:\n\u001b[1;32m    914\u001b[0m   \u001b[38;5;66;03m# Release the lock early so that multiple threads can perform the call\u001b[39;00m\n\u001b[1;32m    915\u001b[0m   \u001b[38;5;66;03m# in parallel.\u001b[39;00m\n\u001b[1;32m    916\u001b[0m   \u001b[38;5;28mself\u001b[39m\u001b[38;5;241m.\u001b[39m_lock\u001b[38;5;241m.\u001b[39mrelease()\n",
      "File \u001b[0;32m~/.local/lib/python3.8/site-packages/tensorflow/python/eager/polymorphic_function/tracing_compiler.py:134\u001b[0m, in \u001b[0;36mTracingCompiler.__call__\u001b[0;34m(self, *args, **kwargs)\u001b[0m\n\u001b[1;32m    131\u001b[0m \u001b[38;5;28;01mwith\u001b[39;00m \u001b[38;5;28mself\u001b[39m\u001b[38;5;241m.\u001b[39m_lock:\n\u001b[1;32m    132\u001b[0m   (concrete_function,\n\u001b[1;32m    133\u001b[0m    filtered_flat_args) \u001b[38;5;241m=\u001b[39m \u001b[38;5;28mself\u001b[39m\u001b[38;5;241m.\u001b[39m_maybe_define_function(args, kwargs)\n\u001b[0;32m--> 134\u001b[0m \u001b[38;5;28;01mreturn\u001b[39;00m \u001b[43mconcrete_function\u001b[49m\u001b[38;5;241;43m.\u001b[39;49m\u001b[43m_call_flat\u001b[49m\u001b[43m(\u001b[49m\n\u001b[1;32m    135\u001b[0m \u001b[43m    \u001b[49m\u001b[43mfiltered_flat_args\u001b[49m\u001b[43m,\u001b[49m\u001b[43m \u001b[49m\u001b[43mcaptured_inputs\u001b[49m\u001b[38;5;241;43m=\u001b[39;49m\u001b[43mconcrete_function\u001b[49m\u001b[38;5;241;43m.\u001b[39;49m\u001b[43mcaptured_inputs\u001b[49m\u001b[43m)\u001b[49m\n",
      "File \u001b[0;32m~/.local/lib/python3.8/site-packages/tensorflow/python/eager/polymorphic_function/monomorphic_function.py:1745\u001b[0m, in \u001b[0;36mConcreteFunction._call_flat\u001b[0;34m(self, args, captured_inputs, cancellation_manager)\u001b[0m\n\u001b[1;32m   1741\u001b[0m possible_gradient_type \u001b[38;5;241m=\u001b[39m gradients_util\u001b[38;5;241m.\u001b[39mPossibleTapeGradientTypes(args)\n\u001b[1;32m   1742\u001b[0m \u001b[38;5;28;01mif\u001b[39;00m (possible_gradient_type \u001b[38;5;241m==\u001b[39m gradients_util\u001b[38;5;241m.\u001b[39mPOSSIBLE_GRADIENT_TYPES_NONE\n\u001b[1;32m   1743\u001b[0m     \u001b[38;5;129;01mand\u001b[39;00m executing_eagerly):\n\u001b[1;32m   1744\u001b[0m   \u001b[38;5;66;03m# No tape is watching; skip to running the function.\u001b[39;00m\n\u001b[0;32m-> 1745\u001b[0m   \u001b[38;5;28;01mreturn\u001b[39;00m \u001b[38;5;28mself\u001b[39m\u001b[38;5;241m.\u001b[39m_build_call_outputs(\u001b[38;5;28;43mself\u001b[39;49m\u001b[38;5;241;43m.\u001b[39;49m\u001b[43m_inference_function\u001b[49m\u001b[38;5;241;43m.\u001b[39;49m\u001b[43mcall\u001b[49m\u001b[43m(\u001b[49m\n\u001b[1;32m   1746\u001b[0m \u001b[43m      \u001b[49m\u001b[43mctx\u001b[49m\u001b[43m,\u001b[49m\u001b[43m \u001b[49m\u001b[43margs\u001b[49m\u001b[43m,\u001b[49m\u001b[43m \u001b[49m\u001b[43mcancellation_manager\u001b[49m\u001b[38;5;241;43m=\u001b[39;49m\u001b[43mcancellation_manager\u001b[49m\u001b[43m)\u001b[49m)\n\u001b[1;32m   1747\u001b[0m forward_backward \u001b[38;5;241m=\u001b[39m \u001b[38;5;28mself\u001b[39m\u001b[38;5;241m.\u001b[39m_select_forward_and_backward_functions(\n\u001b[1;32m   1748\u001b[0m     args,\n\u001b[1;32m   1749\u001b[0m     possible_gradient_type,\n\u001b[1;32m   1750\u001b[0m     executing_eagerly)\n\u001b[1;32m   1751\u001b[0m forward_function, args_with_tangents \u001b[38;5;241m=\u001b[39m forward_backward\u001b[38;5;241m.\u001b[39mforward()\n",
      "File \u001b[0;32m~/.local/lib/python3.8/site-packages/tensorflow/python/eager/polymorphic_function/monomorphic_function.py:378\u001b[0m, in \u001b[0;36m_EagerDefinedFunction.call\u001b[0;34m(self, ctx, args, cancellation_manager)\u001b[0m\n\u001b[1;32m    376\u001b[0m \u001b[38;5;28;01mwith\u001b[39;00m _InterpolateFunctionError(\u001b[38;5;28mself\u001b[39m):\n\u001b[1;32m    377\u001b[0m   \u001b[38;5;28;01mif\u001b[39;00m cancellation_manager \u001b[38;5;129;01mis\u001b[39;00m \u001b[38;5;28;01mNone\u001b[39;00m:\n\u001b[0;32m--> 378\u001b[0m     outputs \u001b[38;5;241m=\u001b[39m \u001b[43mexecute\u001b[49m\u001b[38;5;241;43m.\u001b[39;49m\u001b[43mexecute\u001b[49m\u001b[43m(\u001b[49m\n\u001b[1;32m    379\u001b[0m \u001b[43m        \u001b[49m\u001b[38;5;28;43mstr\u001b[39;49m\u001b[43m(\u001b[49m\u001b[38;5;28;43mself\u001b[39;49m\u001b[38;5;241;43m.\u001b[39;49m\u001b[43msignature\u001b[49m\u001b[38;5;241;43m.\u001b[39;49m\u001b[43mname\u001b[49m\u001b[43m)\u001b[49m\u001b[43m,\u001b[49m\n\u001b[1;32m    380\u001b[0m \u001b[43m        \u001b[49m\u001b[43mnum_outputs\u001b[49m\u001b[38;5;241;43m=\u001b[39;49m\u001b[38;5;28;43mself\u001b[39;49m\u001b[38;5;241;43m.\u001b[39;49m\u001b[43m_num_outputs\u001b[49m\u001b[43m,\u001b[49m\n\u001b[1;32m    381\u001b[0m \u001b[43m        \u001b[49m\u001b[43minputs\u001b[49m\u001b[38;5;241;43m=\u001b[39;49m\u001b[43margs\u001b[49m\u001b[43m,\u001b[49m\n\u001b[1;32m    382\u001b[0m \u001b[43m        \u001b[49m\u001b[43mattrs\u001b[49m\u001b[38;5;241;43m=\u001b[39;49m\u001b[43mattrs\u001b[49m\u001b[43m,\u001b[49m\n\u001b[1;32m    383\u001b[0m \u001b[43m        \u001b[49m\u001b[43mctx\u001b[49m\u001b[38;5;241;43m=\u001b[39;49m\u001b[43mctx\u001b[49m\u001b[43m)\u001b[49m\n\u001b[1;32m    384\u001b[0m   \u001b[38;5;28;01melse\u001b[39;00m:\n\u001b[1;32m    385\u001b[0m     outputs \u001b[38;5;241m=\u001b[39m execute\u001b[38;5;241m.\u001b[39mexecute_with_cancellation(\n\u001b[1;32m    386\u001b[0m         \u001b[38;5;28mstr\u001b[39m(\u001b[38;5;28mself\u001b[39m\u001b[38;5;241m.\u001b[39msignature\u001b[38;5;241m.\u001b[39mname),\n\u001b[1;32m    387\u001b[0m         num_outputs\u001b[38;5;241m=\u001b[39m\u001b[38;5;28mself\u001b[39m\u001b[38;5;241m.\u001b[39m_num_outputs,\n\u001b[0;32m   (...)\u001b[0m\n\u001b[1;32m    390\u001b[0m         ctx\u001b[38;5;241m=\u001b[39mctx,\n\u001b[1;32m    391\u001b[0m         cancellation_manager\u001b[38;5;241m=\u001b[39mcancellation_manager)\n",
      "File \u001b[0;32m~/.local/lib/python3.8/site-packages/tensorflow/python/eager/execute.py:52\u001b[0m, in \u001b[0;36mquick_execute\u001b[0;34m(op_name, num_outputs, inputs, attrs, ctx, name)\u001b[0m\n\u001b[1;32m     50\u001b[0m \u001b[38;5;28;01mtry\u001b[39;00m:\n\u001b[1;32m     51\u001b[0m   ctx\u001b[38;5;241m.\u001b[39mensure_initialized()\n\u001b[0;32m---> 52\u001b[0m   tensors \u001b[38;5;241m=\u001b[39m \u001b[43mpywrap_tfe\u001b[49m\u001b[38;5;241;43m.\u001b[39;49m\u001b[43mTFE_Py_Execute\u001b[49m\u001b[43m(\u001b[49m\u001b[43mctx\u001b[49m\u001b[38;5;241;43m.\u001b[39;49m\u001b[43m_handle\u001b[49m\u001b[43m,\u001b[49m\u001b[43m \u001b[49m\u001b[43mdevice_name\u001b[49m\u001b[43m,\u001b[49m\u001b[43m \u001b[49m\u001b[43mop_name\u001b[49m\u001b[43m,\u001b[49m\n\u001b[1;32m     53\u001b[0m \u001b[43m                                      \u001b[49m\u001b[43minputs\u001b[49m\u001b[43m,\u001b[49m\u001b[43m \u001b[49m\u001b[43mattrs\u001b[49m\u001b[43m,\u001b[49m\u001b[43m \u001b[49m\u001b[43mnum_outputs\u001b[49m\u001b[43m)\u001b[49m\n\u001b[1;32m     54\u001b[0m \u001b[38;5;28;01mexcept\u001b[39;00m core\u001b[38;5;241m.\u001b[39m_NotOkStatusException \u001b[38;5;28;01mas\u001b[39;00m e:\n\u001b[1;32m     55\u001b[0m   \u001b[38;5;28;01mif\u001b[39;00m name \u001b[38;5;129;01mis\u001b[39;00m \u001b[38;5;129;01mnot\u001b[39;00m \u001b[38;5;28;01mNone\u001b[39;00m:\n",
      "\u001b[0;31mKeyboardInterrupt\u001b[0m: "
     ]
    }
   ],
   "source": [
    "### We build the CNN model (Without PreTrain)\n",
    "from keras.models import Sequential\n",
    "from keras.layers import Dense, Conv2D, MaxPool2D, GlobalMaxPooling2D, Flatten, BatchNormalization, Dropout\n",
    "import tensorflow as tf\n",
    "\n",
    "strategy = tf.distribute.MirroredStrategy()\n",
    "with strategy.scope():\n",
    "    ## Create model\n",
    "    model = Sequential()\n",
    "    ## Add model layers\n",
    "    # Block 1\n",
    "    model.add(Conv2D(64, kernel_size=3, activation='relu', input_shape=(127,64,1), padding='same'))\n",
    "    model.add(BatchNormalization())\n",
    "    model.add(Conv2D(64, kernel_size=3, activation='relu', padding='same'))\n",
    "    model.add(BatchNormalization())\n",
    "    model.add(MaxPool2D((2, 2)))\n",
    "\n",
    "    # Block 2\n",
    "    model.add(Conv2D(128, kernel_size=3, activation='relu', padding='same'))\n",
    "    model.add(BatchNormalization())\n",
    "    model.add(Conv2D(128, kernel_size=3, activation='relu', padding='same'))\n",
    "    model.add(BatchNormalization())\n",
    "    model.add(MaxPool2D((2, 2)))\n",
    "\n",
    "    # Block 3\n",
    "    model.add(Conv2D(256, kernel_size=3, activation='relu', padding='same'))\n",
    "    model.add(BatchNormalization())\n",
    "    model.add(Conv2D(256, kernel_size=3, activation='relu', padding='same'))\n",
    "    model.add(BatchNormalization())\n",
    "    model.add(MaxPool2D((2, 2)))\n",
    "\n",
    "    # Block 4\n",
    "    model.add(Conv2D(512, kernel_size=3, activation='relu', padding='same'))\n",
    "    model.add(BatchNormalization())\n",
    "    model.add(Conv2D(512, kernel_size=3, activation='relu', padding='same'))\n",
    "    model.add(BatchNormalization())\n",
    "    model.add(MaxPool2D((2, 2)))\n",
    "\n",
    "    # Last max pool layer\n",
    "    model.add(GlobalMaxPooling2D())\n",
    "\n",
    "    # Fully connected layer and Output layer with softmax activation function\n",
    "    model.add(Flatten())\n",
    "    #model.add(Dense(units=512,activation=\"relu\"))\n",
    "    #model.add(Dense(units=256,activation=\"relu\"))\n",
    "    model.add(Dense(10, activation='softmax'))\n",
    "\n",
    "model.summary()\n",
    "\n",
    "## Compile model using accuracy to measure model performance, corossentropy as loss measure and adam as optimizer.\n",
    "model.compile(optimizer='adam', loss='categorical_crossentropy', metrics=['accuracy'])\n",
    "\n",
    "## We train the model\n",
    "hist = model.fit(X_train, y_train, validation_data = (X_validate,y_validate), epochs=60, batch_size=64)"
   ]
  },
  {
   "cell_type": "code",
   "execution_count": 3,
   "id": "f9012b62-21f2-4007-af1b-8abb5916f957",
   "metadata": {
    "tags": []
   },
   "outputs": [
    {
     "name": "stdout",
     "output_type": "stream",
     "text": [
      "WARNING:tensorflow:There are non-GPU devices in `tf.distribute.Strategy`, not using nccl allreduce.\n",
      "INFO:tensorflow:Using MirroredStrategy with devices ('/job:localhost/replica:0/task:0/device:CPU:0',)\n",
      "Model: \"sequential_1\"\n",
      "_________________________________________________________________\n",
      " Layer (type)                Output Shape              Param #   \n",
      "=================================================================\n",
      " conv2d_8 (Conv2D)           (None, 127, 64, 64)       640       \n",
      "                                                                 \n",
      " batch_normalization_8 (Batc  (None, 127, 64, 64)      256       \n",
      " hNormalization)                                                 \n",
      "                                                                 \n",
      " conv2d_9 (Conv2D)           (None, 127, 64, 64)       36928     \n",
      "                                                                 \n",
      " batch_normalization_9 (Batc  (None, 127, 64, 64)      256       \n",
      " hNormalization)                                                 \n",
      "                                                                 \n",
      " max_pooling2d_4 (MaxPooling  (None, 63, 32, 64)       0         \n",
      " 2D)                                                             \n",
      "                                                                 \n",
      " conv2d_10 (Conv2D)          (None, 63, 32, 128)       73856     \n",
      "                                                                 \n",
      " batch_normalization_10 (Bat  (None, 63, 32, 128)      512       \n",
      " chNormalization)                                                \n",
      "                                                                 \n",
      " conv2d_11 (Conv2D)          (None, 63, 32, 128)       147584    \n",
      "                                                                 \n",
      " batch_normalization_11 (Bat  (None, 63, 32, 128)      512       \n",
      " chNormalization)                                                \n",
      "                                                                 \n",
      " max_pooling2d_5 (MaxPooling  (None, 31, 16, 128)      0         \n",
      " 2D)                                                             \n",
      "                                                                 \n",
      " conv2d_12 (Conv2D)          (None, 31, 16, 256)       295168    \n",
      "                                                                 \n",
      " batch_normalization_12 (Bat  (None, 31, 16, 256)      1024      \n",
      " chNormalization)                                                \n",
      "                                                                 \n",
      " conv2d_13 (Conv2D)          (None, 31, 16, 256)       590080    \n",
      "                                                                 \n",
      " batch_normalization_13 (Bat  (None, 31, 16, 256)      1024      \n",
      " chNormalization)                                                \n",
      "                                                                 \n",
      " max_pooling2d_6 (MaxPooling  (None, 15, 8, 256)       0         \n",
      " 2D)                                                             \n",
      "                                                                 \n",
      " conv2d_14 (Conv2D)          (None, 15, 8, 512)        1180160   \n",
      "                                                                 \n",
      " batch_normalization_14 (Bat  (None, 15, 8, 512)       2048      \n",
      " chNormalization)                                                \n",
      "                                                                 \n",
      " conv2d_15 (Conv2D)          (None, 15, 8, 512)        2359808   \n",
      "                                                                 \n",
      " batch_normalization_15 (Bat  (None, 15, 8, 512)       2048      \n",
      " chNormalization)                                                \n",
      "                                                                 \n",
      " max_pooling2d_7 (MaxPooling  (None, 7, 4, 512)        0         \n",
      " 2D)                                                             \n",
      "                                                                 \n",
      " global_max_pooling2d_1 (Glo  (None, 512)              0         \n",
      " balMaxPooling2D)                                                \n",
      "                                                                 \n",
      " flatten_1 (Flatten)         (None, 512)               0         \n",
      "                                                                 \n",
      " dense_1 (Dense)             (None, 10)                5130      \n",
      "                                                                 \n",
      "=================================================================\n",
      "Total params: 4,697,034\n",
      "Trainable params: 4,693,194\n",
      "Non-trainable params: 3,840\n",
      "_________________________________________________________________\n",
      "Fold 1\n",
      "Epoch 1/10\n"
     ]
    },
    {
     "name": "stderr",
     "output_type": "stream",
     "text": [
      "2023-04-13 23:16:19.805977: W tensorflow/core/framework/dataset.cc:769] Input of GeneratorDatasetOp::Dataset will not be optimized because the dataset does not implement the AsGraphDefInternal() method needed to apply optimizations.\n"
     ]
    },
    {
     "name": "stdout",
     "output_type": "stream",
     "text": [
      "117/117 [==============================] - ETA: 0s - loss: 2.0825 - accuracy: 0.3343"
     ]
    },
    {
     "name": "stderr",
     "output_type": "stream",
     "text": [
      "2023-04-13 23:17:23.124559: W tensorflow/core/framework/dataset.cc:769] Input of GeneratorDatasetOp::Dataset will not be optimized because the dataset does not implement the AsGraphDefInternal() method needed to apply optimizations.\n"
     ]
    },
    {
     "name": "stdout",
     "output_type": "stream",
     "text": [
      "117/117 [==============================] - 67s 537ms/step - loss: 2.0825 - accuracy: 0.3343 - val_loss: 3.8595 - val_accuracy: 0.1171\n",
      "Epoch 2/10\n",
      "117/117 [==============================] - ETA: 0s - loss: 1.3341 - accuracy: 0.5263"
     ]
    },
    {
     "name": "stderr",
     "output_type": "stream",
     "text": [
      "2023-04-13 23:18:26.529352: W tensorflow/core/framework/dataset.cc:769] Input of GeneratorDatasetOp::Dataset will not be optimized because the dataset does not implement the AsGraphDefInternal() method needed to apply optimizations.\n"
     ]
    },
    {
     "name": "stdout",
     "output_type": "stream",
     "text": [
      "117/117 [==============================] - 62s 531ms/step - loss: 1.3341 - accuracy: 0.5263 - val_loss: 2.5678 - val_accuracy: 0.2874\n",
      "Epoch 3/10\n",
      "117/117 [==============================] - ETA: 0s - loss: 1.0206 - accuracy: 0.6489"
     ]
    },
    {
     "name": "stderr",
     "output_type": "stream",
     "text": [
      "2023-04-13 23:19:27.639304: W tensorflow/core/framework/dataset.cc:769] Input of GeneratorDatasetOp::Dataset will not be optimized because the dataset does not implement the AsGraphDefInternal() method needed to apply optimizations.\n"
     ]
    },
    {
     "name": "stdout",
     "output_type": "stream",
     "text": [
      "117/117 [==============================] - 61s 522ms/step - loss: 1.0206 - accuracy: 0.6489 - val_loss: 3.6144 - val_accuracy: 0.2826\n",
      "Epoch 4/10\n",
      "117/117 [==============================] - ETA: 0s - loss: 0.8162 - accuracy: 0.7240"
     ]
    },
    {
     "name": "stderr",
     "output_type": "stream",
     "text": [
      "2023-04-13 23:20:28.843627: W tensorflow/core/framework/dataset.cc:769] Input of GeneratorDatasetOp::Dataset will not be optimized because the dataset does not implement the AsGraphDefInternal() method needed to apply optimizations.\n"
     ]
    },
    {
     "name": "stdout",
     "output_type": "stream",
     "text": [
      "117/117 [==============================] - 61s 523ms/step - loss: 0.8162 - accuracy: 0.7240 - val_loss: 1.4015 - val_accuracy: 0.5954\n",
      "Epoch 5/10\n",
      "117/117 [==============================] - ETA: 0s - loss: 0.6699 - accuracy: 0.7729"
     ]
    },
    {
     "name": "stderr",
     "output_type": "stream",
     "text": [
      "2023-04-13 23:21:30.370549: W tensorflow/core/framework/dataset.cc:769] Input of GeneratorDatasetOp::Dataset will not be optimized because the dataset does not implement the AsGraphDefInternal() method needed to apply optimizations.\n"
     ]
    },
    {
     "name": "stdout",
     "output_type": "stream",
     "text": [
      "117/117 [==============================] - 61s 526ms/step - loss: 0.6699 - accuracy: 0.7729 - val_loss: 1.1853 - val_accuracy: 0.6316\n",
      "Epoch 6/10\n",
      "117/117 [==============================] - ETA: 0s - loss: 0.5627 - accuracy: 0.8095"
     ]
    },
    {
     "name": "stderr",
     "output_type": "stream",
     "text": [
      "2023-04-13 23:22:31.680354: W tensorflow/core/framework/dataset.cc:769] Input of GeneratorDatasetOp::Dataset will not be optimized because the dataset does not implement the AsGraphDefInternal() method needed to apply optimizations.\n"
     ]
    },
    {
     "name": "stdout",
     "output_type": "stream",
     "text": [
      "117/117 [==============================] - 61s 524ms/step - loss: 0.5627 - accuracy: 0.8095 - val_loss: 2.5656 - val_accuracy: 0.4312\n",
      "Epoch 7/10\n",
      "117/117 [==============================] - ETA: 0s - loss: 0.4358 - accuracy: 0.8514"
     ]
    },
    {
     "name": "stderr",
     "output_type": "stream",
     "text": [
      "2023-04-13 23:23:32.753053: W tensorflow/core/framework/dataset.cc:769] Input of GeneratorDatasetOp::Dataset will not be optimized because the dataset does not implement the AsGraphDefInternal() method needed to apply optimizations.\n"
     ]
    },
    {
     "name": "stdout",
     "output_type": "stream",
     "text": [
      "117/117 [==============================] - 61s 523ms/step - loss: 0.4358 - accuracy: 0.8514 - val_loss: 1.8260 - val_accuracy: 0.5700\n",
      "Epoch 8/10\n",
      "117/117 [==============================] - ETA: 0s - loss: 0.3486 - accuracy: 0.8764"
     ]
    },
    {
     "name": "stderr",
     "output_type": "stream",
     "text": [
      "2023-04-13 23:24:34.035698: W tensorflow/core/framework/dataset.cc:769] Input of GeneratorDatasetOp::Dataset will not be optimized because the dataset does not implement the AsGraphDefInternal() method needed to apply optimizations.\n"
     ]
    },
    {
     "name": "stdout",
     "output_type": "stream",
     "text": [
      "117/117 [==============================] - 61s 524ms/step - loss: 0.3486 - accuracy: 0.8764 - val_loss: 1.3447 - val_accuracy: 0.5990\n",
      "Epoch 9/10\n",
      "117/117 [==============================] - ETA: 0s - loss: 0.3008 - accuracy: 0.8947"
     ]
    },
    {
     "name": "stderr",
     "output_type": "stream",
     "text": [
      "2023-04-13 23:25:35.559465: W tensorflow/core/framework/dataset.cc:769] Input of GeneratorDatasetOp::Dataset will not be optimized because the dataset does not implement the AsGraphDefInternal() method needed to apply optimizations.\n"
     ]
    },
    {
     "name": "stdout",
     "output_type": "stream",
     "text": [
      "117/117 [==============================] - 61s 526ms/step - loss: 0.3008 - accuracy: 0.8947 - val_loss: 1.7941 - val_accuracy: 0.5713\n",
      "Epoch 10/10\n",
      "117/117 [==============================] - ETA: 0s - loss: 0.2922 - accuracy: 0.8997"
     ]
    },
    {
     "name": "stderr",
     "output_type": "stream",
     "text": [
      "2023-04-13 23:26:36.728850: W tensorflow/core/framework/dataset.cc:769] Input of GeneratorDatasetOp::Dataset will not be optimized because the dataset does not implement the AsGraphDefInternal() method needed to apply optimizations.\n"
     ]
    },
    {
     "name": "stdout",
     "output_type": "stream",
     "text": [
      "117/117 [==============================] - 61s 523ms/step - loss: 0.2922 - accuracy: 0.8997 - val_loss: 9.0301 - val_accuracy: 0.2959\n",
      "Fold 2\n",
      "Epoch 1/10\n",
      "117/117 [==============================] - ETA: 0s - loss: 0.3245 - accuracy: 0.8915"
     ]
    },
    {
     "name": "stderr",
     "output_type": "stream",
     "text": [
      "2023-04-13 23:27:38.402320: W tensorflow/core/framework/dataset.cc:769] Input of GeneratorDatasetOp::Dataset will not be optimized because the dataset does not implement the AsGraphDefInternal() method needed to apply optimizations.\n"
     ]
    },
    {
     "name": "stdout",
     "output_type": "stream",
     "text": [
      "117/117 [==============================] - 61s 524ms/step - loss: 0.3245 - accuracy: 0.8915 - val_loss: 6.1312 - val_accuracy: 0.3345\n",
      "Epoch 2/10\n",
      "117/117 [==============================] - ETA: 0s - loss: 0.1827 - accuracy: 0.9361"
     ]
    },
    {
     "name": "stderr",
     "output_type": "stream",
     "text": [
      "2023-04-13 23:28:39.509722: W tensorflow/core/framework/dataset.cc:769] Input of GeneratorDatasetOp::Dataset will not be optimized because the dataset does not implement the AsGraphDefInternal() method needed to apply optimizations.\n"
     ]
    },
    {
     "name": "stdout",
     "output_type": "stream",
     "text": [
      "117/117 [==============================] - 61s 522ms/step - loss: 0.1827 - accuracy: 0.9361 - val_loss: 1.9641 - val_accuracy: 0.6389\n",
      "Epoch 3/10\n",
      "117/117 [==============================] - ETA: 0s - loss: 0.1558 - accuracy: 0.9467"
     ]
    },
    {
     "name": "stderr",
     "output_type": "stream",
     "text": [
      "2023-04-13 23:29:40.816247: W tensorflow/core/framework/dataset.cc:769] Input of GeneratorDatasetOp::Dataset will not be optimized because the dataset does not implement the AsGraphDefInternal() method needed to apply optimizations.\n"
     ]
    },
    {
     "name": "stdout",
     "output_type": "stream",
     "text": [
      "117/117 [==============================] - 61s 525ms/step - loss: 0.1558 - accuracy: 0.9467 - val_loss: 0.6214 - val_accuracy: 0.8152\n",
      "Epoch 4/10\n",
      "117/117 [==============================] - ETA: 0s - loss: 0.0991 - accuracy: 0.9698"
     ]
    },
    {
     "name": "stderr",
     "output_type": "stream",
     "text": [
      "2023-04-13 23:30:41.967971: W tensorflow/core/framework/dataset.cc:769] Input of GeneratorDatasetOp::Dataset will not be optimized because the dataset does not implement the AsGraphDefInternal() method needed to apply optimizations.\n"
     ]
    },
    {
     "name": "stdout",
     "output_type": "stream",
     "text": [
      "117/117 [==============================] - 61s 523ms/step - loss: 0.0991 - accuracy: 0.9698 - val_loss: 4.7286 - val_accuracy: 0.4263\n",
      "Epoch 5/10\n",
      "117/117 [==============================] - ETA: 0s - loss: 0.1019 - accuracy: 0.9660"
     ]
    },
    {
     "name": "stderr",
     "output_type": "stream",
     "text": [
      "2023-04-13 23:31:43.751759: W tensorflow/core/framework/dataset.cc:769] Input of GeneratorDatasetOp::Dataset will not be optimized because the dataset does not implement the AsGraphDefInternal() method needed to apply optimizations.\n"
     ]
    },
    {
     "name": "stdout",
     "output_type": "stream",
     "text": [
      "117/117 [==============================] - 62s 528ms/step - loss: 0.1019 - accuracy: 0.9660 - val_loss: 2.4492 - val_accuracy: 0.5543\n",
      "Epoch 6/10\n",
      "117/117 [==============================] - ETA: 0s - loss: 0.0770 - accuracy: 0.9745"
     ]
    },
    {
     "name": "stderr",
     "output_type": "stream",
     "text": [
      "2023-04-13 23:32:44.761215: W tensorflow/core/framework/dataset.cc:769] Input of GeneratorDatasetOp::Dataset will not be optimized because the dataset does not implement the AsGraphDefInternal() method needed to apply optimizations.\n"
     ]
    },
    {
     "name": "stdout",
     "output_type": "stream",
     "text": [
      "117/117 [==============================] - 61s 522ms/step - loss: 0.0770 - accuracy: 0.9745 - val_loss: 1.0332 - val_accuracy: 0.7681\n",
      "Epoch 7/10\n",
      "117/117 [==============================] - ETA: 0s - loss: 0.1040 - accuracy: 0.9647"
     ]
    },
    {
     "name": "stderr",
     "output_type": "stream",
     "text": [
      "2023-04-13 23:33:45.913926: W tensorflow/core/framework/dataset.cc:769] Input of GeneratorDatasetOp::Dataset will not be optimized because the dataset does not implement the AsGraphDefInternal() method needed to apply optimizations.\n"
     ]
    },
    {
     "name": "stdout",
     "output_type": "stream",
     "text": [
      "117/117 [==============================] - 61s 523ms/step - loss: 0.1040 - accuracy: 0.9647 - val_loss: 0.7209 - val_accuracy: 0.7911\n",
      "Epoch 8/10\n",
      "117/117 [==============================] - ETA: 0s - loss: 0.0845 - accuracy: 0.9727"
     ]
    },
    {
     "name": "stderr",
     "output_type": "stream",
     "text": [
      "2023-04-13 23:34:47.053902: W tensorflow/core/framework/dataset.cc:769] Input of GeneratorDatasetOp::Dataset will not be optimized because the dataset does not implement the AsGraphDefInternal() method needed to apply optimizations.\n"
     ]
    },
    {
     "name": "stdout",
     "output_type": "stream",
     "text": [
      "117/117 [==============================] - 61s 523ms/step - loss: 0.0845 - accuracy: 0.9727 - val_loss: 1.4949 - val_accuracy: 0.6884\n",
      "Epoch 9/10\n",
      "117/117 [==============================] - ETA: 0s - loss: 0.0567 - accuracy: 0.9835"
     ]
    },
    {
     "name": "stderr",
     "output_type": "stream",
     "text": [
      "2023-04-13 23:35:48.018542: W tensorflow/core/framework/dataset.cc:769] Input of GeneratorDatasetOp::Dataset will not be optimized because the dataset does not implement the AsGraphDefInternal() method needed to apply optimizations.\n"
     ]
    },
    {
     "name": "stdout",
     "output_type": "stream",
     "text": [
      "117/117 [==============================] - 61s 520ms/step - loss: 0.0567 - accuracy: 0.9835 - val_loss: 3.0855 - val_accuracy: 0.5362\n",
      "Epoch 10/10\n",
      "117/117 [==============================] - ETA: 0s - loss: 0.0937 - accuracy: 0.9676"
     ]
    },
    {
     "name": "stderr",
     "output_type": "stream",
     "text": [
      "2023-04-13 23:36:49.517254: W tensorflow/core/framework/dataset.cc:769] Input of GeneratorDatasetOp::Dataset will not be optimized because the dataset does not implement the AsGraphDefInternal() method needed to apply optimizations.\n"
     ]
    },
    {
     "name": "stdout",
     "output_type": "stream",
     "text": [
      "117/117 [==============================] - 61s 525ms/step - loss: 0.0937 - accuracy: 0.9676 - val_loss: 0.7509 - val_accuracy: 0.8056\n",
      "Fold 3\n",
      "Epoch 1/10\n",
      "117/117 [==============================] - ETA: 0s - loss: 0.1894 - accuracy: 0.9405"
     ]
    },
    {
     "name": "stderr",
     "output_type": "stream",
     "text": [
      "2023-04-13 23:37:51.254139: W tensorflow/core/framework/dataset.cc:769] Input of GeneratorDatasetOp::Dataset will not be optimized because the dataset does not implement the AsGraphDefInternal() method needed to apply optimizations.\n"
     ]
    },
    {
     "name": "stdout",
     "output_type": "stream",
     "text": [
      "117/117 [==============================] - 61s 525ms/step - loss: 0.1894 - accuracy: 0.9405 - val_loss: 1.5455 - val_accuracy: 0.6763\n",
      "Epoch 2/10\n",
      "117/117 [==============================] - ETA: 0s - loss: 0.1229 - accuracy: 0.9601"
     ]
    },
    {
     "name": "stderr",
     "output_type": "stream",
     "text": [
      "2023-04-13 23:38:52.783275: W tensorflow/core/framework/dataset.cc:769] Input of GeneratorDatasetOp::Dataset will not be optimized because the dataset does not implement the AsGraphDefInternal() method needed to apply optimizations.\n"
     ]
    },
    {
     "name": "stdout",
     "output_type": "stream",
     "text": [
      "117/117 [==============================] - 61s 526ms/step - loss: 0.1229 - accuracy: 0.9601 - val_loss: 1.1092 - val_accuracy: 0.7319\n",
      "Epoch 3/10\n",
      "117/117 [==============================] - ETA: 0s - loss: 0.0709 - accuracy: 0.9773"
     ]
    },
    {
     "name": "stderr",
     "output_type": "stream",
     "text": [
      "2023-04-13 23:39:54.165937: W tensorflow/core/framework/dataset.cc:769] Input of GeneratorDatasetOp::Dataset will not be optimized because the dataset does not implement the AsGraphDefInternal() method needed to apply optimizations.\n"
     ]
    },
    {
     "name": "stdout",
     "output_type": "stream",
     "text": [
      "117/117 [==============================] - 61s 525ms/step - loss: 0.0709 - accuracy: 0.9773 - val_loss: 2.3768 - val_accuracy: 0.5906\n",
      "Epoch 4/10\n",
      "117/117 [==============================] - ETA: 0s - loss: 0.0366 - accuracy: 0.9899"
     ]
    },
    {
     "name": "stderr",
     "output_type": "stream",
     "text": [
      "2023-04-13 23:40:55.564865: W tensorflow/core/framework/dataset.cc:769] Input of GeneratorDatasetOp::Dataset will not be optimized because the dataset does not implement the AsGraphDefInternal() method needed to apply optimizations.\n"
     ]
    },
    {
     "name": "stdout",
     "output_type": "stream",
     "text": [
      "117/117 [==============================] - 61s 525ms/step - loss: 0.0366 - accuracy: 0.9899 - val_loss: 0.4647 - val_accuracy: 0.8623\n",
      "Epoch 5/10\n",
      "117/117 [==============================] - ETA: 0s - loss: 0.0359 - accuracy: 0.9889"
     ]
    },
    {
     "name": "stderr",
     "output_type": "stream",
     "text": [
      "2023-04-13 23:41:57.049347: W tensorflow/core/framework/dataset.cc:769] Input of GeneratorDatasetOp::Dataset will not be optimized because the dataset does not implement the AsGraphDefInternal() method needed to apply optimizations.\n"
     ]
    },
    {
     "name": "stdout",
     "output_type": "stream",
     "text": [
      "117/117 [==============================] - 61s 526ms/step - loss: 0.0359 - accuracy: 0.9889 - val_loss: 0.6384 - val_accuracy: 0.8370\n",
      "Epoch 6/10\n",
      "117/117 [==============================] - ETA: 0s - loss: 0.1559 - accuracy: 0.9515"
     ]
    },
    {
     "name": "stderr",
     "output_type": "stream",
     "text": [
      "2023-04-13 23:42:58.243141: W tensorflow/core/framework/dataset.cc:769] Input of GeneratorDatasetOp::Dataset will not be optimized because the dataset does not implement the AsGraphDefInternal() method needed to apply optimizations.\n"
     ]
    },
    {
     "name": "stdout",
     "output_type": "stream",
     "text": [
      "117/117 [==============================] - 61s 523ms/step - loss: 0.1559 - accuracy: 0.9515 - val_loss: 4.4937 - val_accuracy: 0.4746\n",
      "Epoch 7/10\n",
      "117/117 [==============================] - ETA: 0s - loss: 0.0928 - accuracy: 0.9691"
     ]
    },
    {
     "name": "stderr",
     "output_type": "stream",
     "text": [
      "2023-04-13 23:43:59.742349: W tensorflow/core/framework/dataset.cc:769] Input of GeneratorDatasetOp::Dataset will not be optimized because the dataset does not implement the AsGraphDefInternal() method needed to apply optimizations.\n"
     ]
    },
    {
     "name": "stdout",
     "output_type": "stream",
     "text": [
      "117/117 [==============================] - 62s 526ms/step - loss: 0.0928 - accuracy: 0.9691 - val_loss: 0.9959 - val_accuracy: 0.7524\n",
      "Epoch 8/10\n",
      "117/117 [==============================] - ETA: 0s - loss: 0.0983 - accuracy: 0.9687"
     ]
    },
    {
     "name": "stderr",
     "output_type": "stream",
     "text": [
      "2023-04-13 23:45:01.133047: W tensorflow/core/framework/dataset.cc:769] Input of GeneratorDatasetOp::Dataset will not be optimized because the dataset does not implement the AsGraphDefInternal() method needed to apply optimizations.\n"
     ]
    },
    {
     "name": "stdout",
     "output_type": "stream",
     "text": [
      "117/117 [==============================] - 61s 524ms/step - loss: 0.0983 - accuracy: 0.9687 - val_loss: 2.6396 - val_accuracy: 0.5797\n",
      "Epoch 9/10\n",
      "117/117 [==============================] - ETA: 0s - loss: 0.0581 - accuracy: 0.9808"
     ]
    },
    {
     "name": "stderr",
     "output_type": "stream",
     "text": [
      "2023-04-13 23:46:02.382784: W tensorflow/core/framework/dataset.cc:769] Input of GeneratorDatasetOp::Dataset will not be optimized because the dataset does not implement the AsGraphDefInternal() method needed to apply optimizations.\n"
     ]
    },
    {
     "name": "stdout",
     "output_type": "stream",
     "text": [
      "117/117 [==============================] - 61s 523ms/step - loss: 0.0581 - accuracy: 0.9808 - val_loss: 1.8743 - val_accuracy: 0.6655\n",
      "Epoch 10/10\n",
      "117/117 [==============================] - ETA: 0s - loss: 0.0303 - accuracy: 0.9901"
     ]
    },
    {
     "name": "stderr",
     "output_type": "stream",
     "text": [
      "2023-04-13 23:47:03.739975: W tensorflow/core/framework/dataset.cc:769] Input of GeneratorDatasetOp::Dataset will not be optimized because the dataset does not implement the AsGraphDefInternal() method needed to apply optimizations.\n"
     ]
    },
    {
     "name": "stdout",
     "output_type": "stream",
     "text": [
      "117/117 [==============================] - 61s 525ms/step - loss: 0.0303 - accuracy: 0.9901 - val_loss: 0.4422 - val_accuracy: 0.8696\n",
      "Fold 4\n",
      "Epoch 1/10\n",
      "117/117 [==============================] - ETA: 0s - loss: 0.0665 - accuracy: 0.9778"
     ]
    },
    {
     "name": "stderr",
     "output_type": "stream",
     "text": [
      "2023-04-13 23:48:05.746461: W tensorflow/core/framework/dataset.cc:769] Input of GeneratorDatasetOp::Dataset will not be optimized because the dataset does not implement the AsGraphDefInternal() method needed to apply optimizations.\n"
     ]
    },
    {
     "name": "stdout",
     "output_type": "stream",
     "text": [
      "117/117 [==============================] - 62s 528ms/step - loss: 0.0665 - accuracy: 0.9778 - val_loss: 0.5590 - val_accuracy: 0.8609\n",
      "Epoch 2/10\n",
      "117/117 [==============================] - ETA: 0s - loss: 0.0853 - accuracy: 0.9715"
     ]
    },
    {
     "name": "stderr",
     "output_type": "stream",
     "text": [
      "2023-04-13 23:49:06.784047: W tensorflow/core/framework/dataset.cc:769] Input of GeneratorDatasetOp::Dataset will not be optimized because the dataset does not implement the AsGraphDefInternal() method needed to apply optimizations.\n"
     ]
    },
    {
     "name": "stdout",
     "output_type": "stream",
     "text": [
      "117/117 [==============================] - 61s 521ms/step - loss: 0.0853 - accuracy: 0.9715 - val_loss: 3.9794 - val_accuracy: 0.4970\n",
      "Epoch 3/10\n",
      "117/117 [==============================] - ETA: 0s - loss: 0.0885 - accuracy: 0.9715"
     ]
    },
    {
     "name": "stderr",
     "output_type": "stream",
     "text": [
      "2023-04-13 23:50:07.956322: W tensorflow/core/framework/dataset.cc:769] Input of GeneratorDatasetOp::Dataset will not be optimized because the dataset does not implement the AsGraphDefInternal() method needed to apply optimizations.\n"
     ]
    },
    {
     "name": "stdout",
     "output_type": "stream",
     "text": [
      "117/117 [==============================] - 61s 523ms/step - loss: 0.0885 - accuracy: 0.9715 - val_loss: 3.8040 - val_accuracy: 0.5115\n",
      "Epoch 4/10\n",
      "117/117 [==============================] - ETA: 0s - loss: 0.1061 - accuracy: 0.9649"
     ]
    },
    {
     "name": "stderr",
     "output_type": "stream",
     "text": [
      "2023-04-13 23:51:09.332051: W tensorflow/core/framework/dataset.cc:769] Input of GeneratorDatasetOp::Dataset will not be optimized because the dataset does not implement the AsGraphDefInternal() method needed to apply optimizations.\n"
     ]
    },
    {
     "name": "stdout",
     "output_type": "stream",
     "text": [
      "117/117 [==============================] - 61s 525ms/step - loss: 0.1061 - accuracy: 0.9649 - val_loss: 4.1992 - val_accuracy: 0.4909\n",
      "Epoch 5/10\n",
      "117/117 [==============================] - ETA: 0s - loss: 0.0523 - accuracy: 0.9843"
     ]
    },
    {
     "name": "stderr",
     "output_type": "stream",
     "text": [
      "2023-04-13 23:52:10.851189: W tensorflow/core/framework/dataset.cc:769] Input of GeneratorDatasetOp::Dataset will not be optimized because the dataset does not implement the AsGraphDefInternal() method needed to apply optimizations.\n"
     ]
    },
    {
     "name": "stdout",
     "output_type": "stream",
     "text": [
      "117/117 [==============================] - 61s 526ms/step - loss: 0.0523 - accuracy: 0.9843 - val_loss: 3.0548 - val_accuracy: 0.5877\n",
      "Epoch 6/10\n",
      "117/117 [==============================] - ETA: 0s - loss: 0.0395 - accuracy: 0.9864"
     ]
    },
    {
     "name": "stderr",
     "output_type": "stream",
     "text": [
      "2023-04-13 23:53:12.092667: W tensorflow/core/framework/dataset.cc:769] Input of GeneratorDatasetOp::Dataset will not be optimized because the dataset does not implement the AsGraphDefInternal() method needed to apply optimizations.\n"
     ]
    },
    {
     "name": "stdout",
     "output_type": "stream",
     "text": [
      "117/117 [==============================] - 61s 524ms/step - loss: 0.0395 - accuracy: 0.9864 - val_loss: 0.6391 - val_accuracy: 0.8319\n",
      "Epoch 7/10\n",
      "117/117 [==============================] - ETA: 0s - loss: 0.0551 - accuracy: 0.9811"
     ]
    },
    {
     "name": "stderr",
     "output_type": "stream",
     "text": [
      "2023-04-13 23:54:13.232422: W tensorflow/core/framework/dataset.cc:769] Input of GeneratorDatasetOp::Dataset will not be optimized because the dataset does not implement the AsGraphDefInternal() method needed to apply optimizations.\n"
     ]
    },
    {
     "name": "stdout",
     "output_type": "stream",
     "text": [
      "117/117 [==============================] - 61s 523ms/step - loss: 0.0551 - accuracy: 0.9811 - val_loss: 1.6051 - val_accuracy: 0.6759\n",
      "Epoch 8/10\n",
      "117/117 [==============================] - ETA: 0s - loss: 0.0680 - accuracy: 0.9777"
     ]
    },
    {
     "name": "stderr",
     "output_type": "stream",
     "text": [
      "2023-04-13 23:55:14.315522: W tensorflow/core/framework/dataset.cc:769] Input of GeneratorDatasetOp::Dataset will not be optimized because the dataset does not implement the AsGraphDefInternal() method needed to apply optimizations.\n"
     ]
    },
    {
     "name": "stdout",
     "output_type": "stream",
     "text": [
      "117/117 [==============================] - 61s 522ms/step - loss: 0.0680 - accuracy: 0.9777 - val_loss: 1.0760 - val_accuracy: 0.7932\n",
      "Epoch 9/10\n",
      "117/117 [==============================] - ETA: 0s - loss: 0.0340 - accuracy: 0.9891"
     ]
    },
    {
     "name": "stderr",
     "output_type": "stream",
     "text": [
      "2023-04-13 23:56:15.445802: W tensorflow/core/framework/dataset.cc:769] Input of GeneratorDatasetOp::Dataset will not be optimized because the dataset does not implement the AsGraphDefInternal() method needed to apply optimizations.\n"
     ]
    },
    {
     "name": "stdout",
     "output_type": "stream",
     "text": [
      "117/117 [==============================] - 61s 523ms/step - loss: 0.0340 - accuracy: 0.9891 - val_loss: 1.8130 - val_accuracy: 0.6747\n",
      "Epoch 10/10\n",
      "117/117 [==============================] - ETA: 0s - loss: 0.0353 - accuracy: 0.9889"
     ]
    },
    {
     "name": "stderr",
     "output_type": "stream",
     "text": [
      "2023-04-13 23:57:16.577275: W tensorflow/core/framework/dataset.cc:769] Input of GeneratorDatasetOp::Dataset will not be optimized because the dataset does not implement the AsGraphDefInternal() method needed to apply optimizations.\n"
     ]
    },
    {
     "name": "stdout",
     "output_type": "stream",
     "text": [
      "117/117 [==============================] - 61s 522ms/step - loss: 0.0353 - accuracy: 0.9889 - val_loss: 1.1072 - val_accuracy: 0.7823\n",
      "Fold 5\n",
      "Epoch 1/10\n",
      "117/117 [==============================] - ETA: 0s - loss: 0.0439 - accuracy: 0.9867"
     ]
    },
    {
     "name": "stderr",
     "output_type": "stream",
     "text": [
      "2023-04-13 23:58:18.633600: W tensorflow/core/framework/dataset.cc:769] Input of GeneratorDatasetOp::Dataset will not be optimized because the dataset does not implement the AsGraphDefInternal() method needed to apply optimizations.\n"
     ]
    },
    {
     "name": "stdout",
     "output_type": "stream",
     "text": [
      "117/117 [==============================] - 62s 528ms/step - loss: 0.0439 - accuracy: 0.9867 - val_loss: 4.6339 - val_accuracy: 0.4148\n",
      "Epoch 2/10\n",
      "117/117 [==============================] - ETA: 0s - loss: 0.0419 - accuracy: 0.9868"
     ]
    },
    {
     "name": "stderr",
     "output_type": "stream",
     "text": [
      "2023-04-13 23:59:20.326059: W tensorflow/core/framework/dataset.cc:769] Input of GeneratorDatasetOp::Dataset will not be optimized because the dataset does not implement the AsGraphDefInternal() method needed to apply optimizations.\n"
     ]
    },
    {
     "name": "stdout",
     "output_type": "stream",
     "text": [
      "117/117 [==============================] - 62s 527ms/step - loss: 0.0419 - accuracy: 0.9868 - val_loss: 2.8797 - val_accuracy: 0.5744\n",
      "Epoch 3/10\n",
      "117/117 [==============================] - ETA: 0s - loss: 0.0467 - accuracy: 0.9862"
     ]
    },
    {
     "name": "stderr",
     "output_type": "stream",
     "text": [
      "2023-04-14 00:00:22.203347: W tensorflow/core/framework/dataset.cc:769] Input of GeneratorDatasetOp::Dataset will not be optimized because the dataset does not implement the AsGraphDefInternal() method needed to apply optimizations.\n"
     ]
    },
    {
     "name": "stdout",
     "output_type": "stream",
     "text": [
      "117/117 [==============================] - 62s 529ms/step - loss: 0.0467 - accuracy: 0.9862 - val_loss: 0.2529 - val_accuracy: 0.9323\n",
      "Epoch 4/10\n",
      "117/117 [==============================] - ETA: 0s - loss: 0.0514 - accuracy: 0.9851"
     ]
    },
    {
     "name": "stderr",
     "output_type": "stream",
     "text": [
      "2023-04-14 00:01:23.868594: W tensorflow/core/framework/dataset.cc:769] Input of GeneratorDatasetOp::Dataset will not be optimized because the dataset does not implement the AsGraphDefInternal() method needed to apply optimizations.\n"
     ]
    },
    {
     "name": "stdout",
     "output_type": "stream",
     "text": [
      "117/117 [==============================] - 62s 527ms/step - loss: 0.0514 - accuracy: 0.9851 - val_loss: 0.6306 - val_accuracy: 0.8513\n",
      "Epoch 5/10\n",
      "117/117 [==============================] - ETA: 0s - loss: 0.0807 - accuracy: 0.9766"
     ]
    },
    {
     "name": "stderr",
     "output_type": "stream",
     "text": [
      "2023-04-14 00:02:25.659139: W tensorflow/core/framework/dataset.cc:769] Input of GeneratorDatasetOp::Dataset will not be optimized because the dataset does not implement the AsGraphDefInternal() method needed to apply optimizations.\n"
     ]
    },
    {
     "name": "stdout",
     "output_type": "stream",
     "text": [
      "117/117 [==============================] - 62s 528ms/step - loss: 0.0807 - accuracy: 0.9766 - val_loss: 2.1938 - val_accuracy: 0.6868\n",
      "Epoch 6/10\n",
      "117/117 [==============================] - ETA: 0s - loss: 0.1081 - accuracy: 0.9671"
     ]
    },
    {
     "name": "stderr",
     "output_type": "stream",
     "text": [
      "2023-04-14 00:03:27.566590: W tensorflow/core/framework/dataset.cc:769] Input of GeneratorDatasetOp::Dataset will not be optimized because the dataset does not implement the AsGraphDefInternal() method needed to apply optimizations.\n"
     ]
    },
    {
     "name": "stdout",
     "output_type": "stream",
     "text": [
      "117/117 [==============================] - 62s 529ms/step - loss: 0.1081 - accuracy: 0.9671 - val_loss: 6.5616 - val_accuracy: 0.4849\n",
      "Epoch 7/10\n",
      "117/117 [==============================] - ETA: 0s - loss: 0.0923 - accuracy: 0.9738"
     ]
    },
    {
     "name": "stderr",
     "output_type": "stream",
     "text": [
      "2023-04-14 00:04:29.036684: W tensorflow/core/framework/dataset.cc:769] Input of GeneratorDatasetOp::Dataset will not be optimized because the dataset does not implement the AsGraphDefInternal() method needed to apply optimizations.\n"
     ]
    },
    {
     "name": "stdout",
     "output_type": "stream",
     "text": [
      "117/117 [==============================] - 61s 526ms/step - loss: 0.0923 - accuracy: 0.9738 - val_loss: 4.5443 - val_accuracy: 0.5175\n",
      "Epoch 8/10\n",
      "117/117 [==============================] - ETA: 0s - loss: 0.0431 - accuracy: 0.9847"
     ]
    },
    {
     "name": "stderr",
     "output_type": "stream",
     "text": [
      "2023-04-14 00:05:30.608026: W tensorflow/core/framework/dataset.cc:769] Input of GeneratorDatasetOp::Dataset will not be optimized because the dataset does not implement the AsGraphDefInternal() method needed to apply optimizations.\n"
     ]
    },
    {
     "name": "stdout",
     "output_type": "stream",
     "text": [
      "117/117 [==============================] - 62s 526ms/step - loss: 0.0431 - accuracy: 0.9847 - val_loss: 2.2460 - val_accuracy: 0.6421\n",
      "Epoch 9/10\n",
      "117/117 [==============================] - ETA: 0s - loss: 0.0378 - accuracy: 0.9866"
     ]
    },
    {
     "name": "stderr",
     "output_type": "stream",
     "text": [
      "2023-04-14 00:06:31.706794: W tensorflow/core/framework/dataset.cc:769] Input of GeneratorDatasetOp::Dataset will not be optimized because the dataset does not implement the AsGraphDefInternal() method needed to apply optimizations.\n"
     ]
    },
    {
     "name": "stdout",
     "output_type": "stream",
     "text": [
      "117/117 [==============================] - 61s 523ms/step - loss: 0.0378 - accuracy: 0.9866 - val_loss: 9.8628 - val_accuracy: 0.3664\n",
      "Epoch 10/10\n",
      "117/117 [==============================] - ETA: 0s - loss: 0.0196 - accuracy: 0.9933"
     ]
    },
    {
     "name": "stderr",
     "output_type": "stream",
     "text": [
      "2023-04-14 00:07:32.683794: W tensorflow/core/framework/dataset.cc:769] Input of GeneratorDatasetOp::Dataset will not be optimized because the dataset does not implement the AsGraphDefInternal() method needed to apply optimizations.\n"
     ]
    },
    {
     "name": "stdout",
     "output_type": "stream",
     "text": [
      "117/117 [==============================] - 61s 521ms/step - loss: 0.0196 - accuracy: 0.9933 - val_loss: 2.8197 - val_accuracy: 0.6602\n",
      "Fold 6\n",
      "Epoch 1/10\n",
      "117/117 [==============================] - ETA: 0s - loss: 0.0359 - accuracy: 0.9878"
     ]
    },
    {
     "name": "stderr",
     "output_type": "stream",
     "text": [
      "2023-04-14 00:08:35.010872: W tensorflow/core/framework/dataset.cc:769] Input of GeneratorDatasetOp::Dataset will not be optimized because the dataset does not implement the AsGraphDefInternal() method needed to apply optimizations.\n"
     ]
    },
    {
     "name": "stdout",
     "output_type": "stream",
     "text": [
      "117/117 [==============================] - 62s 529ms/step - loss: 0.0359 - accuracy: 0.9878 - val_loss: 0.3933 - val_accuracy: 0.8900\n",
      "Epoch 2/10\n",
      "117/117 [==============================] - ETA: 0s - loss: 0.0414 - accuracy: 0.9875"
     ]
    },
    {
     "name": "stderr",
     "output_type": "stream",
     "text": [
      "2023-04-14 00:09:37.304397: W tensorflow/core/framework/dataset.cc:769] Input of GeneratorDatasetOp::Dataset will not be optimized because the dataset does not implement the AsGraphDefInternal() method needed to apply optimizations.\n"
     ]
    },
    {
     "name": "stdout",
     "output_type": "stream",
     "text": [
      "117/117 [==============================] - 62s 533ms/step - loss: 0.0414 - accuracy: 0.9875 - val_loss: 0.5899 - val_accuracy: 0.8755\n",
      "Epoch 3/10\n",
      "117/117 [==============================] - ETA: 0s - loss: 0.0547 - accuracy: 0.9833"
     ]
    },
    {
     "name": "stderr",
     "output_type": "stream",
     "text": [
      "2023-04-14 00:10:39.731997: W tensorflow/core/framework/dataset.cc:769] Input of GeneratorDatasetOp::Dataset will not be optimized because the dataset does not implement the AsGraphDefInternal() method needed to apply optimizations.\n"
     ]
    },
    {
     "name": "stdout",
     "output_type": "stream",
     "text": [
      "117/117 [==============================] - 62s 533ms/step - loss: 0.0547 - accuracy: 0.9833 - val_loss: 15.7673 - val_accuracy: 0.2346\n",
      "Epoch 4/10\n",
      "117/117 [==============================] - ETA: 0s - loss: 0.0650 - accuracy: 0.9832"
     ]
    },
    {
     "name": "stderr",
     "output_type": "stream",
     "text": [
      "2023-04-14 00:11:42.105697: W tensorflow/core/framework/dataset.cc:769] Input of GeneratorDatasetOp::Dataset will not be optimized because the dataset does not implement the AsGraphDefInternal() method needed to apply optimizations.\n"
     ]
    },
    {
     "name": "stdout",
     "output_type": "stream",
     "text": [
      "117/117 [==============================] - 62s 534ms/step - loss: 0.0650 - accuracy: 0.9832 - val_loss: 1.8034 - val_accuracy: 0.7570\n",
      "Epoch 5/10\n",
      "117/117 [==============================] - ETA: 0s - loss: 0.0668 - accuracy: 0.9803"
     ]
    },
    {
     "name": "stderr",
     "output_type": "stream",
     "text": [
      "2023-04-14 00:12:44.568987: W tensorflow/core/framework/dataset.cc:769] Input of GeneratorDatasetOp::Dataset will not be optimized because the dataset does not implement the AsGraphDefInternal() method needed to apply optimizations.\n"
     ]
    },
    {
     "name": "stdout",
     "output_type": "stream",
     "text": [
      "117/117 [==============================] - 62s 533ms/step - loss: 0.0668 - accuracy: 0.9803 - val_loss: 8.7815 - val_accuracy: 0.3519\n",
      "Epoch 6/10\n",
      "117/117 [==============================] - ETA: 0s - loss: 0.0419 - accuracy: 0.9871"
     ]
    },
    {
     "name": "stderr",
     "output_type": "stream",
     "text": [
      "2023-04-14 00:13:46.870486: W tensorflow/core/framework/dataset.cc:769] Input of GeneratorDatasetOp::Dataset will not be optimized because the dataset does not implement the AsGraphDefInternal() method needed to apply optimizations.\n"
     ]
    },
    {
     "name": "stdout",
     "output_type": "stream",
     "text": [
      "117/117 [==============================] - 62s 533ms/step - loss: 0.0419 - accuracy: 0.9871 - val_loss: 0.6457 - val_accuracy: 0.8682\n",
      "Epoch 7/10\n",
      "117/117 [==============================] - ETA: 0s - loss: 0.0345 - accuracy: 0.9889"
     ]
    },
    {
     "name": "stderr",
     "output_type": "stream",
     "text": [
      "2023-04-14 00:14:49.306213: W tensorflow/core/framework/dataset.cc:769] Input of GeneratorDatasetOp::Dataset will not be optimized because the dataset does not implement the AsGraphDefInternal() method needed to apply optimizations.\n"
     ]
    },
    {
     "name": "stdout",
     "output_type": "stream",
     "text": [
      "117/117 [==============================] - 62s 534ms/step - loss: 0.0345 - accuracy: 0.9889 - val_loss: 0.1267 - val_accuracy: 0.9649\n",
      "Epoch 8/10\n",
      "117/117 [==============================] - ETA: 0s - loss: 0.0273 - accuracy: 0.9914"
     ]
    },
    {
     "name": "stderr",
     "output_type": "stream",
     "text": [
      "2023-04-14 00:15:52.418554: W tensorflow/core/framework/dataset.cc:769] Input of GeneratorDatasetOp::Dataset will not be optimized because the dataset does not implement the AsGraphDefInternal() method needed to apply optimizations.\n"
     ]
    },
    {
     "name": "stdout",
     "output_type": "stream",
     "text": [
      "117/117 [==============================] - 63s 540ms/step - loss: 0.0273 - accuracy: 0.9914 - val_loss: 0.5596 - val_accuracy: 0.8755\n",
      "Epoch 9/10\n",
      "117/117 [==============================] - ETA: 0s - loss: 0.0221 - accuracy: 0.9937"
     ]
    },
    {
     "name": "stderr",
     "output_type": "stream",
     "text": [
      "2023-04-14 00:16:55.443359: W tensorflow/core/framework/dataset.cc:769] Input of GeneratorDatasetOp::Dataset will not be optimized because the dataset does not implement the AsGraphDefInternal() method needed to apply optimizations.\n"
     ]
    },
    {
     "name": "stdout",
     "output_type": "stream",
     "text": [
      "117/117 [==============================] - 63s 539ms/step - loss: 0.0221 - accuracy: 0.9937 - val_loss: 1.9140 - val_accuracy: 0.7062\n",
      "Epoch 10/10\n",
      "117/117 [==============================] - ETA: 0s - loss: 0.0096 - accuracy: 0.9974"
     ]
    },
    {
     "name": "stderr",
     "output_type": "stream",
     "text": [
      "2023-04-14 00:17:58.161127: W tensorflow/core/framework/dataset.cc:769] Input of GeneratorDatasetOp::Dataset will not be optimized because the dataset does not implement the AsGraphDefInternal() method needed to apply optimizations.\n"
     ]
    },
    {
     "name": "stdout",
     "output_type": "stream",
     "text": [
      "117/117 [==============================] - 63s 536ms/step - loss: 0.0096 - accuracy: 0.9974 - val_loss: 0.5344 - val_accuracy: 0.8924\n",
      "Fold 7\n",
      "Epoch 1/10\n",
      "117/117 [==============================] - ETA: 0s - loss: 0.0273 - accuracy: 0.9927"
     ]
    },
    {
     "name": "stderr",
     "output_type": "stream",
     "text": [
      "2023-04-14 00:19:01.664287: W tensorflow/core/framework/dataset.cc:769] Input of GeneratorDatasetOp::Dataset will not be optimized because the dataset does not implement the AsGraphDefInternal() method needed to apply optimizations.\n"
     ]
    },
    {
     "name": "stdout",
     "output_type": "stream",
     "text": [
      "117/117 [==============================] - 63s 540ms/step - loss: 0.0273 - accuracy: 0.9927 - val_loss: 0.8047 - val_accuracy: 0.8476\n",
      "Epoch 2/10\n",
      "117/117 [==============================] - ETA: 0s - loss: 0.0326 - accuracy: 0.9899"
     ]
    },
    {
     "name": "stderr",
     "output_type": "stream",
     "text": [
      "2023-04-14 00:20:04.483047: W tensorflow/core/framework/dataset.cc:769] Input of GeneratorDatasetOp::Dataset will not be optimized because the dataset does not implement the AsGraphDefInternal() method needed to apply optimizations.\n"
     ]
    },
    {
     "name": "stdout",
     "output_type": "stream",
     "text": [
      "117/117 [==============================] - 63s 538ms/step - loss: 0.0326 - accuracy: 0.9899 - val_loss: 0.1981 - val_accuracy: 0.9492\n",
      "Epoch 3/10\n",
      "117/117 [==============================] - ETA: 0s - loss: 0.0579 - accuracy: 0.9816"
     ]
    },
    {
     "name": "stderr",
     "output_type": "stream",
     "text": [
      "2023-04-14 00:21:07.556574: W tensorflow/core/framework/dataset.cc:769] Input of GeneratorDatasetOp::Dataset will not be optimized because the dataset does not implement the AsGraphDefInternal() method needed to apply optimizations.\n"
     ]
    },
    {
     "name": "stdout",
     "output_type": "stream",
     "text": [
      "117/117 [==============================] - 63s 539ms/step - loss: 0.0579 - accuracy: 0.9816 - val_loss: 0.2810 - val_accuracy: 0.9444\n",
      "Epoch 4/10\n",
      "117/117 [==============================] - ETA: 0s - loss: 0.0921 - accuracy: 0.9748"
     ]
    },
    {
     "name": "stderr",
     "output_type": "stream",
     "text": [
      "2023-04-14 00:22:10.541952: W tensorflow/core/framework/dataset.cc:769] Input of GeneratorDatasetOp::Dataset will not be optimized because the dataset does not implement the AsGraphDefInternal() method needed to apply optimizations.\n"
     ]
    },
    {
     "name": "stdout",
     "output_type": "stream",
     "text": [
      "117/117 [==============================] - 63s 539ms/step - loss: 0.0921 - accuracy: 0.9748 - val_loss: 5.7443 - val_accuracy: 0.4788\n",
      "Epoch 5/10\n",
      "117/117 [==============================] - ETA: 0s - loss: 0.1371 - accuracy: 0.9649"
     ]
    },
    {
     "name": "stderr",
     "output_type": "stream",
     "text": [
      "2023-04-14 00:23:13.315475: W tensorflow/core/framework/dataset.cc:769] Input of GeneratorDatasetOp::Dataset will not be optimized because the dataset does not implement the AsGraphDefInternal() method needed to apply optimizations.\n"
     ]
    },
    {
     "name": "stdout",
     "output_type": "stream",
     "text": [
      "117/117 [==============================] - 63s 536ms/step - loss: 0.1371 - accuracy: 0.9649 - val_loss: 6.6549 - val_accuracy: 0.4450\n",
      "Epoch 6/10\n",
      "117/117 [==============================] - ETA: 0s - loss: 0.0406 - accuracy: 0.9871"
     ]
    },
    {
     "name": "stderr",
     "output_type": "stream",
     "text": [
      "2023-04-14 00:24:16.276398: W tensorflow/core/framework/dataset.cc:769] Input of GeneratorDatasetOp::Dataset will not be optimized because the dataset does not implement the AsGraphDefInternal() method needed to apply optimizations.\n"
     ]
    },
    {
     "name": "stdout",
     "output_type": "stream",
     "text": [
      "117/117 [==============================] - 63s 538ms/step - loss: 0.0406 - accuracy: 0.9871 - val_loss: 0.8318 - val_accuracy: 0.8053\n",
      "Epoch 7/10\n",
      "117/117 [==============================] - ETA: 0s - loss: 0.0200 - accuracy: 0.9944"
     ]
    },
    {
     "name": "stderr",
     "output_type": "stream",
     "text": [
      "2023-04-14 00:25:19.407630: W tensorflow/core/framework/dataset.cc:769] Input of GeneratorDatasetOp::Dataset will not be optimized because the dataset does not implement the AsGraphDefInternal() method needed to apply optimizations.\n"
     ]
    },
    {
     "name": "stdout",
     "output_type": "stream",
     "text": [
      "117/117 [==============================] - 63s 540ms/step - loss: 0.0200 - accuracy: 0.9944 - val_loss: 4.2328 - val_accuracy: 0.5695\n",
      "Epoch 8/10\n",
      "117/117 [==============================] - ETA: 0s - loss: 0.0219 - accuracy: 0.9946"
     ]
    },
    {
     "name": "stderr",
     "output_type": "stream",
     "text": [
      "2023-04-14 00:26:22.345998: W tensorflow/core/framework/dataset.cc:769] Input of GeneratorDatasetOp::Dataset will not be optimized because the dataset does not implement the AsGraphDefInternal() method needed to apply optimizations.\n"
     ]
    },
    {
     "name": "stdout",
     "output_type": "stream",
     "text": [
      "117/117 [==============================] - 63s 539ms/step - loss: 0.0219 - accuracy: 0.9946 - val_loss: 0.7013 - val_accuracy: 0.8779\n",
      "Epoch 9/10\n",
      "117/117 [==============================] - ETA: 0s - loss: 0.0091 - accuracy: 0.9965"
     ]
    },
    {
     "name": "stderr",
     "output_type": "stream",
     "text": [
      "2023-04-14 00:27:25.140293: W tensorflow/core/framework/dataset.cc:769] Input of GeneratorDatasetOp::Dataset will not be optimized because the dataset does not implement the AsGraphDefInternal() method needed to apply optimizations.\n"
     ]
    },
    {
     "name": "stdout",
     "output_type": "stream",
     "text": [
      "117/117 [==============================] - 63s 536ms/step - loss: 0.0091 - accuracy: 0.9965 - val_loss: 0.3399 - val_accuracy: 0.9141\n",
      "Epoch 10/10\n",
      "117/117 [==============================] - ETA: 0s - loss: 0.0093 - accuracy: 0.9976"
     ]
    },
    {
     "name": "stderr",
     "output_type": "stream",
     "text": [
      "2023-04-14 00:28:28.258842: W tensorflow/core/framework/dataset.cc:769] Input of GeneratorDatasetOp::Dataset will not be optimized because the dataset does not implement the AsGraphDefInternal() method needed to apply optimizations.\n"
     ]
    },
    {
     "name": "stdout",
     "output_type": "stream",
     "text": [
      "117/117 [==============================] - 63s 540ms/step - loss: 0.0093 - accuracy: 0.9976 - val_loss: 0.1002 - val_accuracy: 0.9698\n",
      "Fold 8\n",
      "Epoch 1/10\n",
      "117/117 [==============================] - ETA: 0s - loss: 0.0201 - accuracy: 0.9942"
     ]
    },
    {
     "name": "stderr",
     "output_type": "stream",
     "text": [
      "2023-04-14 00:29:31.722532: W tensorflow/core/framework/dataset.cc:769] Input of GeneratorDatasetOp::Dataset will not be optimized because the dataset does not implement the AsGraphDefInternal() method needed to apply optimizations.\n"
     ]
    },
    {
     "name": "stdout",
     "output_type": "stream",
     "text": [
      "117/117 [==============================] - 63s 540ms/step - loss: 0.0201 - accuracy: 0.9942 - val_loss: 2.8222 - val_accuracy: 0.6554\n",
      "Epoch 2/10\n",
      "117/117 [==============================] - ETA: 0s - loss: 0.0220 - accuracy: 0.9942"
     ]
    },
    {
     "name": "stderr",
     "output_type": "stream",
     "text": [
      "2023-04-14 00:30:33.973938: W tensorflow/core/framework/dataset.cc:769] Input of GeneratorDatasetOp::Dataset will not be optimized because the dataset does not implement the AsGraphDefInternal() method needed to apply optimizations.\n"
     ]
    },
    {
     "name": "stdout",
     "output_type": "stream",
     "text": [
      "117/117 [==============================] - 62s 531ms/step - loss: 0.0220 - accuracy: 0.9942 - val_loss: 2.0644 - val_accuracy: 0.6796\n",
      "Epoch 3/10\n",
      "117/117 [==============================] - ETA: 0s - loss: 0.0839 - accuracy: 0.9793"
     ]
    },
    {
     "name": "stderr",
     "output_type": "stream",
     "text": [
      "2023-04-14 00:31:35.945515: W tensorflow/core/framework/dataset.cc:769] Input of GeneratorDatasetOp::Dataset will not be optimized because the dataset does not implement the AsGraphDefInternal() method needed to apply optimizations.\n"
     ]
    },
    {
     "name": "stdout",
     "output_type": "stream",
     "text": [
      "117/117 [==============================] - 62s 530ms/step - loss: 0.0839 - accuracy: 0.9793 - val_loss: 5.6438 - val_accuracy: 0.3857\n",
      "Epoch 4/10\n",
      "117/117 [==============================] - ETA: 0s - loss: 0.0797 - accuracy: 0.9786"
     ]
    },
    {
     "name": "stderr",
     "output_type": "stream",
     "text": [
      "2023-04-14 00:32:37.275289: W tensorflow/core/framework/dataset.cc:769] Input of GeneratorDatasetOp::Dataset will not be optimized because the dataset does not implement the AsGraphDefInternal() method needed to apply optimizations.\n"
     ]
    },
    {
     "name": "stdout",
     "output_type": "stream",
     "text": [
      "117/117 [==============================] - 61s 524ms/step - loss: 0.0797 - accuracy: 0.9786 - val_loss: 1.3224 - val_accuracy: 0.7763\n",
      "Epoch 5/10\n",
      "117/117 [==============================] - ETA: 0s - loss: 0.0413 - accuracy: 0.9876"
     ]
    },
    {
     "name": "stderr",
     "output_type": "stream",
     "text": [
      "2023-04-14 00:33:38.659313: W tensorflow/core/framework/dataset.cc:769] Input of GeneratorDatasetOp::Dataset will not be optimized because the dataset does not implement the AsGraphDefInternal() method needed to apply optimizations.\n"
     ]
    },
    {
     "name": "stdout",
     "output_type": "stream",
     "text": [
      "117/117 [==============================] - 61s 524ms/step - loss: 0.0413 - accuracy: 0.9876 - val_loss: 0.1416 - val_accuracy: 0.9601\n",
      "Epoch 6/10\n",
      "117/117 [==============================] - ETA: 0s - loss: 0.0185 - accuracy: 0.9934"
     ]
    },
    {
     "name": "stderr",
     "output_type": "stream",
     "text": [
      "2023-04-14 00:34:40.175291: W tensorflow/core/framework/dataset.cc:769] Input of GeneratorDatasetOp::Dataset will not be optimized because the dataset does not implement the AsGraphDefInternal() method needed to apply optimizations.\n"
     ]
    },
    {
     "name": "stdout",
     "output_type": "stream",
     "text": [
      "117/117 [==============================] - 62s 526ms/step - loss: 0.0185 - accuracy: 0.9934 - val_loss: 0.7188 - val_accuracy: 0.8573\n",
      "Epoch 7/10\n",
      "117/117 [==============================] - ETA: 0s - loss: 0.0319 - accuracy: 0.9923"
     ]
    },
    {
     "name": "stderr",
     "output_type": "stream",
     "text": [
      "2023-04-14 00:35:41.549507: W tensorflow/core/framework/dataset.cc:769] Input of GeneratorDatasetOp::Dataset will not be optimized because the dataset does not implement the AsGraphDefInternal() method needed to apply optimizations.\n"
     ]
    },
    {
     "name": "stdout",
     "output_type": "stream",
     "text": [
      "117/117 [==============================] - 61s 525ms/step - loss: 0.0319 - accuracy: 0.9923 - val_loss: 1.8040 - val_accuracy: 0.6868\n",
      "Epoch 8/10\n",
      "117/117 [==============================] - ETA: 0s - loss: 0.0270 - accuracy: 0.9909"
     ]
    },
    {
     "name": "stderr",
     "output_type": "stream",
     "text": [
      "2023-04-14 00:36:43.283307: W tensorflow/core/framework/dataset.cc:769] Input of GeneratorDatasetOp::Dataset will not be optimized because the dataset does not implement the AsGraphDefInternal() method needed to apply optimizations.\n"
     ]
    },
    {
     "name": "stdout",
     "output_type": "stream",
     "text": [
      "117/117 [==============================] - 62s 527ms/step - loss: 0.0270 - accuracy: 0.9909 - val_loss: 0.3162 - val_accuracy: 0.9432\n",
      "Epoch 9/10\n",
      "117/117 [==============================] - ETA: 0s - loss: 0.0551 - accuracy: 0.9844"
     ]
    },
    {
     "name": "stderr",
     "output_type": "stream",
     "text": [
      "2023-04-14 00:37:44.747439: W tensorflow/core/framework/dataset.cc:769] Input of GeneratorDatasetOp::Dataset will not be optimized because the dataset does not implement the AsGraphDefInternal() method needed to apply optimizations.\n"
     ]
    },
    {
     "name": "stdout",
     "output_type": "stream",
     "text": [
      "117/117 [==============================] - 62s 526ms/step - loss: 0.0551 - accuracy: 0.9844 - val_loss: 15.5831 - val_accuracy: 0.1862\n",
      "Epoch 10/10\n",
      "117/117 [==============================] - ETA: 0s - loss: 0.0117 - accuracy: 0.9972"
     ]
    },
    {
     "name": "stderr",
     "output_type": "stream",
     "text": [
      "2023-04-14 00:38:45.981823: W tensorflow/core/framework/dataset.cc:769] Input of GeneratorDatasetOp::Dataset will not be optimized because the dataset does not implement the AsGraphDefInternal() method needed to apply optimizations.\n"
     ]
    },
    {
     "name": "stdout",
     "output_type": "stream",
     "text": [
      "117/117 [==============================] - 61s 523ms/step - loss: 0.0117 - accuracy: 0.9972 - val_loss: 0.6275 - val_accuracy: 0.8706\n",
      "Fold 9\n",
      "Epoch 1/10\n",
      "117/117 [==============================] - ETA: 0s - loss: 0.0221 - accuracy: 0.9933"
     ]
    },
    {
     "name": "stderr",
     "output_type": "stream",
     "text": [
      "2023-04-14 00:39:47.840249: W tensorflow/core/framework/dataset.cc:769] Input of GeneratorDatasetOp::Dataset will not be optimized because the dataset does not implement the AsGraphDefInternal() method needed to apply optimizations.\n"
     ]
    },
    {
     "name": "stdout",
     "output_type": "stream",
     "text": [
      "117/117 [==============================] - 62s 526ms/step - loss: 0.0221 - accuracy: 0.9933 - val_loss: 4.1309 - val_accuracy: 0.5659\n",
      "Epoch 2/10\n",
      "117/117 [==============================] - ETA: 0s - loss: 0.0252 - accuracy: 0.9918"
     ]
    },
    {
     "name": "stderr",
     "output_type": "stream",
     "text": [
      "2023-04-14 00:40:49.142244: W tensorflow/core/framework/dataset.cc:769] Input of GeneratorDatasetOp::Dataset will not be optimized because the dataset does not implement the AsGraphDefInternal() method needed to apply optimizations.\n"
     ]
    },
    {
     "name": "stdout",
     "output_type": "stream",
     "text": [
      "117/117 [==============================] - 61s 524ms/step - loss: 0.0252 - accuracy: 0.9918 - val_loss: 0.1638 - val_accuracy: 0.9565\n",
      "Epoch 3/10\n",
      "117/117 [==============================] - ETA: 0s - loss: 0.0304 - accuracy: 0.9918"
     ]
    },
    {
     "name": "stderr",
     "output_type": "stream",
     "text": [
      "2023-04-14 00:41:50.578469: W tensorflow/core/framework/dataset.cc:769] Input of GeneratorDatasetOp::Dataset will not be optimized because the dataset does not implement the AsGraphDefInternal() method needed to apply optimizations.\n"
     ]
    },
    {
     "name": "stdout",
     "output_type": "stream",
     "text": [
      "117/117 [==============================] - 61s 525ms/step - loss: 0.0304 - accuracy: 0.9918 - val_loss: 1.6573 - val_accuracy: 0.7751\n",
      "Epoch 4/10\n",
      "117/117 [==============================] - ETA: 0s - loss: 0.0358 - accuracy: 0.9889"
     ]
    },
    {
     "name": "stderr",
     "output_type": "stream",
     "text": [
      "2023-04-14 00:42:52.230855: W tensorflow/core/framework/dataset.cc:769] Input of GeneratorDatasetOp::Dataset will not be optimized because the dataset does not implement the AsGraphDefInternal() method needed to apply optimizations.\n"
     ]
    },
    {
     "name": "stdout",
     "output_type": "stream",
     "text": [
      "117/117 [==============================] - 62s 527ms/step - loss: 0.0358 - accuracy: 0.9889 - val_loss: 1.9160 - val_accuracy: 0.7751\n",
      "Epoch 5/10\n",
      "117/117 [==============================] - ETA: 0s - loss: 0.0131 - accuracy: 0.9956"
     ]
    },
    {
     "name": "stderr",
     "output_type": "stream",
     "text": [
      "2023-04-14 00:43:53.965045: W tensorflow/core/framework/dataset.cc:769] Input of GeneratorDatasetOp::Dataset will not be optimized because the dataset does not implement the AsGraphDefInternal() method needed to apply optimizations.\n"
     ]
    },
    {
     "name": "stdout",
     "output_type": "stream",
     "text": [
      "117/117 [==============================] - 62s 528ms/step - loss: 0.0131 - accuracy: 0.9956 - val_loss: 0.1161 - val_accuracy: 0.9734\n",
      "Epoch 6/10\n",
      "117/117 [==============================] - ETA: 0s - loss: 0.0308 - accuracy: 0.9917"
     ]
    },
    {
     "name": "stderr",
     "output_type": "stream",
     "text": [
      "2023-04-14 00:44:55.405420: W tensorflow/core/framework/dataset.cc:769] Input of GeneratorDatasetOp::Dataset will not be optimized because the dataset does not implement the AsGraphDefInternal() method needed to apply optimizations.\n"
     ]
    },
    {
     "name": "stdout",
     "output_type": "stream",
     "text": [
      "117/117 [==============================] - 61s 525ms/step - loss: 0.0308 - accuracy: 0.9917 - val_loss: 0.0740 - val_accuracy: 0.9758\n",
      "Epoch 7/10\n",
      "117/117 [==============================] - ETA: 0s - loss: 0.0054 - accuracy: 0.9979"
     ]
    },
    {
     "name": "stderr",
     "output_type": "stream",
     "text": [
      "2023-04-14 00:45:56.433006: W tensorflow/core/framework/dataset.cc:769] Input of GeneratorDatasetOp::Dataset will not be optimized because the dataset does not implement the AsGraphDefInternal() method needed to apply optimizations.\n"
     ]
    },
    {
     "name": "stdout",
     "output_type": "stream",
     "text": [
      "117/117 [==============================] - 61s 522ms/step - loss: 0.0054 - accuracy: 0.9979 - val_loss: 0.2249 - val_accuracy: 0.9407\n",
      "Epoch 8/10\n",
      "117/117 [==============================] - ETA: 0s - loss: 0.0240 - accuracy: 0.9946"
     ]
    },
    {
     "name": "stderr",
     "output_type": "stream",
     "text": [
      "2023-04-14 00:46:57.803041: W tensorflow/core/framework/dataset.cc:769] Input of GeneratorDatasetOp::Dataset will not be optimized because the dataset does not implement the AsGraphDefInternal() method needed to apply optimizations.\n"
     ]
    },
    {
     "name": "stdout",
     "output_type": "stream",
     "text": [
      "117/117 [==============================] - 61s 525ms/step - loss: 0.0240 - accuracy: 0.9946 - val_loss: 1.1484 - val_accuracy: 0.8053\n",
      "Epoch 9/10\n",
      "117/117 [==============================] - ETA: 0s - loss: 0.0313 - accuracy: 0.9910"
     ]
    },
    {
     "name": "stderr",
     "output_type": "stream",
     "text": [
      "2023-04-14 00:47:59.485719: W tensorflow/core/framework/dataset.cc:769] Input of GeneratorDatasetOp::Dataset will not be optimized because the dataset does not implement the AsGraphDefInternal() method needed to apply optimizations.\n"
     ]
    },
    {
     "name": "stdout",
     "output_type": "stream",
     "text": [
      "117/117 [==============================] - 62s 528ms/step - loss: 0.0313 - accuracy: 0.9910 - val_loss: 0.6774 - val_accuracy: 0.8670\n",
      "Epoch 10/10\n",
      "117/117 [==============================] - ETA: 0s - loss: 0.0488 - accuracy: 0.9856"
     ]
    },
    {
     "name": "stderr",
     "output_type": "stream",
     "text": [
      "2023-04-14 00:49:01.029232: W tensorflow/core/framework/dataset.cc:769] Input of GeneratorDatasetOp::Dataset will not be optimized because the dataset does not implement the AsGraphDefInternal() method needed to apply optimizations.\n"
     ]
    },
    {
     "name": "stdout",
     "output_type": "stream",
     "text": [
      "117/117 [==============================] - 61s 525ms/step - loss: 0.0488 - accuracy: 0.9856 - val_loss: 0.4824 - val_accuracy: 0.8912\n",
      "Fold 10\n",
      "Epoch 1/10\n",
      "117/117 [==============================] - ETA: 0s - loss: 0.0602 - accuracy: 0.9843"
     ]
    },
    {
     "name": "stderr",
     "output_type": "stream",
     "text": [
      "2023-04-14 00:50:02.672964: W tensorflow/core/framework/dataset.cc:769] Input of GeneratorDatasetOp::Dataset will not be optimized because the dataset does not implement the AsGraphDefInternal() method needed to apply optimizations.\n"
     ]
    },
    {
     "name": "stdout",
     "output_type": "stream",
     "text": [
      "117/117 [==============================] - 61s 524ms/step - loss: 0.0602 - accuracy: 0.9843 - val_loss: 0.3567 - val_accuracy: 0.9178\n",
      "Epoch 2/10\n",
      "117/117 [==============================] - ETA: 0s - loss: 0.0310 - accuracy: 0.9909"
     ]
    },
    {
     "name": "stderr",
     "output_type": "stream",
     "text": [
      "2023-04-14 00:51:04.055668: W tensorflow/core/framework/dataset.cc:769] Input of GeneratorDatasetOp::Dataset will not be optimized because the dataset does not implement the AsGraphDefInternal() method needed to apply optimizations.\n"
     ]
    },
    {
     "name": "stdout",
     "output_type": "stream",
     "text": [
      "117/117 [==============================] - 61s 525ms/step - loss: 0.0310 - accuracy: 0.9909 - val_loss: 7.2557 - val_accuracy: 0.4571\n",
      "Epoch 3/10\n",
      "117/117 [==============================] - ETA: 0s - loss: 0.0422 - accuracy: 0.9889"
     ]
    },
    {
     "name": "stderr",
     "output_type": "stream",
     "text": [
      "2023-04-14 00:52:05.427276: W tensorflow/core/framework/dataset.cc:769] Input of GeneratorDatasetOp::Dataset will not be optimized because the dataset does not implement the AsGraphDefInternal() method needed to apply optimizations.\n"
     ]
    },
    {
     "name": "stdout",
     "output_type": "stream",
     "text": [
      "117/117 [==============================] - 61s 525ms/step - loss: 0.0422 - accuracy: 0.9889 - val_loss: 0.2232 - val_accuracy: 0.9468\n",
      "Epoch 4/10\n",
      "117/117 [==============================] - ETA: 0s - loss: 0.0452 - accuracy: 0.9882"
     ]
    },
    {
     "name": "stderr",
     "output_type": "stream",
     "text": [
      "2023-04-14 00:53:06.544445: W tensorflow/core/framework/dataset.cc:769] Input of GeneratorDatasetOp::Dataset will not be optimized because the dataset does not implement the AsGraphDefInternal() method needed to apply optimizations.\n"
     ]
    },
    {
     "name": "stdout",
     "output_type": "stream",
     "text": [
      "117/117 [==============================] - 61s 522ms/step - loss: 0.0452 - accuracy: 0.9882 - val_loss: 1.7820 - val_accuracy: 0.7533\n",
      "Epoch 5/10\n",
      "117/117 [==============================] - ETA: 0s - loss: 0.0333 - accuracy: 0.9903"
     ]
    },
    {
     "name": "stderr",
     "output_type": "stream",
     "text": [
      "2023-04-14 00:54:07.863017: W tensorflow/core/framework/dataset.cc:769] Input of GeneratorDatasetOp::Dataset will not be optimized because the dataset does not implement the AsGraphDefInternal() method needed to apply optimizations.\n"
     ]
    },
    {
     "name": "stdout",
     "output_type": "stream",
     "text": [
      "117/117 [==============================] - 61s 524ms/step - loss: 0.0333 - accuracy: 0.9903 - val_loss: 7.1748 - val_accuracy: 0.4099\n",
      "Epoch 6/10\n",
      "117/117 [==============================] - ETA: 0s - loss: 0.0195 - accuracy: 0.9946"
     ]
    },
    {
     "name": "stderr",
     "output_type": "stream",
     "text": [
      "2023-04-14 00:55:09.162009: W tensorflow/core/framework/dataset.cc:769] Input of GeneratorDatasetOp::Dataset will not be optimized because the dataset does not implement the AsGraphDefInternal() method needed to apply optimizations.\n"
     ]
    },
    {
     "name": "stdout",
     "output_type": "stream",
     "text": [
      "117/117 [==============================] - 61s 524ms/step - loss: 0.0195 - accuracy: 0.9946 - val_loss: 0.2547 - val_accuracy: 0.9480\n",
      "Epoch 7/10\n",
      "117/117 [==============================] - ETA: 0s - loss: 0.0075 - accuracy: 0.9980"
     ]
    },
    {
     "name": "stderr",
     "output_type": "stream",
     "text": [
      "2023-04-14 00:56:10.190002: W tensorflow/core/framework/dataset.cc:769] Input of GeneratorDatasetOp::Dataset will not be optimized because the dataset does not implement the AsGraphDefInternal() method needed to apply optimizations.\n"
     ]
    },
    {
     "name": "stdout",
     "output_type": "stream",
     "text": [
      "117/117 [==============================] - 61s 522ms/step - loss: 0.0075 - accuracy: 0.9980 - val_loss: 0.3171 - val_accuracy: 0.9323\n",
      "Epoch 8/10\n",
      "117/117 [==============================] - ETA: 0s - loss: 0.0010 - accuracy: 0.9997  "
     ]
    },
    {
     "name": "stderr",
     "output_type": "stream",
     "text": [
      "2023-04-14 00:57:11.405928: W tensorflow/core/framework/dataset.cc:769] Input of GeneratorDatasetOp::Dataset will not be optimized because the dataset does not implement the AsGraphDefInternal() method needed to apply optimizations.\n"
     ]
    },
    {
     "name": "stdout",
     "output_type": "stream",
     "text": [
      "117/117 [==============================] - 61s 523ms/step - loss: 0.0010 - accuracy: 0.9997 - val_loss: 0.2699 - val_accuracy: 0.9432\n",
      "Epoch 9/10\n",
      "117/117 [==============================] - ETA: 0s - loss: 4.2009e-04 - accuracy: 1.0000"
     ]
    },
    {
     "name": "stderr",
     "output_type": "stream",
     "text": [
      "2023-04-14 00:58:12.654195: W tensorflow/core/framework/dataset.cc:769] Input of GeneratorDatasetOp::Dataset will not be optimized because the dataset does not implement the AsGraphDefInternal() method needed to apply optimizations.\n"
     ]
    },
    {
     "name": "stdout",
     "output_type": "stream",
     "text": [
      "117/117 [==============================] - 61s 524ms/step - loss: 4.2009e-04 - accuracy: 1.0000 - val_loss: 0.0017 - val_accuracy: 1.0000\n",
      "Epoch 10/10\n",
      "117/117 [==============================] - ETA: 0s - loss: 3.1783e-04 - accuracy: 1.0000"
     ]
    },
    {
     "name": "stderr",
     "output_type": "stream",
     "text": [
      "2023-04-14 00:59:14.106096: W tensorflow/core/framework/dataset.cc:769] Input of GeneratorDatasetOp::Dataset will not be optimized because the dataset does not implement the AsGraphDefInternal() method needed to apply optimizations.\n"
     ]
    },
    {
     "name": "stdout",
     "output_type": "stream",
     "text": [
      "117/117 [==============================] - 61s 525ms/step - loss: 3.1783e-04 - accuracy: 1.0000 - val_loss: 0.0036 - val_accuracy: 1.0000\n",
      "WARNING:tensorflow:There are non-GPU devices in `tf.distribute.Strategy`, not using nccl allreduce.\n",
      "INFO:tensorflow:Using MirroredStrategy with devices ('/job:localhost/replica:0/task:0/device:CPU:0',)\n",
      "Model: \"sequential_2\"\n",
      "_________________________________________________________________\n",
      " Layer (type)                Output Shape              Param #   \n",
      "=================================================================\n",
      " conv2d_16 (Conv2D)          (None, 127, 64, 64)       640       \n",
      "                                                                 \n",
      " batch_normalization_16 (Bat  (None, 127, 64, 64)      256       \n",
      " chNormalization)                                                \n",
      "                                                                 \n",
      " conv2d_17 (Conv2D)          (None, 127, 64, 64)       36928     \n",
      "                                                                 \n",
      " batch_normalization_17 (Bat  (None, 127, 64, 64)      256       \n",
      " chNormalization)                                                \n",
      "                                                                 \n",
      " max_pooling2d_8 (MaxPooling  (None, 63, 32, 64)       0         \n",
      " 2D)                                                             \n",
      "                                                                 \n",
      " conv2d_18 (Conv2D)          (None, 63, 32, 128)       73856     \n",
      "                                                                 \n",
      " batch_normalization_18 (Bat  (None, 63, 32, 128)      512       \n",
      " chNormalization)                                                \n",
      "                                                                 \n",
      " conv2d_19 (Conv2D)          (None, 63, 32, 128)       147584    \n",
      "                                                                 \n",
      " batch_normalization_19 (Bat  (None, 63, 32, 128)      512       \n",
      " chNormalization)                                                \n",
      "                                                                 \n",
      " max_pooling2d_9 (MaxPooling  (None, 31, 16, 128)      0         \n",
      " 2D)                                                             \n",
      "                                                                 \n",
      " conv2d_20 (Conv2D)          (None, 31, 16, 256)       295168    \n",
      "                                                                 \n",
      " batch_normalization_20 (Bat  (None, 31, 16, 256)      1024      \n",
      " chNormalization)                                                \n",
      "                                                                 \n",
      " conv2d_21 (Conv2D)          (None, 31, 16, 256)       590080    \n",
      "                                                                 \n",
      " batch_normalization_21 (Bat  (None, 31, 16, 256)      1024      \n",
      " chNormalization)                                                \n",
      "                                                                 \n",
      " max_pooling2d_10 (MaxPoolin  (None, 15, 8, 256)       0         \n",
      " g2D)                                                            \n",
      "                                                                 \n",
      " conv2d_22 (Conv2D)          (None, 15, 8, 512)        1180160   \n",
      "                                                                 \n",
      " batch_normalization_22 (Bat  (None, 15, 8, 512)       2048      \n",
      " chNormalization)                                                \n",
      "                                                                 \n",
      " conv2d_23 (Conv2D)          (None, 15, 8, 512)        2359808   \n",
      "                                                                 \n",
      " batch_normalization_23 (Bat  (None, 15, 8, 512)       2048      \n",
      " chNormalization)                                                \n",
      "                                                                 \n",
      " max_pooling2d_11 (MaxPoolin  (None, 7, 4, 512)        0         \n",
      " g2D)                                                            \n",
      "                                                                 \n",
      " global_max_pooling2d_2 (Glo  (None, 512)              0         \n",
      " balMaxPooling2D)                                                \n",
      "                                                                 \n",
      " flatten_2 (Flatten)         (None, 512)               0         \n",
      "                                                                 \n",
      " dense_2 (Dense)             (None, 10)                5130      \n",
      "                                                                 \n",
      "=================================================================\n",
      "Total params: 4,697,034\n",
      "Trainable params: 4,693,194\n",
      "Non-trainable params: 3,840\n",
      "_________________________________________________________________\n",
      "Number of frozen layers:  0\n",
      "Epoch 1/150\n",
      "20/20 [==============================] - 15s 623ms/step - loss: 1.8339 - accuracy: 0.6310 - val_loss: 2.2774 - val_accuracy: 0.1750\n",
      "Epoch 2/150\n",
      "20/20 [==============================] - 11s 562ms/step - loss: 0.1335 - accuracy: 0.9586 - val_loss: 2.4329 - val_accuracy: 0.0875\n",
      "Epoch 3/150\n",
      "20/20 [==============================] - ETA: 0s - loss: 0.0231 - accuracy: 0.9969"
     ]
    },
    {
     "name": "stderr",
     "output_type": "stream",
     "text": [
      "2023-04-14 00:59:54.142765: W tensorflow/core/framework/dataset.cc:769] Input of GeneratorDatasetOp::Dataset will not be optimized because the dataset does not implement the AsGraphDefInternal() method needed to apply optimizations.\n"
     ]
    },
    {
     "name": "stdout",
     "output_type": "stream",
     "text": [
      "20/20 [==============================] - 11s 563ms/step - loss: 0.0231 - accuracy: 0.9969 - val_loss: 2.6937 - val_accuracy: 0.0875\n",
      "Epoch 4/150\n",
      "20/20 [==============================] - 11s 559ms/step - loss: 0.0088 - accuracy: 0.9992 - val_loss: 3.0306 - val_accuracy: 0.0875\n",
      "Epoch 5/150\n",
      "20/20 [==============================] - 11s 561ms/step - loss: 0.0052 - accuracy: 0.9992 - val_loss: 3.4311 - val_accuracy: 0.0875\n",
      "Epoch 6/150\n",
      "20/20 [==============================] - ETA: 0s - loss: 0.0034 - accuracy: 1.0000"
     ]
    },
    {
     "name": "stderr",
     "output_type": "stream",
     "text": [
      "2023-04-14 01:00:27.550797: W tensorflow/core/framework/dataset.cc:769] Input of GeneratorDatasetOp::Dataset will not be optimized because the dataset does not implement the AsGraphDefInternal() method needed to apply optimizations.\n"
     ]
    },
    {
     "name": "stdout",
     "output_type": "stream",
     "text": [
      "20/20 [==============================] - 11s 559ms/step - loss: 0.0034 - accuracy: 1.0000 - val_loss: 3.8566 - val_accuracy: 0.1250\n",
      "Epoch 7/150\n",
      "20/20 [==============================] - 11s 563ms/step - loss: 0.0022 - accuracy: 1.0000 - val_loss: 4.3239 - val_accuracy: 0.1281\n",
      "Epoch 8/150\n",
      "20/20 [==============================] - 11s 560ms/step - loss: 0.0033 - accuracy: 1.0000 - val_loss: 4.7767 - val_accuracy: 0.1125\n",
      "Epoch 9/150\n",
      "20/20 [==============================] - ETA: 0s - loss: 0.0027 - accuracy: 1.0000"
     ]
    },
    {
     "name": "stderr",
     "output_type": "stream",
     "text": [
      "2023-04-14 01:01:01.016587: W tensorflow/core/framework/dataset.cc:769] Input of GeneratorDatasetOp::Dataset will not be optimized because the dataset does not implement the AsGraphDefInternal() method needed to apply optimizations.\n"
     ]
    },
    {
     "name": "stdout",
     "output_type": "stream",
     "text": [
      "20/20 [==============================] - 11s 559ms/step - loss: 0.0027 - accuracy: 1.0000 - val_loss: 5.1541 - val_accuracy: 0.1063\n",
      "Epoch 10/150\n",
      "20/20 [==============================] - 11s 562ms/step - loss: 0.0016 - accuracy: 1.0000 - val_loss: 5.4900 - val_accuracy: 0.1063\n",
      "Epoch 11/150\n",
      "20/20 [==============================] - 11s 557ms/step - loss: 0.0011 - accuracy: 1.0000 - val_loss: 5.8546 - val_accuracy: 0.1063\n",
      "Epoch 12/150\n",
      "20/20 [==============================] - ETA: 0s - loss: 0.0014 - accuracy: 1.0000"
     ]
    },
    {
     "name": "stderr",
     "output_type": "stream",
     "text": [
      "2023-04-14 01:01:34.488115: W tensorflow/core/framework/dataset.cc:769] Input of GeneratorDatasetOp::Dataset will not be optimized because the dataset does not implement the AsGraphDefInternal() method needed to apply optimizations.\n"
     ]
    },
    {
     "name": "stdout",
     "output_type": "stream",
     "text": [
      "20/20 [==============================] - 11s 559ms/step - loss: 0.0014 - accuracy: 1.0000 - val_loss: 6.0954 - val_accuracy: 0.1063\n",
      "Epoch 13/150\n",
      "20/20 [==============================] - 11s 556ms/step - loss: 0.0012 - accuracy: 1.0000 - val_loss: 6.1284 - val_accuracy: 0.1063\n",
      "Epoch 14/150\n",
      "20/20 [==============================] - 11s 558ms/step - loss: 0.0017 - accuracy: 1.0000 - val_loss: 6.0630 - val_accuracy: 0.1094\n",
      "Epoch 15/150\n",
      "20/20 [==============================] - ETA: 0s - loss: 0.0012 - accuracy: 1.0000"
     ]
    },
    {
     "name": "stderr",
     "output_type": "stream",
     "text": [
      "2023-04-14 01:02:07.681340: W tensorflow/core/framework/dataset.cc:769] Input of GeneratorDatasetOp::Dataset will not be optimized because the dataset does not implement the AsGraphDefInternal() method needed to apply optimizations.\n"
     ]
    },
    {
     "name": "stdout",
     "output_type": "stream",
     "text": [
      "20/20 [==============================] - 11s 556ms/step - loss: 0.0012 - accuracy: 1.0000 - val_loss: 5.4121 - val_accuracy: 0.1187\n",
      "Epoch 16/150\n",
      "20/20 [==============================] - 11s 554ms/step - loss: 0.0011 - accuracy: 1.0000 - val_loss: 4.8775 - val_accuracy: 0.1281\n",
      "Epoch 17/150\n",
      "20/20 [==============================] - 11s 558ms/step - loss: 7.2561e-04 - accuracy: 1.0000 - val_loss: 4.2565 - val_accuracy: 0.1562\n",
      "Epoch 18/150\n",
      "20/20 [==============================] - ETA: 0s - loss: 6.9153e-04 - accuracy: 1.0000"
     ]
    },
    {
     "name": "stderr",
     "output_type": "stream",
     "text": [
      "2023-04-14 01:02:40.935536: W tensorflow/core/framework/dataset.cc:769] Input of GeneratorDatasetOp::Dataset will not be optimized because the dataset does not implement the AsGraphDefInternal() method needed to apply optimizations.\n"
     ]
    },
    {
     "name": "stdout",
     "output_type": "stream",
     "text": [
      "20/20 [==============================] - 11s 559ms/step - loss: 6.9153e-04 - accuracy: 1.0000 - val_loss: 3.5176 - val_accuracy: 0.2250\n",
      "Epoch 19/150\n",
      "20/20 [==============================] - 11s 557ms/step - loss: 5.4963e-04 - accuracy: 1.0000 - val_loss: 2.7949 - val_accuracy: 0.3125\n",
      "Epoch 20/150\n",
      "20/20 [==============================] - 11s 559ms/step - loss: 5.4627e-04 - accuracy: 1.0000 - val_loss: 2.2042 - val_accuracy: 0.3938\n",
      "Epoch 21/150\n",
      "20/20 [==============================] - ETA: 0s - loss: 5.1355e-04 - accuracy: 1.0000"
     ]
    },
    {
     "name": "stderr",
     "output_type": "stream",
     "text": [
      "2023-04-14 01:03:14.232609: W tensorflow/core/framework/dataset.cc:769] Input of GeneratorDatasetOp::Dataset will not be optimized because the dataset does not implement the AsGraphDefInternal() method needed to apply optimizations.\n"
     ]
    },
    {
     "name": "stdout",
     "output_type": "stream",
     "text": [
      "20/20 [==============================] - 11s 557ms/step - loss: 5.1355e-04 - accuracy: 1.0000 - val_loss: 1.5944 - val_accuracy: 0.5094\n",
      "Epoch 22/150\n",
      "20/20 [==============================] - 11s 560ms/step - loss: 6.2066e-04 - accuracy: 1.0000 - val_loss: 1.1174 - val_accuracy: 0.6406\n",
      "Epoch 23/150\n",
      "20/20 [==============================] - 11s 557ms/step - loss: 6.3155e-04 - accuracy: 1.0000 - val_loss: 0.7541 - val_accuracy: 0.7437\n",
      "Epoch 24/150\n",
      "20/20 [==============================] - ETA: 0s - loss: 5.6357e-04 - accuracy: 1.0000"
     ]
    },
    {
     "name": "stderr",
     "output_type": "stream",
     "text": [
      "2023-04-14 01:03:47.653468: W tensorflow/core/framework/dataset.cc:769] Input of GeneratorDatasetOp::Dataset will not be optimized because the dataset does not implement the AsGraphDefInternal() method needed to apply optimizations.\n"
     ]
    },
    {
     "name": "stdout",
     "output_type": "stream",
     "text": [
      "20/20 [==============================] - 11s 561ms/step - loss: 5.6357e-04 - accuracy: 1.0000 - val_loss: 0.5008 - val_accuracy: 0.8375\n",
      "Epoch 25/150\n",
      "20/20 [==============================] - 11s 563ms/step - loss: 3.8942e-04 - accuracy: 1.0000 - val_loss: 0.3495 - val_accuracy: 0.8750\n",
      "Epoch 26/150\n",
      "20/20 [==============================] - 11s 553ms/step - loss: 3.5859e-04 - accuracy: 1.0000 - val_loss: 0.2573 - val_accuracy: 0.9062\n",
      "Epoch 27/150\n",
      "20/20 [==============================] - ETA: 0s - loss: 3.0921e-04 - accuracy: 1.0000"
     ]
    },
    {
     "name": "stderr",
     "output_type": "stream",
     "text": [
      "2023-04-14 01:04:21.029878: W tensorflow/core/framework/dataset.cc:769] Input of GeneratorDatasetOp::Dataset will not be optimized because the dataset does not implement the AsGraphDefInternal() method needed to apply optimizations.\n"
     ]
    },
    {
     "name": "stdout",
     "output_type": "stream",
     "text": [
      "20/20 [==============================] - 11s 561ms/step - loss: 3.0921e-04 - accuracy: 1.0000 - val_loss: 0.1958 - val_accuracy: 0.9312\n",
      "Epoch 28/150\n",
      "20/20 [==============================] - 11s 556ms/step - loss: 7.2075e-04 - accuracy: 1.0000 - val_loss: 0.1521 - val_accuracy: 0.9531\n",
      "Epoch 29/150\n",
      "20/20 [==============================] - 11s 560ms/step - loss: 3.3064e-04 - accuracy: 1.0000 - val_loss: 0.1234 - val_accuracy: 0.9563\n",
      "Epoch 30/150\n",
      "20/20 [==============================] - ETA: 0s - loss: 3.7578e-04 - accuracy: 1.0000"
     ]
    },
    {
     "name": "stderr",
     "output_type": "stream",
     "text": [
      "2023-04-14 01:04:54.364752: W tensorflow/core/framework/dataset.cc:769] Input of GeneratorDatasetOp::Dataset will not be optimized because the dataset does not implement the AsGraphDefInternal() method needed to apply optimizations.\n"
     ]
    },
    {
     "name": "stdout",
     "output_type": "stream",
     "text": [
      "20/20 [==============================] - 11s 558ms/step - loss: 3.7578e-04 - accuracy: 1.0000 - val_loss: 0.1041 - val_accuracy: 0.9656\n",
      "Epoch 31/150\n",
      "20/20 [==============================] - 11s 557ms/step - loss: 4.4906e-04 - accuracy: 1.0000 - val_loss: 0.0887 - val_accuracy: 0.9688\n",
      "Epoch 32/150\n",
      "20/20 [==============================] - 11s 559ms/step - loss: 3.0921e-04 - accuracy: 1.0000 - val_loss: 0.0780 - val_accuracy: 0.9719\n",
      "Epoch 33/150\n",
      "20/20 [==============================] - ETA: 0s - loss: 2.6901e-04 - accuracy: 1.0000"
     ]
    },
    {
     "name": "stderr",
     "output_type": "stream",
     "text": [
      "2023-04-14 01:05:27.664205: W tensorflow/core/framework/dataset.cc:769] Input of GeneratorDatasetOp::Dataset will not be optimized because the dataset does not implement the AsGraphDefInternal() method needed to apply optimizations.\n"
     ]
    },
    {
     "name": "stdout",
     "output_type": "stream",
     "text": [
      "20/20 [==============================] - 11s 556ms/step - loss: 2.6901e-04 - accuracy: 1.0000 - val_loss: 0.0709 - val_accuracy: 0.9719\n",
      "Epoch 34/150\n",
      "20/20 [==============================] - 11s 559ms/step - loss: 7.6360e-04 - accuracy: 1.0000 - val_loss: 0.0660 - val_accuracy: 0.9812\n",
      "Epoch 35/150\n",
      "20/20 [==============================] - 11s 558ms/step - loss: 2.7492e-04 - accuracy: 1.0000 - val_loss: 0.0607 - val_accuracy: 0.9844\n",
      "Epoch 36/150\n",
      "20/20 [==============================] - ETA: 0s - loss: 3.5621e-04 - accuracy: 1.0000"
     ]
    },
    {
     "name": "stderr",
     "output_type": "stream",
     "text": [
      "2023-04-14 01:06:01.170519: W tensorflow/core/framework/dataset.cc:769] Input of GeneratorDatasetOp::Dataset will not be optimized because the dataset does not implement the AsGraphDefInternal() method needed to apply optimizations.\n"
     ]
    },
    {
     "name": "stdout",
     "output_type": "stream",
     "text": [
      "20/20 [==============================] - 11s 567ms/step - loss: 3.5621e-04 - accuracy: 1.0000 - val_loss: 0.0594 - val_accuracy: 0.9812\n",
      "Epoch 37/150\n",
      "20/20 [==============================] - 11s 561ms/step - loss: 3.0246e-04 - accuracy: 1.0000 - val_loss: 0.0578 - val_accuracy: 0.9812\n",
      "Epoch 38/150\n",
      "20/20 [==============================] - 11s 560ms/step - loss: 3.0246e-04 - accuracy: 1.0000 - val_loss: 0.0556 - val_accuracy: 0.9812\n",
      "Epoch 39/150\n",
      "20/20 [==============================] - ETA: 0s - loss: 1.9856e-04 - accuracy: 1.0000"
     ]
    },
    {
     "name": "stderr",
     "output_type": "stream",
     "text": [
      "2023-04-14 01:06:34.658148: W tensorflow/core/framework/dataset.cc:769] Input of GeneratorDatasetOp::Dataset will not be optimized because the dataset does not implement the AsGraphDefInternal() method needed to apply optimizations.\n"
     ]
    },
    {
     "name": "stdout",
     "output_type": "stream",
     "text": [
      "20/20 [==============================] - 11s 561ms/step - loss: 1.9856e-04 - accuracy: 1.0000 - val_loss: 0.0539 - val_accuracy: 0.9812\n",
      "Epoch 40/150\n",
      "20/20 [==============================] - 11s 555ms/step - loss: 2.1879e-04 - accuracy: 1.0000 - val_loss: 0.0526 - val_accuracy: 0.9812\n",
      "Epoch 41/150\n",
      "20/20 [==============================] - 11s 555ms/step - loss: 4.8805e-04 - accuracy: 1.0000 - val_loss: 0.0573 - val_accuracy: 0.9844\n",
      "Epoch 42/150\n",
      "20/20 [==============================] - ETA: 0s - loss: 3.4061e-04 - accuracy: 1.0000"
     ]
    },
    {
     "name": "stderr",
     "output_type": "stream",
     "text": [
      "2023-04-14 01:07:07.943110: W tensorflow/core/framework/dataset.cc:769] Input of GeneratorDatasetOp::Dataset will not be optimized because the dataset does not implement the AsGraphDefInternal() method needed to apply optimizations.\n"
     ]
    },
    {
     "name": "stdout",
     "output_type": "stream",
     "text": [
      "20/20 [==============================] - 11s 560ms/step - loss: 3.4061e-04 - accuracy: 1.0000 - val_loss: 0.0549 - val_accuracy: 0.9844\n",
      "Epoch 43/150\n",
      "20/20 [==============================] - 11s 559ms/step - loss: 2.1483e-04 - accuracy: 1.0000 - val_loss: 0.0517 - val_accuracy: 0.9875\n",
      "Epoch 44/150\n",
      "20/20 [==============================] - 11s 558ms/step - loss: 2.1929e-04 - accuracy: 1.0000 - val_loss: 0.0497 - val_accuracy: 0.9875\n",
      "Epoch 45/150\n",
      "20/20 [==============================] - ETA: 0s - loss: 1.7250e-04 - accuracy: 1.0000"
     ]
    },
    {
     "name": "stderr",
     "output_type": "stream",
     "text": [
      "2023-04-14 01:07:41.272274: W tensorflow/core/framework/dataset.cc:769] Input of GeneratorDatasetOp::Dataset will not be optimized because the dataset does not implement the AsGraphDefInternal() method needed to apply optimizations.\n"
     ]
    },
    {
     "name": "stdout",
     "output_type": "stream",
     "text": [
      "20/20 [==============================] - 11s 556ms/step - loss: 1.7250e-04 - accuracy: 1.0000 - val_loss: 0.0488 - val_accuracy: 0.9875\n",
      "Epoch 46/150\n",
      "20/20 [==============================] - 11s 558ms/step - loss: 5.1019e-04 - accuracy: 1.0000 - val_loss: 0.0470 - val_accuracy: 0.9844\n",
      "Epoch 47/150\n",
      "20/20 [==============================] - 11s 559ms/step - loss: 2.6505e-04 - accuracy: 1.0000 - val_loss: 0.0505 - val_accuracy: 0.9844\n",
      "Epoch 48/150\n",
      "20/20 [==============================] - ETA: 0s - loss: 1.9169e-04 - accuracy: 1.0000"
     ]
    },
    {
     "name": "stderr",
     "output_type": "stream",
     "text": [
      "2023-04-14 01:08:14.623910: W tensorflow/core/framework/dataset.cc:769] Input of GeneratorDatasetOp::Dataset will not be optimized because the dataset does not implement the AsGraphDefInternal() method needed to apply optimizations.\n"
     ]
    },
    {
     "name": "stdout",
     "output_type": "stream",
     "text": [
      "20/20 [==============================] - 11s 556ms/step - loss: 1.9169e-04 - accuracy: 1.0000 - val_loss: 0.0506 - val_accuracy: 0.9844\n",
      "Epoch 49/150\n",
      "20/20 [==============================] - 11s 556ms/step - loss: 2.3670e-04 - accuracy: 1.0000 - val_loss: 0.0487 - val_accuracy: 0.9844\n",
      "Epoch 50/150\n",
      "20/20 [==============================] - 11s 564ms/step - loss: 2.2009e-04 - accuracy: 1.0000 - val_loss: 0.0482 - val_accuracy: 0.9844\n",
      "Epoch 51/150\n",
      "20/20 [==============================] - ETA: 0s - loss: 2.3235e-04 - accuracy: 1.0000"
     ]
    },
    {
     "name": "stderr",
     "output_type": "stream",
     "text": [
      "2023-04-14 01:08:47.982120: W tensorflow/core/framework/dataset.cc:769] Input of GeneratorDatasetOp::Dataset will not be optimized because the dataset does not implement the AsGraphDefInternal() method needed to apply optimizations.\n"
     ]
    },
    {
     "name": "stdout",
     "output_type": "stream",
     "text": [
      "20/20 [==============================] - 11s 557ms/step - loss: 2.3235e-04 - accuracy: 1.0000 - val_loss: 0.0486 - val_accuracy: 0.9812\n",
      "Epoch 52/150\n",
      "20/20 [==============================] - 11s 558ms/step - loss: 1.3818e-04 - accuracy: 1.0000 - val_loss: 0.0484 - val_accuracy: 0.9812\n",
      "Epoch 53/150\n",
      "20/20 [==============================] - 11s 559ms/step - loss: 2.2190e-04 - accuracy: 1.0000 - val_loss: 0.0470 - val_accuracy: 0.9875\n",
      "Epoch 54/150\n",
      "20/20 [==============================] - ETA: 0s - loss: 2.4156e-04 - accuracy: 1.0000"
     ]
    },
    {
     "name": "stderr",
     "output_type": "stream",
     "text": [
      "2023-04-14 01:09:21.360584: W tensorflow/core/framework/dataset.cc:769] Input of GeneratorDatasetOp::Dataset will not be optimized because the dataset does not implement the AsGraphDefInternal() method needed to apply optimizations.\n"
     ]
    },
    {
     "name": "stdout",
     "output_type": "stream",
     "text": [
      "20/20 [==============================] - 11s 559ms/step - loss: 2.4156e-04 - accuracy: 1.0000 - val_loss: 0.0470 - val_accuracy: 0.9875\n",
      "Epoch 55/150\n",
      "20/20 [==============================] - 11s 560ms/step - loss: 1.4049e-04 - accuracy: 1.0000 - val_loss: 0.0471 - val_accuracy: 0.9875\n",
      "Epoch 56/150\n",
      "20/20 [==============================] - 11s 558ms/step - loss: 1.7178e-04 - accuracy: 1.0000 - val_loss: 0.0486 - val_accuracy: 0.9844\n",
      "Epoch 57/150\n",
      "20/20 [==============================] - ETA: 0s - loss: 1.4197e-04 - accuracy: 1.0000"
     ]
    },
    {
     "name": "stderr",
     "output_type": "stream",
     "text": [
      "2023-04-14 01:09:54.742081: W tensorflow/core/framework/dataset.cc:769] Input of GeneratorDatasetOp::Dataset will not be optimized because the dataset does not implement the AsGraphDefInternal() method needed to apply optimizations.\n"
     ]
    },
    {
     "name": "stdout",
     "output_type": "stream",
     "text": [
      "20/20 [==============================] - 11s 560ms/step - loss: 1.4197e-04 - accuracy: 1.0000 - val_loss: 0.0480 - val_accuracy: 0.9844\n",
      "Epoch 58/150\n",
      "20/20 [==============================] - 11s 560ms/step - loss: 1.1508e-04 - accuracy: 1.0000 - val_loss: 0.0477 - val_accuracy: 0.9844\n",
      "Epoch 59/150\n",
      "20/20 [==============================] - 11s 556ms/step - loss: 1.1069e-04 - accuracy: 1.0000 - val_loss: 0.0472 - val_accuracy: 0.9875\n",
      "Epoch 60/150\n",
      "20/20 [==============================] - ETA: 0s - loss: 1.4546e-04 - accuracy: 1.0000"
     ]
    },
    {
     "name": "stderr",
     "output_type": "stream",
     "text": [
      "2023-04-14 01:10:28.197668: W tensorflow/core/framework/dataset.cc:769] Input of GeneratorDatasetOp::Dataset will not be optimized because the dataset does not implement the AsGraphDefInternal() method needed to apply optimizations.\n"
     ]
    },
    {
     "name": "stdout",
     "output_type": "stream",
     "text": [
      "20/20 [==============================] - 11s 563ms/step - loss: 1.4546e-04 - accuracy: 1.0000 - val_loss: 0.0466 - val_accuracy: 0.9875\n",
      "Epoch 61/150\n",
      "20/20 [==============================] - 11s 559ms/step - loss: 1.6243e-04 - accuracy: 1.0000 - val_loss: 0.0462 - val_accuracy: 0.9875\n",
      "Epoch 62/150\n",
      "20/20 [==============================] - 11s 563ms/step - loss: 1.2102e-04 - accuracy: 1.0000 - val_loss: 0.0466 - val_accuracy: 0.9844\n",
      "Epoch 63/150\n",
      "20/20 [==============================] - ETA: 0s - loss: 1.4077e-04 - accuracy: 1.0000"
     ]
    },
    {
     "name": "stderr",
     "output_type": "stream",
     "text": [
      "2023-04-14 01:11:01.691482: W tensorflow/core/framework/dataset.cc:769] Input of GeneratorDatasetOp::Dataset will not be optimized because the dataset does not implement the AsGraphDefInternal() method needed to apply optimizations.\n"
     ]
    },
    {
     "name": "stdout",
     "output_type": "stream",
     "text": [
      "20/20 [==============================] - 11s 560ms/step - loss: 1.4077e-04 - accuracy: 1.0000 - val_loss: 0.0470 - val_accuracy: 0.9844\n",
      "Epoch 64/150\n",
      "20/20 [==============================] - 11s 567ms/step - loss: 1.0278e-04 - accuracy: 1.0000 - val_loss: 0.0474 - val_accuracy: 0.9844\n",
      "Epoch 65/150\n",
      "20/20 [==============================] - 11s 563ms/step - loss: 8.6830e-05 - accuracy: 1.0000 - val_loss: 0.0472 - val_accuracy: 0.9844\n",
      "Epoch 66/150\n",
      "20/20 [==============================] - ETA: 0s - loss: 1.2084e-04 - accuracy: 1.0000"
     ]
    },
    {
     "name": "stderr",
     "output_type": "stream",
     "text": [
      "2023-04-14 01:11:35.428861: W tensorflow/core/framework/dataset.cc:769] Input of GeneratorDatasetOp::Dataset will not be optimized because the dataset does not implement the AsGraphDefInternal() method needed to apply optimizations.\n"
     ]
    },
    {
     "name": "stdout",
     "output_type": "stream",
     "text": [
      "20/20 [==============================] - 11s 565ms/step - loss: 1.2084e-04 - accuracy: 1.0000 - val_loss: 0.0463 - val_accuracy: 0.9875\n",
      "Epoch 67/150\n",
      "20/20 [==============================] - 11s 562ms/step - loss: 1.1526e-04 - accuracy: 1.0000 - val_loss: 0.0459 - val_accuracy: 0.9875\n",
      "Epoch 68/150\n",
      "20/20 [==============================] - 11s 567ms/step - loss: 8.9625e-05 - accuracy: 1.0000 - val_loss: 0.0461 - val_accuracy: 0.9875\n",
      "Epoch 69/150\n",
      "20/20 [==============================] - ETA: 0s - loss: 8.8410e-05 - accuracy: 1.0000"
     ]
    },
    {
     "name": "stderr",
     "output_type": "stream",
     "text": [
      "2023-04-14 01:12:09.094107: W tensorflow/core/framework/dataset.cc:769] Input of GeneratorDatasetOp::Dataset will not be optimized because the dataset does not implement the AsGraphDefInternal() method needed to apply optimizations.\n"
     ]
    },
    {
     "name": "stdout",
     "output_type": "stream",
     "text": [
      "20/20 [==============================] - 11s 560ms/step - loss: 8.8410e-05 - accuracy: 1.0000 - val_loss: 0.0461 - val_accuracy: 0.9875\n",
      "Epoch 70/150\n",
      "20/20 [==============================] - 11s 563ms/step - loss: 8.6118e-05 - accuracy: 1.0000 - val_loss: 0.0461 - val_accuracy: 0.9875\n",
      "Epoch 71/150\n",
      "20/20 [==============================] - 11s 562ms/step - loss: 7.2586e-05 - accuracy: 1.0000 - val_loss: 0.0461 - val_accuracy: 0.9875\n",
      "Epoch 72/150\n",
      "20/20 [==============================] - ETA: 0s - loss: 1.0061e-04 - accuracy: 1.0000"
     ]
    },
    {
     "name": "stderr",
     "output_type": "stream",
     "text": [
      "2023-04-14 01:12:42.696010: W tensorflow/core/framework/dataset.cc:769] Input of GeneratorDatasetOp::Dataset will not be optimized because the dataset does not implement the AsGraphDefInternal() method needed to apply optimizations.\n"
     ]
    },
    {
     "name": "stdout",
     "output_type": "stream",
     "text": [
      "20/20 [==============================] - 11s 562ms/step - loss: 1.0061e-04 - accuracy: 1.0000 - val_loss: 0.0461 - val_accuracy: 0.9875\n",
      "Epoch 73/150\n",
      "20/20 [==============================] - 11s 565ms/step - loss: 8.4430e-05 - accuracy: 1.0000 - val_loss: 0.0459 - val_accuracy: 0.9875\n",
      "Epoch 74/150\n",
      "20/20 [==============================] - 11s 565ms/step - loss: 1.0731e-04 - accuracy: 1.0000 - val_loss: 0.0458 - val_accuracy: 0.9875\n",
      "Epoch 75/150\n",
      "20/20 [==============================] - ETA: 0s - loss: 9.8929e-05 - accuracy: 1.0000"
     ]
    },
    {
     "name": "stderr",
     "output_type": "stream",
     "text": [
      "2023-04-14 01:13:16.442278: W tensorflow/core/framework/dataset.cc:769] Input of GeneratorDatasetOp::Dataset will not be optimized because the dataset does not implement the AsGraphDefInternal() method needed to apply optimizations.\n"
     ]
    },
    {
     "name": "stdout",
     "output_type": "stream",
     "text": [
      "20/20 [==============================] - 11s 565ms/step - loss: 9.8929e-05 - accuracy: 1.0000 - val_loss: 0.0458 - val_accuracy: 0.9875\n",
      "Epoch 76/150\n",
      "20/20 [==============================] - 11s 565ms/step - loss: 9.0356e-05 - accuracy: 1.0000 - val_loss: 0.0459 - val_accuracy: 0.9875\n",
      "Epoch 77/150\n",
      "20/20 [==============================] - 11s 566ms/step - loss: 8.4234e-05 - accuracy: 1.0000 - val_loss: 0.0461 - val_accuracy: 0.9875\n",
      "Epoch 78/150\n",
      "20/20 [==============================] - ETA: 0s - loss: 8.0552e-05 - accuracy: 1.0000"
     ]
    },
    {
     "name": "stderr",
     "output_type": "stream",
     "text": [
      "2023-04-14 01:13:50.168753: W tensorflow/core/framework/dataset.cc:769] Input of GeneratorDatasetOp::Dataset will not be optimized because the dataset does not implement the AsGraphDefInternal() method needed to apply optimizations.\n"
     ]
    },
    {
     "name": "stdout",
     "output_type": "stream",
     "text": [
      "20/20 [==============================] - 11s 563ms/step - loss: 8.0552e-05 - accuracy: 1.0000 - val_loss: 0.0461 - val_accuracy: 0.9875\n",
      "Epoch 79/150\n",
      "20/20 [==============================] - 11s 567ms/step - loss: 8.8902e-05 - accuracy: 1.0000 - val_loss: 0.0459 - val_accuracy: 0.9875\n",
      "Epoch 80/150\n",
      "20/20 [==============================] - 11s 563ms/step - loss: 9.8671e-05 - accuracy: 1.0000 - val_loss: 0.0460 - val_accuracy: 0.9875\n",
      "Epoch 81/150\n",
      "20/20 [==============================] - ETA: 0s - loss: 9.6449e-05 - accuracy: 1.0000"
     ]
    },
    {
     "name": "stderr",
     "output_type": "stream",
     "text": [
      "2023-04-14 01:14:23.970577: W tensorflow/core/framework/dataset.cc:769] Input of GeneratorDatasetOp::Dataset will not be optimized because the dataset does not implement the AsGraphDefInternal() method needed to apply optimizations.\n"
     ]
    },
    {
     "name": "stdout",
     "output_type": "stream",
     "text": [
      "20/20 [==============================] - 11s 566ms/step - loss: 9.6449e-05 - accuracy: 1.0000 - val_loss: 0.0461 - val_accuracy: 0.9875\n",
      "Epoch 82/150\n",
      "20/20 [==============================] - 11s 567ms/step - loss: 7.3728e-05 - accuracy: 1.0000 - val_loss: 0.0463 - val_accuracy: 0.9875\n",
      "Epoch 83/150\n",
      "20/20 [==============================] - 11s 558ms/step - loss: 6.1299e-05 - accuracy: 1.0000 - val_loss: 0.0464 - val_accuracy: 0.9875\n",
      "Epoch 84/150\n",
      "20/20 [==============================] - ETA: 0s - loss: 8.0462e-05 - accuracy: 1.0000"
     ]
    },
    {
     "name": "stderr",
     "output_type": "stream",
     "text": [
      "2023-04-14 01:14:57.481577: W tensorflow/core/framework/dataset.cc:769] Input of GeneratorDatasetOp::Dataset will not be optimized because the dataset does not implement the AsGraphDefInternal() method needed to apply optimizations.\n"
     ]
    },
    {
     "name": "stdout",
     "output_type": "stream",
     "text": [
      "20/20 [==============================] - 11s 560ms/step - loss: 8.0462e-05 - accuracy: 1.0000 - val_loss: 0.0462 - val_accuracy: 0.9875\n",
      "Epoch 85/150\n",
      "20/20 [==============================] - 11s 563ms/step - loss: 6.2316e-05 - accuracy: 1.0000 - val_loss: 0.0462 - val_accuracy: 0.9875\n",
      "Epoch 86/150\n",
      "20/20 [==============================] - 11s 565ms/step - loss: 7.1783e-05 - accuracy: 1.0000 - val_loss: 0.0461 - val_accuracy: 0.9875\n",
      "Epoch 87/150\n",
      "20/20 [==============================] - ETA: 0s - loss: 8.1629e-05 - accuracy: 1.0000"
     ]
    },
    {
     "name": "stderr",
     "output_type": "stream",
     "text": [
      "2023-04-14 01:15:31.268776: W tensorflow/core/framework/dataset.cc:769] Input of GeneratorDatasetOp::Dataset will not be optimized because the dataset does not implement the AsGraphDefInternal() method needed to apply optimizations.\n"
     ]
    },
    {
     "name": "stdout",
     "output_type": "stream",
     "text": [
      "20/20 [==============================] - 11s 568ms/step - loss: 8.1629e-05 - accuracy: 1.0000 - val_loss: 0.0458 - val_accuracy: 0.9875\n",
      "Epoch 88/150\n",
      "20/20 [==============================] - 11s 567ms/step - loss: 5.4076e-05 - accuracy: 1.0000 - val_loss: 0.0456 - val_accuracy: 0.9875\n",
      "Epoch 89/150\n",
      "20/20 [==============================] - 11s 564ms/step - loss: 7.9566e-05 - accuracy: 1.0000 - val_loss: 0.0455 - val_accuracy: 0.9875\n",
      "Epoch 90/150\n",
      "20/20 [==============================] - ETA: 0s - loss: 7.4841e-05 - accuracy: 1.0000"
     ]
    },
    {
     "name": "stderr",
     "output_type": "stream",
     "text": [
      "2023-04-14 01:16:05.025070: W tensorflow/core/framework/dataset.cc:769] Input of GeneratorDatasetOp::Dataset will not be optimized because the dataset does not implement the AsGraphDefInternal() method needed to apply optimizations.\n"
     ]
    },
    {
     "name": "stdout",
     "output_type": "stream",
     "text": [
      "20/20 [==============================] - 11s 564ms/step - loss: 7.4841e-05 - accuracy: 1.0000 - val_loss: 0.0453 - val_accuracy: 0.9875\n",
      "Epoch 91/150\n",
      "20/20 [==============================] - 11s 569ms/step - loss: 9.3990e-05 - accuracy: 1.0000 - val_loss: 0.0453 - val_accuracy: 0.9875\n",
      "Epoch 92/150\n",
      "20/20 [==============================] - 11s 560ms/step - loss: 5.7342e-05 - accuracy: 1.0000 - val_loss: 0.0456 - val_accuracy: 0.9875\n",
      "Epoch 93/150\n",
      "20/20 [==============================] - ETA: 0s - loss: 7.8883e-05 - accuracy: 1.0000"
     ]
    },
    {
     "name": "stderr",
     "output_type": "stream",
     "text": [
      "2023-04-14 01:16:38.700768: W tensorflow/core/framework/dataset.cc:769] Input of GeneratorDatasetOp::Dataset will not be optimized because the dataset does not implement the AsGraphDefInternal() method needed to apply optimizations.\n"
     ]
    },
    {
     "name": "stdout",
     "output_type": "stream",
     "text": [
      "20/20 [==============================] - 11s 563ms/step - loss: 7.8883e-05 - accuracy: 1.0000 - val_loss: 0.0453 - val_accuracy: 0.9875\n",
      "Epoch 94/150\n",
      "20/20 [==============================] - 11s 554ms/step - loss: 6.5730e-05 - accuracy: 1.0000 - val_loss: 0.0450 - val_accuracy: 0.9875\n",
      "Epoch 95/150\n",
      "20/20 [==============================] - 11s 555ms/step - loss: 7.2684e-05 - accuracy: 1.0000 - val_loss: 0.0448 - val_accuracy: 0.9875\n",
      "Epoch 96/150\n",
      "20/20 [==============================] - ETA: 0s - loss: 7.8285e-05 - accuracy: 1.0000"
     ]
    },
    {
     "name": "stderr",
     "output_type": "stream",
     "text": [
      "2023-04-14 01:17:11.935143: W tensorflow/core/framework/dataset.cc:769] Input of GeneratorDatasetOp::Dataset will not be optimized because the dataset does not implement the AsGraphDefInternal() method needed to apply optimizations.\n"
     ]
    },
    {
     "name": "stdout",
     "output_type": "stream",
     "text": [
      "20/20 [==============================] - 11s 560ms/step - loss: 7.8285e-05 - accuracy: 1.0000 - val_loss: 0.0452 - val_accuracy: 0.9875\n",
      "Epoch 97/150\n",
      "20/20 [==============================] - 11s 559ms/step - loss: 5.1661e-05 - accuracy: 1.0000 - val_loss: 0.0455 - val_accuracy: 0.9875\n",
      "Epoch 98/150\n",
      "20/20 [==============================] - 11s 560ms/step - loss: 5.1408e-05 - accuracy: 1.0000 - val_loss: 0.0452 - val_accuracy: 0.9875\n",
      "Epoch 99/150\n",
      "20/20 [==============================] - ETA: 0s - loss: 6.3248e-05 - accuracy: 1.0000"
     ]
    },
    {
     "name": "stderr",
     "output_type": "stream",
     "text": [
      "2023-04-14 01:17:45.460747: W tensorflow/core/framework/dataset.cc:769] Input of GeneratorDatasetOp::Dataset will not be optimized because the dataset does not implement the AsGraphDefInternal() method needed to apply optimizations.\n"
     ]
    },
    {
     "name": "stdout",
     "output_type": "stream",
     "text": [
      "20/20 [==============================] - 11s 563ms/step - loss: 6.3248e-05 - accuracy: 1.0000 - val_loss: 0.0454 - val_accuracy: 0.9875\n",
      "Epoch 100/150\n",
      "20/20 [==============================] - 11s 555ms/step - loss: 5.1935e-05 - accuracy: 1.0000 - val_loss: 0.0450 - val_accuracy: 0.9875\n",
      "Epoch 101/150\n",
      "20/20 [==============================] - 11s 559ms/step - loss: 4.8412e-05 - accuracy: 1.0000 - val_loss: 0.0449 - val_accuracy: 0.9875\n",
      "Epoch 102/150\n",
      "20/20 [==============================] - ETA: 0s - loss: 5.2337e-05 - accuracy: 1.0000"
     ]
    },
    {
     "name": "stderr",
     "output_type": "stream",
     "text": [
      "2023-04-14 01:18:18.847770: W tensorflow/core/framework/dataset.cc:769] Input of GeneratorDatasetOp::Dataset will not be optimized because the dataset does not implement the AsGraphDefInternal() method needed to apply optimizations.\n"
     ]
    },
    {
     "name": "stdout",
     "output_type": "stream",
     "text": [
      "20/20 [==============================] - 11s 562ms/step - loss: 5.2337e-05 - accuracy: 1.0000 - val_loss: 0.0451 - val_accuracy: 0.9875\n",
      "Epoch 103/150\n",
      "20/20 [==============================] - 11s 560ms/step - loss: 4.8566e-05 - accuracy: 1.0000 - val_loss: 0.0452 - val_accuracy: 0.9875\n",
      "Epoch 104/150\n",
      "20/20 [==============================] - 11s 564ms/step - loss: 4.7901e-05 - accuracy: 1.0000 - val_loss: 0.0451 - val_accuracy: 0.9875\n",
      "Epoch 105/150\n",
      "20/20 [==============================] - ETA: 0s - loss: 4.1290e-05 - accuracy: 1.0000"
     ]
    },
    {
     "name": "stderr",
     "output_type": "stream",
     "text": [
      "2023-04-14 01:18:52.603773: W tensorflow/core/framework/dataset.cc:769] Input of GeneratorDatasetOp::Dataset will not be optimized because the dataset does not implement the AsGraphDefInternal() method needed to apply optimizations.\n"
     ]
    },
    {
     "name": "stdout",
     "output_type": "stream",
     "text": [
      "20/20 [==============================] - 11s 573ms/step - loss: 4.1290e-05 - accuracy: 1.0000 - val_loss: 0.0452 - val_accuracy: 0.9875\n",
      "Epoch 106/150\n",
      "20/20 [==============================] - 11s 570ms/step - loss: 4.9086e-05 - accuracy: 1.0000 - val_loss: 0.0452 - val_accuracy: 0.9875\n",
      "Epoch 107/150\n",
      "20/20 [==============================] - 11s 576ms/step - loss: 6.1310e-05 - accuracy: 1.0000 - val_loss: 0.0457 - val_accuracy: 0.9875\n",
      "Epoch 108/150\n",
      "20/20 [==============================] - ETA: 0s - loss: 5.5513e-05 - accuracy: 1.0000"
     ]
    },
    {
     "name": "stderr",
     "output_type": "stream",
     "text": [
      "2023-04-14 01:19:26.940359: W tensorflow/core/framework/dataset.cc:769] Input of GeneratorDatasetOp::Dataset will not be optimized because the dataset does not implement the AsGraphDefInternal() method needed to apply optimizations.\n"
     ]
    },
    {
     "name": "stdout",
     "output_type": "stream",
     "text": [
      "20/20 [==============================] - 11s 575ms/step - loss: 5.5513e-05 - accuracy: 1.0000 - val_loss: 0.0455 - val_accuracy: 0.9844\n",
      "Epoch 109/150\n",
      "20/20 [==============================] - 12s 581ms/step - loss: 3.7913e-05 - accuracy: 1.0000 - val_loss: 0.0451 - val_accuracy: 0.9844\n",
      "Epoch 110/150\n",
      "20/20 [==============================] - 12s 578ms/step - loss: 5.0014e-05 - accuracy: 1.0000 - val_loss: 0.0451 - val_accuracy: 0.9844\n",
      "Epoch 111/150\n",
      "20/20 [==============================] - ETA: 0s - loss: 7.7885e-05 - accuracy: 1.0000"
     ]
    },
    {
     "name": "stderr",
     "output_type": "stream",
     "text": [
      "2023-04-14 01:20:01.414642: W tensorflow/core/framework/dataset.cc:769] Input of GeneratorDatasetOp::Dataset will not be optimized because the dataset does not implement the AsGraphDefInternal() method needed to apply optimizations.\n"
     ]
    },
    {
     "name": "stdout",
     "output_type": "stream",
     "text": [
      "20/20 [==============================] - 11s 574ms/step - loss: 7.7885e-05 - accuracy: 1.0000 - val_loss: 0.0448 - val_accuracy: 0.9844\n",
      "Epoch 112/150\n",
      "20/20 [==============================] - 12s 580ms/step - loss: 4.2106e-05 - accuracy: 1.0000 - val_loss: 0.0446 - val_accuracy: 0.9844\n",
      "Epoch 113/150\n",
      "20/20 [==============================] - 11s 576ms/step - loss: 3.1922e-05 - accuracy: 1.0000 - val_loss: 0.0445 - val_accuracy: 0.9875\n",
      "Epoch 114/150\n",
      "20/20 [==============================] - ETA: 0s - loss: 4.8428e-05 - accuracy: 1.0000"
     ]
    },
    {
     "name": "stderr",
     "output_type": "stream",
     "text": [
      "2023-04-14 01:20:35.923951: W tensorflow/core/framework/dataset.cc:769] Input of GeneratorDatasetOp::Dataset will not be optimized because the dataset does not implement the AsGraphDefInternal() method needed to apply optimizations.\n"
     ]
    },
    {
     "name": "stdout",
     "output_type": "stream",
     "text": [
      "20/20 [==============================] - 11s 577ms/step - loss: 4.8428e-05 - accuracy: 1.0000 - val_loss: 0.0448 - val_accuracy: 0.9844\n",
      "Epoch 115/150\n",
      "20/20 [==============================] - 12s 582ms/step - loss: 4.5044e-05 - accuracy: 1.0000 - val_loss: 0.0445 - val_accuracy: 0.9875\n",
      "Epoch 116/150\n",
      "20/20 [==============================] - 11s 573ms/step - loss: 3.7652e-05 - accuracy: 1.0000 - val_loss: 0.0446 - val_accuracy: 0.9844\n",
      "Epoch 117/150\n",
      "20/20 [==============================] - ETA: 0s - loss: 4.1646e-05 - accuracy: 1.0000"
     ]
    },
    {
     "name": "stderr",
     "output_type": "stream",
     "text": [
      "2023-04-14 01:21:10.390246: W tensorflow/core/framework/dataset.cc:769] Input of GeneratorDatasetOp::Dataset will not be optimized because the dataset does not implement the AsGraphDefInternal() method needed to apply optimizations.\n"
     ]
    },
    {
     "name": "stdout",
     "output_type": "stream",
     "text": [
      "20/20 [==============================] - 11s 577ms/step - loss: 4.1646e-05 - accuracy: 1.0000 - val_loss: 0.0446 - val_accuracy: 0.9875\n",
      "Epoch 118/150\n",
      "20/20 [==============================] - 11s 576ms/step - loss: 3.5648e-05 - accuracy: 1.0000 - val_loss: 0.0445 - val_accuracy: 0.9875\n",
      "Epoch 119/150\n",
      "20/20 [==============================] - 11s 578ms/step - loss: 3.2409e-05 - accuracy: 1.0000 - val_loss: 0.0446 - val_accuracy: 0.9875\n",
      "Epoch 120/150\n",
      "20/20 [==============================] - ETA: 0s - loss: 4.3622e-05 - accuracy: 1.0000"
     ]
    },
    {
     "name": "stderr",
     "output_type": "stream",
     "text": [
      "2023-04-14 01:21:44.957599: W tensorflow/core/framework/dataset.cc:769] Input of GeneratorDatasetOp::Dataset will not be optimized because the dataset does not implement the AsGraphDefInternal() method needed to apply optimizations.\n"
     ]
    },
    {
     "name": "stdout",
     "output_type": "stream",
     "text": [
      "20/20 [==============================] - 12s 582ms/step - loss: 4.3622e-05 - accuracy: 1.0000 - val_loss: 0.0442 - val_accuracy: 0.9875\n",
      "Epoch 121/150\n",
      "20/20 [==============================] - 11s 574ms/step - loss: 3.2201e-05 - accuracy: 1.0000 - val_loss: 0.0439 - val_accuracy: 0.9875\n",
      "Epoch 122/150\n",
      "20/20 [==============================] - 12s 578ms/step - loss: 4.4403e-05 - accuracy: 1.0000 - val_loss: 0.0437 - val_accuracy: 0.9875\n",
      "Epoch 123/150\n",
      "20/20 [==============================] - ETA: 0s - loss: 3.2276e-05 - accuracy: 1.0000"
     ]
    },
    {
     "name": "stderr",
     "output_type": "stream",
     "text": [
      "2023-04-14 01:22:19.451780: W tensorflow/core/framework/dataset.cc:769] Input of GeneratorDatasetOp::Dataset will not be optimized because the dataset does not implement the AsGraphDefInternal() method needed to apply optimizations.\n"
     ]
    },
    {
     "name": "stdout",
     "output_type": "stream",
     "text": [
      "20/20 [==============================] - 12s 580ms/step - loss: 3.2276e-05 - accuracy: 1.0000 - val_loss: 0.0439 - val_accuracy: 0.9875\n",
      "Epoch 124/150\n",
      "20/20 [==============================] - 11s 576ms/step - loss: 3.5272e-05 - accuracy: 1.0000 - val_loss: 0.0442 - val_accuracy: 0.9875\n",
      "Epoch 125/150\n",
      "20/20 [==============================] - 12s 583ms/step - loss: 6.6125e-05 - accuracy: 1.0000 - val_loss: 0.0449 - val_accuracy: 0.9875\n",
      "Epoch 126/150\n",
      "20/20 [==============================] - ETA: 0s - loss: 3.7290e-05 - accuracy: 1.0000"
     ]
    },
    {
     "name": "stderr",
     "output_type": "stream",
     "text": [
      "2023-04-14 01:22:54.024098: W tensorflow/core/framework/dataset.cc:769] Input of GeneratorDatasetOp::Dataset will not be optimized because the dataset does not implement the AsGraphDefInternal() method needed to apply optimizations.\n"
     ]
    },
    {
     "name": "stdout",
     "output_type": "stream",
     "text": [
      "20/20 [==============================] - 11s 576ms/step - loss: 3.7290e-05 - accuracy: 1.0000 - val_loss: 0.0458 - val_accuracy: 0.9844\n",
      "Epoch 127/150\n",
      "20/20 [==============================] - 12s 580ms/step - loss: 3.4030e-05 - accuracy: 1.0000 - val_loss: 0.0463 - val_accuracy: 0.9812\n",
      "Epoch 128/150\n",
      "20/20 [==============================] - 11s 577ms/step - loss: 3.5779e-05 - accuracy: 1.0000 - val_loss: 0.0461 - val_accuracy: 0.9812\n",
      "Epoch 129/150\n",
      "20/20 [==============================] - ETA: 0s - loss: 2.7967e-05 - accuracy: 1.0000"
     ]
    },
    {
     "name": "stderr",
     "output_type": "stream",
     "text": [
      "2023-04-14 01:23:28.483280: W tensorflow/core/framework/dataset.cc:769] Input of GeneratorDatasetOp::Dataset will not be optimized because the dataset does not implement the AsGraphDefInternal() method needed to apply optimizations.\n"
     ]
    },
    {
     "name": "stdout",
     "output_type": "stream",
     "text": [
      "20/20 [==============================] - 11s 573ms/step - loss: 2.7967e-05 - accuracy: 1.0000 - val_loss: 0.0459 - val_accuracy: 0.9812\n",
      "Epoch 130/150\n",
      "20/20 [==============================] - 11s 575ms/step - loss: 2.7613e-05 - accuracy: 1.0000 - val_loss: 0.0459 - val_accuracy: 0.9812\n",
      "Epoch 131/150\n",
      "20/20 [==============================] - 11s 577ms/step - loss: 2.9548e-05 - accuracy: 1.0000 - val_loss: 0.0455 - val_accuracy: 0.9844\n",
      "Epoch 132/150\n",
      "20/20 [==============================] - ETA: 0s - loss: 3.6090e-05 - accuracy: 1.0000"
     ]
    },
    {
     "name": "stderr",
     "output_type": "stream",
     "text": [
      "2023-04-14 01:24:02.931798: W tensorflow/core/framework/dataset.cc:769] Input of GeneratorDatasetOp::Dataset will not be optimized because the dataset does not implement the AsGraphDefInternal() method needed to apply optimizations.\n"
     ]
    },
    {
     "name": "stdout",
     "output_type": "stream",
     "text": [
      "20/20 [==============================] - 12s 578ms/step - loss: 3.6090e-05 - accuracy: 1.0000 - val_loss: 0.0453 - val_accuracy: 0.9875\n",
      "Epoch 133/150\n",
      "20/20 [==============================] - 11s 577ms/step - loss: 3.2023e-05 - accuracy: 1.0000 - val_loss: 0.0452 - val_accuracy: 0.9875\n",
      "Epoch 134/150\n",
      "20/20 [==============================] - 12s 579ms/step - loss: 3.2130e-05 - accuracy: 1.0000 - val_loss: 0.0454 - val_accuracy: 0.9875\n",
      "Epoch 135/150\n",
      "20/20 [==============================] - ETA: 0s - loss: 2.4850e-05 - accuracy: 1.0000"
     ]
    },
    {
     "name": "stderr",
     "output_type": "stream",
     "text": [
      "2023-04-14 01:24:37.351381: W tensorflow/core/framework/dataset.cc:769] Input of GeneratorDatasetOp::Dataset will not be optimized because the dataset does not implement the AsGraphDefInternal() method needed to apply optimizations.\n"
     ]
    },
    {
     "name": "stdout",
     "output_type": "stream",
     "text": [
      "20/20 [==============================] - 11s 572ms/step - loss: 2.4850e-05 - accuracy: 1.0000 - val_loss: 0.0454 - val_accuracy: 0.9875\n",
      "Epoch 136/150\n",
      "20/20 [==============================] - 11s 578ms/step - loss: 2.7134e-05 - accuracy: 1.0000 - val_loss: 0.0452 - val_accuracy: 0.9875\n",
      "Epoch 137/150\n",
      "20/20 [==============================] - 11s 572ms/step - loss: 3.1967e-05 - accuracy: 1.0000 - val_loss: 0.0449 - val_accuracy: 0.9875\n",
      "Epoch 138/150\n",
      "20/20 [==============================] - ETA: 0s - loss: 3.7768e-05 - accuracy: 1.0000"
     ]
    },
    {
     "name": "stderr",
     "output_type": "stream",
     "text": [
      "2023-04-14 01:25:11.651851: W tensorflow/core/framework/dataset.cc:769] Input of GeneratorDatasetOp::Dataset will not be optimized because the dataset does not implement the AsGraphDefInternal() method needed to apply optimizations.\n"
     ]
    },
    {
     "name": "stdout",
     "output_type": "stream",
     "text": [
      "20/20 [==============================] - 11s 574ms/step - loss: 3.7768e-05 - accuracy: 1.0000 - val_loss: 0.0448 - val_accuracy: 0.9875\n",
      "Epoch 139/150\n",
      "20/20 [==============================] - 11s 577ms/step - loss: 3.1187e-05 - accuracy: 1.0000 - val_loss: 0.0448 - val_accuracy: 0.9875\n",
      "Epoch 140/150\n",
      "20/20 [==============================] - 11s 577ms/step - loss: 3.2365e-05 - accuracy: 1.0000 - val_loss: 0.0449 - val_accuracy: 0.9875\n",
      "Epoch 141/150\n",
      "20/20 [==============================] - ETA: 0s - loss: 2.5042e-05 - accuracy: 1.0000"
     ]
    },
    {
     "name": "stderr",
     "output_type": "stream",
     "text": [
      "2023-04-14 01:25:46.076738: W tensorflow/core/framework/dataset.cc:769] Input of GeneratorDatasetOp::Dataset will not be optimized because the dataset does not implement the AsGraphDefInternal() method needed to apply optimizations.\n"
     ]
    },
    {
     "name": "stdout",
     "output_type": "stream",
     "text": [
      "20/20 [==============================] - 11s 574ms/step - loss: 2.5042e-05 - accuracy: 1.0000 - val_loss: 0.0448 - val_accuracy: 0.9875\n",
      "Epoch 142/150\n",
      "20/20 [==============================] - 12s 580ms/step - loss: 2.3085e-05 - accuracy: 1.0000 - val_loss: 0.0447 - val_accuracy: 0.9875\n",
      "Epoch 143/150\n",
      "20/20 [==============================] - 11s 577ms/step - loss: 2.5119e-05 - accuracy: 1.0000 - val_loss: 0.0446 - val_accuracy: 0.9875\n",
      "Epoch 144/150\n",
      "20/20 [==============================] - ETA: 0s - loss: 3.2963e-05 - accuracy: 1.0000"
     ]
    },
    {
     "name": "stderr",
     "output_type": "stream",
     "text": [
      "2023-04-14 01:26:20.504516: W tensorflow/core/framework/dataset.cc:769] Input of GeneratorDatasetOp::Dataset will not be optimized because the dataset does not implement the AsGraphDefInternal() method needed to apply optimizations.\n"
     ]
    },
    {
     "name": "stdout",
     "output_type": "stream",
     "text": [
      "20/20 [==============================] - 11s 573ms/step - loss: 3.2963e-05 - accuracy: 1.0000 - val_loss: 0.0444 - val_accuracy: 0.9875\n",
      "Epoch 145/150\n",
      "20/20 [==============================] - 11s 571ms/step - loss: 2.9642e-05 - accuracy: 1.0000 - val_loss: 0.0445 - val_accuracy: 0.9875\n",
      "Epoch 146/150\n",
      "20/20 [==============================] - 11s 575ms/step - loss: 3.0397e-05 - accuracy: 1.0000 - val_loss: 0.0448 - val_accuracy: 0.9812\n",
      "Epoch 147/150\n",
      "20/20 [==============================] - ETA: 0s - loss: 3.3078e-05 - accuracy: 1.0000"
     ]
    },
    {
     "name": "stderr",
     "output_type": "stream",
     "text": [
      "2023-04-14 01:26:54.679345: W tensorflow/core/framework/dataset.cc:769] Input of GeneratorDatasetOp::Dataset will not be optimized because the dataset does not implement the AsGraphDefInternal() method needed to apply optimizations.\n"
     ]
    },
    {
     "name": "stdout",
     "output_type": "stream",
     "text": [
      "20/20 [==============================] - 11s 570ms/step - loss: 3.3078e-05 - accuracy: 1.0000 - val_loss: 0.0437 - val_accuracy: 0.9875\n",
      "Epoch 148/150\n",
      "20/20 [==============================] - 11s 575ms/step - loss: 3.7036e-05 - accuracy: 1.0000 - val_loss: 0.0430 - val_accuracy: 0.9875\n",
      "Epoch 149/150\n",
      "20/20 [==============================] - 11s 571ms/step - loss: 2.0470e-05 - accuracy: 1.0000 - val_loss: 0.0431 - val_accuracy: 0.9875\n",
      "Epoch 150/150\n",
      "20/20 [==============================] - ETA: 0s - loss: 5.3186e-05 - accuracy: 1.0000"
     ]
    },
    {
     "name": "stderr",
     "output_type": "stream",
     "text": [
      "2023-04-14 01:27:28.923511: W tensorflow/core/framework/dataset.cc:769] Input of GeneratorDatasetOp::Dataset will not be optimized because the dataset does not implement the AsGraphDefInternal() method needed to apply optimizations.\n"
     ]
    },
    {
     "name": "stdout",
     "output_type": "stream",
     "text": [
      "20/20 [==============================] - 11s 572ms/step - loss: 5.3186e-05 - accuracy: 1.0000 - val_loss: 0.0431 - val_accuracy: 0.9875\n"
     ]
    }
   ],
   "source": [
    "### We build the CNN model (With PreTrain using UrbanSound8K dataset USING KFOLD IN PRETRAINING)\n",
    "from keras.models import Sequential\n",
    "from keras.layers import Dense, Conv2D, MaxPool2D, GlobalMaxPooling2D, Flatten, BatchNormalization, Dropout\n",
    "import tensorflow as tf\n",
    "from keras.initializers import glorot_uniform\n",
    "from keras.optimizers import Adam, SGD\n",
    "from sklearn.model_selection import KFold\n",
    "\n",
    "\n",
    "#Pre train\n",
    "strategy = tf.distribute.MirroredStrategy()\n",
    "with strategy.scope():\n",
    "    ## Create model\n",
    "    pretrain = Sequential()\n",
    "    ## Add model layers\n",
    "    # Block 1\n",
    "    pretrain.add(Conv2D(64, kernel_size=3, activation='relu', input_shape=(127,64,1), padding='same'))\n",
    "    pretrain.add(BatchNormalization())\n",
    "    pretrain.add(Conv2D(64, kernel_size=3, activation='relu', padding='same'))\n",
    "    pretrain.add(BatchNormalization())\n",
    "    pretrain.add(MaxPool2D((2, 2)))\n",
    "\n",
    "    # Block 2\n",
    "    pretrain.add(Conv2D(128, kernel_size=3, activation='relu', padding='same'))\n",
    "    pretrain.add(BatchNormalization())\n",
    "    pretrain.add(Conv2D(128, kernel_size=3, activation='relu', padding='same'))\n",
    "    pretrain.add(BatchNormalization())\n",
    "    pretrain.add(MaxPool2D((2, 2)))\n",
    "\n",
    "    # Block 3\n",
    "    pretrain.add(Conv2D(256, kernel_size=3, activation='relu', padding='same'))\n",
    "    pretrain.add(BatchNormalization())\n",
    "    pretrain.add(Conv2D(256, kernel_size=3, activation='relu', padding='same'))\n",
    "    pretrain.add(BatchNormalization())\n",
    "    pretrain.add(MaxPool2D((2, 2)))\n",
    "\n",
    "    # Block 4\n",
    "    pretrain.add(Conv2D(512, kernel_size=3, activation='relu', padding='same'))\n",
    "    pretrain.add(BatchNormalization())\n",
    "    pretrain.add(Conv2D(512, kernel_size=3, activation='relu', padding='same'))\n",
    "    pretrain.add(BatchNormalization())\n",
    "    pretrain.add(MaxPool2D((2, 2)))\n",
    "\n",
    "    # Last max pool layer\n",
    "    pretrain.add(GlobalMaxPooling2D())\n",
    "\n",
    "    # Fully connected layer and Output layer with softmax activation function\n",
    "    pretrain.add(Flatten())\n",
    "    #pretrain.add(Dense(units=512,activation=\"relu\"))\n",
    "    #pretrain.add(Dense(units=256,activation=\"relu\"))\n",
    "    pretrain.add(Dense(10, activation='softmax'))\n",
    "\n",
    "\n",
    "pretrain.summary()\n",
    "pretrain.compile(optimizer='adam', loss='categorical_crossentropy', metrics=['accuracy'])\n",
    "# Define the number of folds for cross-validation\n",
    "k = 10\n",
    "kf = KFold(n_splits=k, shuffle=True)\n",
    "\n",
    "# Train and evaluate the model using 10-fold cross-validation\n",
    "for fold, (train_idx, val_idx) in enumerate(kf.split(X_pretrain_aug, y_pretrain_aug)):\n",
    "    print(f'Fold {fold + 1}')\n",
    "    train_x, val_x = X_pretrain_aug[train_idx], X_pretrain_aug[val_idx]\n",
    "    train_y, val_y = y_pretrain_aug[train_idx], y_pretrain_aug[val_idx]\n",
    "    hist_pretrain = pretrain.fit(train_x, train_y, validation_data=(val_x, val_y), epochs=10, batch_size=64)\n",
    "    \n",
    "\n",
    "pretrain.save('my_lastest_model.h5')\n",
    "\n",
    "# Classify the final dataset\n",
    "strategy = tf.distribute.MirroredStrategy()\n",
    "with strategy.scope():\n",
    "    ## Create model\n",
    "    model = Sequential()\n",
    "    ## Add model layers\n",
    "    # Block 1\n",
    "    model.add(Conv2D(64, kernel_size=3, activation='relu', input_shape=(127,64,1), padding='same'))\n",
    "    model.add(BatchNormalization())\n",
    "    model.add(Conv2D(64, kernel_size=3, activation='relu', padding='same'))\n",
    "    model.add(BatchNormalization())\n",
    "    model.add(MaxPool2D((2, 2)))\n",
    "\n",
    "    # Block 2\n",
    "    model.add(Conv2D(128, kernel_size=3, activation='relu', padding='same'))\n",
    "    model.add(BatchNormalization())\n",
    "    model.add(Conv2D(128, kernel_size=3, activation='relu', padding='same'))\n",
    "    model.add(BatchNormalization())\n",
    "    model.add(MaxPool2D((2, 2)))\n",
    "\n",
    "    # Block 3\n",
    "    model.add(Conv2D(256, kernel_size=3, activation='relu', padding='same'))\n",
    "    model.add(BatchNormalization())\n",
    "    model.add(Conv2D(256, kernel_size=3, activation='relu', padding='same'))\n",
    "    model.add(BatchNormalization())\n",
    "    model.add(MaxPool2D((2, 2)))\n",
    "\n",
    "    # Block 4\n",
    "    model.add(Conv2D(512, kernel_size=3, activation='relu', padding='same'))\n",
    "    model.add(BatchNormalization())\n",
    "    model.add(Conv2D(512, kernel_size=3, activation='relu', padding='same'))\n",
    "    model.add(BatchNormalization())\n",
    "    model.add(MaxPool2D((2, 2)))\n",
    "\n",
    "    # Last max pool layer\n",
    "    model.add(GlobalMaxPooling2D())\n",
    "\n",
    "    # Fully connected layer and Output layer with softmax activation function\n",
    "    model.add(Flatten())\n",
    "    model.load_weights('my_lastest_model.h5', by_name=True)\n",
    "    #model.add(Dense(units=512,activation=\"relu\"))\n",
    "    #model.add(Dense(units=256,activation=\"relu\"))\n",
    "    model.add(Dense(10, activation='softmax', kernel_initializer='glorot_uniform'))\n",
    "\n",
    "    \n",
    "\n",
    "model.summary()\n",
    "# Freeze all convolutional layers\n",
    "#for layer in model.layers:\n",
    "#    if 'conv' in layer.name:\n",
    "#        layer.trainable = False\n",
    "    \n",
    "trainable_layers = [layer for layer in model.layers if layer.trainable]\n",
    "\n",
    "# Count the number of frozen layers\n",
    "num_frozen_layers = len(model.layers) - len(trainable_layers)\n",
    "\n",
    "print(\"Number of frozen layers: \", num_frozen_layers)\n",
    "\n",
    "# We randomly initialize the weights of the classification part\n",
    "\n",
    "adam_final = Adam(learning_rate=0.0001)\n",
    "SGD_final = SGD(learning_rate=0.0001)\n",
    "model.compile(optimizer=adam_final, loss='categorical_crossentropy', metrics=['accuracy'])\n",
    "hist = model.fit(X_train, y_train, validation_data=(X_validate, y_validate), epochs=150, batch_size=64)\n",
    "model.save('final_model.h5')"
   ]
  },
  {
   "cell_type": "code",
   "execution_count": 2,
   "id": "dae84cf7-5a8d-4239-af8b-835ed2338bee",
   "metadata": {
    "tags": []
   },
   "outputs": [
    {
     "name": "stdout",
     "output_type": "stream",
     "text": [
      "WARNING:tensorflow:There are non-GPU devices in `tf.distribute.Strategy`, not using nccl allreduce.\n",
      "INFO:tensorflow:Using MirroredStrategy with devices ('/job:localhost/replica:0/task:0/device:CPU:0',)\n"
     ]
    },
    {
     "name": "stderr",
     "output_type": "stream",
     "text": [
      "2023-04-13 23:10:34.081327: E tensorflow/compiler/xla/stream_executor/cuda/cuda_driver.cc:267] failed call to cuInit: CUDA_ERROR_NO_DEVICE: no CUDA-capable device is detected\n",
      "2023-04-13 23:10:34.081368: I tensorflow/compiler/xla/stream_executor/cuda/cuda_diagnostics.cc:156] kernel driver does not appear to be running on this host (bnc): /proc/driver/nvidia/version does not exist\n",
      "2023-04-13 23:10:34.083189: I tensorflow/core/platform/cpu_feature_guard.cc:193] This TensorFlow binary is optimized with oneAPI Deep Neural Network Library (oneDNN) to use the following CPU instructions in performance-critical operations:  AVX2 AVX512F AVX512_VNNI FMA\n",
      "To enable them in other operations, rebuild TensorFlow with the appropriate compiler flags.\n"
     ]
    },
    {
     "name": "stdout",
     "output_type": "stream",
     "text": [
      "Model: \"sequential\"\n",
      "_________________________________________________________________\n",
      " Layer (type)                Output Shape              Param #   \n",
      "=================================================================\n",
      " conv2d (Conv2D)             (None, 127, 64, 64)       640       \n",
      "                                                                 \n",
      " batch_normalization (BatchN  (None, 127, 64, 64)      256       \n",
      " ormalization)                                                   \n",
      "                                                                 \n",
      " conv2d_1 (Conv2D)           (None, 127, 64, 64)       36928     \n",
      "                                                                 \n",
      " batch_normalization_1 (Batc  (None, 127, 64, 64)      256       \n",
      " hNormalization)                                                 \n",
      "                                                                 \n",
      " max_pooling2d (MaxPooling2D  (None, 63, 32, 64)       0         \n",
      " )                                                               \n",
      "                                                                 \n",
      " conv2d_2 (Conv2D)           (None, 63, 32, 128)       73856     \n",
      "                                                                 \n",
      " batch_normalization_2 (Batc  (None, 63, 32, 128)      512       \n",
      " hNormalization)                                                 \n",
      "                                                                 \n",
      " conv2d_3 (Conv2D)           (None, 63, 32, 128)       147584    \n",
      "                                                                 \n",
      " batch_normalization_3 (Batc  (None, 63, 32, 128)      512       \n",
      " hNormalization)                                                 \n",
      "                                                                 \n",
      " max_pooling2d_1 (MaxPooling  (None, 31, 16, 128)      0         \n",
      " 2D)                                                             \n",
      "                                                                 \n",
      " conv2d_4 (Conv2D)           (None, 31, 16, 256)       295168    \n",
      "                                                                 \n",
      " batch_normalization_4 (Batc  (None, 31, 16, 256)      1024      \n",
      " hNormalization)                                                 \n",
      "                                                                 \n",
      " conv2d_5 (Conv2D)           (None, 31, 16, 256)       590080    \n",
      "                                                                 \n",
      " batch_normalization_5 (Batc  (None, 31, 16, 256)      1024      \n",
      " hNormalization)                                                 \n",
      "                                                                 \n",
      " max_pooling2d_2 (MaxPooling  (None, 15, 8, 256)       0         \n",
      " 2D)                                                             \n",
      "                                                                 \n",
      " conv2d_6 (Conv2D)           (None, 15, 8, 512)        1180160   \n",
      "                                                                 \n",
      " batch_normalization_6 (Batc  (None, 15, 8, 512)       2048      \n",
      " hNormalization)                                                 \n",
      "                                                                 \n",
      " conv2d_7 (Conv2D)           (None, 15, 8, 512)        2359808   \n",
      "                                                                 \n",
      " batch_normalization_7 (Batc  (None, 15, 8, 512)       2048      \n",
      " hNormalization)                                                 \n",
      "                                                                 \n",
      " max_pooling2d_3 (MaxPooling  (None, 7, 4, 512)        0         \n",
      " 2D)                                                             \n",
      "                                                                 \n",
      " global_max_pooling2d (Globa  (None, 512)              0         \n",
      " lMaxPooling2D)                                                  \n",
      "                                                                 \n",
      " flatten (Flatten)           (None, 512)               0         \n",
      "                                                                 \n",
      " dense (Dense)               (None, 10)                5130      \n",
      "                                                                 \n",
      "=================================================================\n",
      "Total params: 4,697,034\n",
      "Trainable params: 4,693,194\n",
      "Non-trainable params: 3,840\n",
      "_________________________________________________________________\n",
      "Number of frozen layers:  0\n",
      "Epoch 1/100\n"
     ]
    },
    {
     "name": "stderr",
     "output_type": "stream",
     "text": [
      "2023-04-13 23:10:34.649845: W tensorflow/core/framework/dataset.cc:769] Input of GeneratorDatasetOp::Dataset will not be optimized because the dataset does not implement the AsGraphDefInternal() method needed to apply optimizations.\n"
     ]
    },
    {
     "name": "stdout",
     "output_type": "stream",
     "text": [
      "20/20 [==============================] - 17s 680ms/step - loss: 5.8489 - accuracy: 0.1736 - val_loss: 2.3089 - val_accuracy: 0.0938\n",
      "Epoch 2/100\n",
      "20/20 [==============================] - 11s 573ms/step - loss: 2.1334 - accuracy: 0.5426 - val_loss: 2.3144 - val_accuracy: 0.1375\n",
      "Epoch 3/100\n",
      "17/20 [========================>.....] - ETA: 1s - loss: 0.9494 - accuracy: 0.7472"
     ]
    },
    {
     "ename": "KeyboardInterrupt",
     "evalue": "",
     "output_type": "error",
     "traceback": [
      "\u001b[0;31m---------------------------------------------------------------------------\u001b[0m",
      "\u001b[0;31mKeyboardInterrupt\u001b[0m                         Traceback (most recent call last)",
      "Cell \u001b[0;32mIn[2], line 72\u001b[0m\n\u001b[1;32m     70\u001b[0m SGD_final \u001b[38;5;241m=\u001b[39m SGD(learning_rate\u001b[38;5;241m=\u001b[39m\u001b[38;5;241m0.0001\u001b[39m)\n\u001b[1;32m     71\u001b[0m model\u001b[38;5;241m.\u001b[39mcompile(optimizer\u001b[38;5;241m=\u001b[39madam_final, loss\u001b[38;5;241m=\u001b[39m\u001b[38;5;124m'\u001b[39m\u001b[38;5;124mcategorical_crossentropy\u001b[39m\u001b[38;5;124m'\u001b[39m, metrics\u001b[38;5;241m=\u001b[39m[\u001b[38;5;124m'\u001b[39m\u001b[38;5;124maccuracy\u001b[39m\u001b[38;5;124m'\u001b[39m])\n\u001b[0;32m---> 72\u001b[0m hist \u001b[38;5;241m=\u001b[39m \u001b[43mmodel\u001b[49m\u001b[38;5;241;43m.\u001b[39;49m\u001b[43mfit\u001b[49m\u001b[43m(\u001b[49m\u001b[43mX_train\u001b[49m\u001b[43m,\u001b[49m\u001b[43m \u001b[49m\u001b[43my_train\u001b[49m\u001b[43m,\u001b[49m\u001b[43m \u001b[49m\u001b[43mvalidation_data\u001b[49m\u001b[38;5;241;43m=\u001b[39;49m\u001b[43m(\u001b[49m\u001b[43mX_validate\u001b[49m\u001b[43m,\u001b[49m\u001b[43m \u001b[49m\u001b[43my_validate\u001b[49m\u001b[43m)\u001b[49m\u001b[43m,\u001b[49m\u001b[43m \u001b[49m\u001b[43mepochs\u001b[49m\u001b[38;5;241;43m=\u001b[39;49m\u001b[38;5;241;43m100\u001b[39;49m\u001b[43m,\u001b[49m\u001b[43m \u001b[49m\u001b[43mbatch_size\u001b[49m\u001b[38;5;241;43m=\u001b[39;49m\u001b[38;5;241;43m64\u001b[39;49m\u001b[43m)\u001b[49m\n\u001b[1;32m     73\u001b[0m model\u001b[38;5;241m.\u001b[39msave(\u001b[38;5;124m'\u001b[39m\u001b[38;5;124mfinal_model.h5\u001b[39m\u001b[38;5;124m'\u001b[39m)\n",
      "File \u001b[0;32m~/.local/lib/python3.8/site-packages/keras/utils/traceback_utils.py:65\u001b[0m, in \u001b[0;36mfilter_traceback.<locals>.error_handler\u001b[0;34m(*args, **kwargs)\u001b[0m\n\u001b[1;32m     63\u001b[0m filtered_tb \u001b[38;5;241m=\u001b[39m \u001b[38;5;28;01mNone\u001b[39;00m\n\u001b[1;32m     64\u001b[0m \u001b[38;5;28;01mtry\u001b[39;00m:\n\u001b[0;32m---> 65\u001b[0m     \u001b[38;5;28;01mreturn\u001b[39;00m \u001b[43mfn\u001b[49m\u001b[43m(\u001b[49m\u001b[38;5;241;43m*\u001b[39;49m\u001b[43margs\u001b[49m\u001b[43m,\u001b[49m\u001b[43m \u001b[49m\u001b[38;5;241;43m*\u001b[39;49m\u001b[38;5;241;43m*\u001b[39;49m\u001b[43mkwargs\u001b[49m\u001b[43m)\u001b[49m\n\u001b[1;32m     66\u001b[0m \u001b[38;5;28;01mexcept\u001b[39;00m \u001b[38;5;167;01mException\u001b[39;00m \u001b[38;5;28;01mas\u001b[39;00m e:\n\u001b[1;32m     67\u001b[0m     filtered_tb \u001b[38;5;241m=\u001b[39m _process_traceback_frames(e\u001b[38;5;241m.\u001b[39m__traceback__)\n",
      "File \u001b[0;32m~/.local/lib/python3.8/site-packages/keras/engine/training.py:1650\u001b[0m, in \u001b[0;36mModel.fit\u001b[0;34m(self, x, y, batch_size, epochs, verbose, callbacks, validation_split, validation_data, shuffle, class_weight, sample_weight, initial_epoch, steps_per_epoch, validation_steps, validation_batch_size, validation_freq, max_queue_size, workers, use_multiprocessing)\u001b[0m\n\u001b[1;32m   1642\u001b[0m \u001b[38;5;28;01mwith\u001b[39;00m tf\u001b[38;5;241m.\u001b[39mprofiler\u001b[38;5;241m.\u001b[39mexperimental\u001b[38;5;241m.\u001b[39mTrace(\n\u001b[1;32m   1643\u001b[0m     \u001b[38;5;124m\"\u001b[39m\u001b[38;5;124mtrain\u001b[39m\u001b[38;5;124m\"\u001b[39m,\n\u001b[1;32m   1644\u001b[0m     epoch_num\u001b[38;5;241m=\u001b[39mepoch,\n\u001b[0;32m   (...)\u001b[0m\n\u001b[1;32m   1647\u001b[0m     _r\u001b[38;5;241m=\u001b[39m\u001b[38;5;241m1\u001b[39m,\n\u001b[1;32m   1648\u001b[0m ):\n\u001b[1;32m   1649\u001b[0m     callbacks\u001b[38;5;241m.\u001b[39mon_train_batch_begin(step)\n\u001b[0;32m-> 1650\u001b[0m     tmp_logs \u001b[38;5;241m=\u001b[39m \u001b[38;5;28;43mself\u001b[39;49m\u001b[38;5;241;43m.\u001b[39;49m\u001b[43mtrain_function\u001b[49m\u001b[43m(\u001b[49m\u001b[43miterator\u001b[49m\u001b[43m)\u001b[49m\n\u001b[1;32m   1651\u001b[0m     \u001b[38;5;28;01mif\u001b[39;00m data_handler\u001b[38;5;241m.\u001b[39mshould_sync:\n\u001b[1;32m   1652\u001b[0m         context\u001b[38;5;241m.\u001b[39masync_wait()\n",
      "File \u001b[0;32m~/.local/lib/python3.8/site-packages/tensorflow/python/util/traceback_utils.py:150\u001b[0m, in \u001b[0;36mfilter_traceback.<locals>.error_handler\u001b[0;34m(*args, **kwargs)\u001b[0m\n\u001b[1;32m    148\u001b[0m filtered_tb \u001b[38;5;241m=\u001b[39m \u001b[38;5;28;01mNone\u001b[39;00m\n\u001b[1;32m    149\u001b[0m \u001b[38;5;28;01mtry\u001b[39;00m:\n\u001b[0;32m--> 150\u001b[0m   \u001b[38;5;28;01mreturn\u001b[39;00m \u001b[43mfn\u001b[49m\u001b[43m(\u001b[49m\u001b[38;5;241;43m*\u001b[39;49m\u001b[43margs\u001b[49m\u001b[43m,\u001b[49m\u001b[43m \u001b[49m\u001b[38;5;241;43m*\u001b[39;49m\u001b[38;5;241;43m*\u001b[39;49m\u001b[43mkwargs\u001b[49m\u001b[43m)\u001b[49m\n\u001b[1;32m    151\u001b[0m \u001b[38;5;28;01mexcept\u001b[39;00m \u001b[38;5;167;01mException\u001b[39;00m \u001b[38;5;28;01mas\u001b[39;00m e:\n\u001b[1;32m    152\u001b[0m   filtered_tb \u001b[38;5;241m=\u001b[39m _process_traceback_frames(e\u001b[38;5;241m.\u001b[39m__traceback__)\n",
      "File \u001b[0;32m~/.local/lib/python3.8/site-packages/tensorflow/python/eager/polymorphic_function/polymorphic_function.py:880\u001b[0m, in \u001b[0;36mFunction.__call__\u001b[0;34m(self, *args, **kwds)\u001b[0m\n\u001b[1;32m    877\u001b[0m compiler \u001b[38;5;241m=\u001b[39m \u001b[38;5;124m\"\u001b[39m\u001b[38;5;124mxla\u001b[39m\u001b[38;5;124m\"\u001b[39m \u001b[38;5;28;01mif\u001b[39;00m \u001b[38;5;28mself\u001b[39m\u001b[38;5;241m.\u001b[39m_jit_compile \u001b[38;5;28;01melse\u001b[39;00m \u001b[38;5;124m\"\u001b[39m\u001b[38;5;124mnonXla\u001b[39m\u001b[38;5;124m\"\u001b[39m\n\u001b[1;32m    879\u001b[0m \u001b[38;5;28;01mwith\u001b[39;00m OptionalXlaContext(\u001b[38;5;28mself\u001b[39m\u001b[38;5;241m.\u001b[39m_jit_compile):\n\u001b[0;32m--> 880\u001b[0m   result \u001b[38;5;241m=\u001b[39m \u001b[38;5;28;43mself\u001b[39;49m\u001b[38;5;241;43m.\u001b[39;49m\u001b[43m_call\u001b[49m\u001b[43m(\u001b[49m\u001b[38;5;241;43m*\u001b[39;49m\u001b[43margs\u001b[49m\u001b[43m,\u001b[49m\u001b[43m \u001b[49m\u001b[38;5;241;43m*\u001b[39;49m\u001b[38;5;241;43m*\u001b[39;49m\u001b[43mkwds\u001b[49m\u001b[43m)\u001b[49m\n\u001b[1;32m    882\u001b[0m new_tracing_count \u001b[38;5;241m=\u001b[39m \u001b[38;5;28mself\u001b[39m\u001b[38;5;241m.\u001b[39mexperimental_get_tracing_count()\n\u001b[1;32m    883\u001b[0m without_tracing \u001b[38;5;241m=\u001b[39m (tracing_count \u001b[38;5;241m==\u001b[39m new_tracing_count)\n",
      "File \u001b[0;32m~/.local/lib/python3.8/site-packages/tensorflow/python/eager/polymorphic_function/polymorphic_function.py:912\u001b[0m, in \u001b[0;36mFunction._call\u001b[0;34m(self, *args, **kwds)\u001b[0m\n\u001b[1;32m    909\u001b[0m   \u001b[38;5;28mself\u001b[39m\u001b[38;5;241m.\u001b[39m_lock\u001b[38;5;241m.\u001b[39mrelease()\n\u001b[1;32m    910\u001b[0m   \u001b[38;5;66;03m# In this case we have created variables on the first call, so we run the\u001b[39;00m\n\u001b[1;32m    911\u001b[0m   \u001b[38;5;66;03m# defunned version which is guaranteed to never create variables.\u001b[39;00m\n\u001b[0;32m--> 912\u001b[0m   \u001b[38;5;28;01mreturn\u001b[39;00m \u001b[38;5;28;43mself\u001b[39;49m\u001b[38;5;241;43m.\u001b[39;49m\u001b[43m_no_variable_creation_fn\u001b[49m\u001b[43m(\u001b[49m\u001b[38;5;241;43m*\u001b[39;49m\u001b[43margs\u001b[49m\u001b[43m,\u001b[49m\u001b[43m \u001b[49m\u001b[38;5;241;43m*\u001b[39;49m\u001b[38;5;241;43m*\u001b[39;49m\u001b[43mkwds\u001b[49m\u001b[43m)\u001b[49m  \u001b[38;5;66;03m# pylint: disable=not-callable\u001b[39;00m\n\u001b[1;32m    913\u001b[0m \u001b[38;5;28;01melif\u001b[39;00m \u001b[38;5;28mself\u001b[39m\u001b[38;5;241m.\u001b[39m_variable_creation_fn \u001b[38;5;129;01mis\u001b[39;00m \u001b[38;5;129;01mnot\u001b[39;00m \u001b[38;5;28;01mNone\u001b[39;00m:\n\u001b[1;32m    914\u001b[0m   \u001b[38;5;66;03m# Release the lock early so that multiple threads can perform the call\u001b[39;00m\n\u001b[1;32m    915\u001b[0m   \u001b[38;5;66;03m# in parallel.\u001b[39;00m\n\u001b[1;32m    916\u001b[0m   \u001b[38;5;28mself\u001b[39m\u001b[38;5;241m.\u001b[39m_lock\u001b[38;5;241m.\u001b[39mrelease()\n",
      "File \u001b[0;32m~/.local/lib/python3.8/site-packages/tensorflow/python/eager/polymorphic_function/tracing_compiler.py:134\u001b[0m, in \u001b[0;36mTracingCompiler.__call__\u001b[0;34m(self, *args, **kwargs)\u001b[0m\n\u001b[1;32m    131\u001b[0m \u001b[38;5;28;01mwith\u001b[39;00m \u001b[38;5;28mself\u001b[39m\u001b[38;5;241m.\u001b[39m_lock:\n\u001b[1;32m    132\u001b[0m   (concrete_function,\n\u001b[1;32m    133\u001b[0m    filtered_flat_args) \u001b[38;5;241m=\u001b[39m \u001b[38;5;28mself\u001b[39m\u001b[38;5;241m.\u001b[39m_maybe_define_function(args, kwargs)\n\u001b[0;32m--> 134\u001b[0m \u001b[38;5;28;01mreturn\u001b[39;00m \u001b[43mconcrete_function\u001b[49m\u001b[38;5;241;43m.\u001b[39;49m\u001b[43m_call_flat\u001b[49m\u001b[43m(\u001b[49m\n\u001b[1;32m    135\u001b[0m \u001b[43m    \u001b[49m\u001b[43mfiltered_flat_args\u001b[49m\u001b[43m,\u001b[49m\u001b[43m \u001b[49m\u001b[43mcaptured_inputs\u001b[49m\u001b[38;5;241;43m=\u001b[39;49m\u001b[43mconcrete_function\u001b[49m\u001b[38;5;241;43m.\u001b[39;49m\u001b[43mcaptured_inputs\u001b[49m\u001b[43m)\u001b[49m\n",
      "File \u001b[0;32m~/.local/lib/python3.8/site-packages/tensorflow/python/eager/polymorphic_function/monomorphic_function.py:1745\u001b[0m, in \u001b[0;36mConcreteFunction._call_flat\u001b[0;34m(self, args, captured_inputs, cancellation_manager)\u001b[0m\n\u001b[1;32m   1741\u001b[0m possible_gradient_type \u001b[38;5;241m=\u001b[39m gradients_util\u001b[38;5;241m.\u001b[39mPossibleTapeGradientTypes(args)\n\u001b[1;32m   1742\u001b[0m \u001b[38;5;28;01mif\u001b[39;00m (possible_gradient_type \u001b[38;5;241m==\u001b[39m gradients_util\u001b[38;5;241m.\u001b[39mPOSSIBLE_GRADIENT_TYPES_NONE\n\u001b[1;32m   1743\u001b[0m     \u001b[38;5;129;01mand\u001b[39;00m executing_eagerly):\n\u001b[1;32m   1744\u001b[0m   \u001b[38;5;66;03m# No tape is watching; skip to running the function.\u001b[39;00m\n\u001b[0;32m-> 1745\u001b[0m   \u001b[38;5;28;01mreturn\u001b[39;00m \u001b[38;5;28mself\u001b[39m\u001b[38;5;241m.\u001b[39m_build_call_outputs(\u001b[38;5;28;43mself\u001b[39;49m\u001b[38;5;241;43m.\u001b[39;49m\u001b[43m_inference_function\u001b[49m\u001b[38;5;241;43m.\u001b[39;49m\u001b[43mcall\u001b[49m\u001b[43m(\u001b[49m\n\u001b[1;32m   1746\u001b[0m \u001b[43m      \u001b[49m\u001b[43mctx\u001b[49m\u001b[43m,\u001b[49m\u001b[43m \u001b[49m\u001b[43margs\u001b[49m\u001b[43m,\u001b[49m\u001b[43m \u001b[49m\u001b[43mcancellation_manager\u001b[49m\u001b[38;5;241;43m=\u001b[39;49m\u001b[43mcancellation_manager\u001b[49m\u001b[43m)\u001b[49m)\n\u001b[1;32m   1747\u001b[0m forward_backward \u001b[38;5;241m=\u001b[39m \u001b[38;5;28mself\u001b[39m\u001b[38;5;241m.\u001b[39m_select_forward_and_backward_functions(\n\u001b[1;32m   1748\u001b[0m     args,\n\u001b[1;32m   1749\u001b[0m     possible_gradient_type,\n\u001b[1;32m   1750\u001b[0m     executing_eagerly)\n\u001b[1;32m   1751\u001b[0m forward_function, args_with_tangents \u001b[38;5;241m=\u001b[39m forward_backward\u001b[38;5;241m.\u001b[39mforward()\n",
      "File \u001b[0;32m~/.local/lib/python3.8/site-packages/tensorflow/python/eager/polymorphic_function/monomorphic_function.py:378\u001b[0m, in \u001b[0;36m_EagerDefinedFunction.call\u001b[0;34m(self, ctx, args, cancellation_manager)\u001b[0m\n\u001b[1;32m    376\u001b[0m \u001b[38;5;28;01mwith\u001b[39;00m _InterpolateFunctionError(\u001b[38;5;28mself\u001b[39m):\n\u001b[1;32m    377\u001b[0m   \u001b[38;5;28;01mif\u001b[39;00m cancellation_manager \u001b[38;5;129;01mis\u001b[39;00m \u001b[38;5;28;01mNone\u001b[39;00m:\n\u001b[0;32m--> 378\u001b[0m     outputs \u001b[38;5;241m=\u001b[39m \u001b[43mexecute\u001b[49m\u001b[38;5;241;43m.\u001b[39;49m\u001b[43mexecute\u001b[49m\u001b[43m(\u001b[49m\n\u001b[1;32m    379\u001b[0m \u001b[43m        \u001b[49m\u001b[38;5;28;43mstr\u001b[39;49m\u001b[43m(\u001b[49m\u001b[38;5;28;43mself\u001b[39;49m\u001b[38;5;241;43m.\u001b[39;49m\u001b[43msignature\u001b[49m\u001b[38;5;241;43m.\u001b[39;49m\u001b[43mname\u001b[49m\u001b[43m)\u001b[49m\u001b[43m,\u001b[49m\n\u001b[1;32m    380\u001b[0m \u001b[43m        \u001b[49m\u001b[43mnum_outputs\u001b[49m\u001b[38;5;241;43m=\u001b[39;49m\u001b[38;5;28;43mself\u001b[39;49m\u001b[38;5;241;43m.\u001b[39;49m\u001b[43m_num_outputs\u001b[49m\u001b[43m,\u001b[49m\n\u001b[1;32m    381\u001b[0m \u001b[43m        \u001b[49m\u001b[43minputs\u001b[49m\u001b[38;5;241;43m=\u001b[39;49m\u001b[43margs\u001b[49m\u001b[43m,\u001b[49m\n\u001b[1;32m    382\u001b[0m \u001b[43m        \u001b[49m\u001b[43mattrs\u001b[49m\u001b[38;5;241;43m=\u001b[39;49m\u001b[43mattrs\u001b[49m\u001b[43m,\u001b[49m\n\u001b[1;32m    383\u001b[0m \u001b[43m        \u001b[49m\u001b[43mctx\u001b[49m\u001b[38;5;241;43m=\u001b[39;49m\u001b[43mctx\u001b[49m\u001b[43m)\u001b[49m\n\u001b[1;32m    384\u001b[0m   \u001b[38;5;28;01melse\u001b[39;00m:\n\u001b[1;32m    385\u001b[0m     outputs \u001b[38;5;241m=\u001b[39m execute\u001b[38;5;241m.\u001b[39mexecute_with_cancellation(\n\u001b[1;32m    386\u001b[0m         \u001b[38;5;28mstr\u001b[39m(\u001b[38;5;28mself\u001b[39m\u001b[38;5;241m.\u001b[39msignature\u001b[38;5;241m.\u001b[39mname),\n\u001b[1;32m    387\u001b[0m         num_outputs\u001b[38;5;241m=\u001b[39m\u001b[38;5;28mself\u001b[39m\u001b[38;5;241m.\u001b[39m_num_outputs,\n\u001b[0;32m   (...)\u001b[0m\n\u001b[1;32m    390\u001b[0m         ctx\u001b[38;5;241m=\u001b[39mctx,\n\u001b[1;32m    391\u001b[0m         cancellation_manager\u001b[38;5;241m=\u001b[39mcancellation_manager)\n",
      "File \u001b[0;32m~/.local/lib/python3.8/site-packages/tensorflow/python/eager/execute.py:52\u001b[0m, in \u001b[0;36mquick_execute\u001b[0;34m(op_name, num_outputs, inputs, attrs, ctx, name)\u001b[0m\n\u001b[1;32m     50\u001b[0m \u001b[38;5;28;01mtry\u001b[39;00m:\n\u001b[1;32m     51\u001b[0m   ctx\u001b[38;5;241m.\u001b[39mensure_initialized()\n\u001b[0;32m---> 52\u001b[0m   tensors \u001b[38;5;241m=\u001b[39m \u001b[43mpywrap_tfe\u001b[49m\u001b[38;5;241;43m.\u001b[39;49m\u001b[43mTFE_Py_Execute\u001b[49m\u001b[43m(\u001b[49m\u001b[43mctx\u001b[49m\u001b[38;5;241;43m.\u001b[39;49m\u001b[43m_handle\u001b[49m\u001b[43m,\u001b[49m\u001b[43m \u001b[49m\u001b[43mdevice_name\u001b[49m\u001b[43m,\u001b[49m\u001b[43m \u001b[49m\u001b[43mop_name\u001b[49m\u001b[43m,\u001b[49m\n\u001b[1;32m     53\u001b[0m \u001b[43m                                      \u001b[49m\u001b[43minputs\u001b[49m\u001b[43m,\u001b[49m\u001b[43m \u001b[49m\u001b[43mattrs\u001b[49m\u001b[43m,\u001b[49m\u001b[43m \u001b[49m\u001b[43mnum_outputs\u001b[49m\u001b[43m)\u001b[49m\n\u001b[1;32m     54\u001b[0m \u001b[38;5;28;01mexcept\u001b[39;00m core\u001b[38;5;241m.\u001b[39m_NotOkStatusException \u001b[38;5;28;01mas\u001b[39;00m e:\n\u001b[1;32m     55\u001b[0m   \u001b[38;5;28;01mif\u001b[39;00m name \u001b[38;5;129;01mis\u001b[39;00m \u001b[38;5;129;01mnot\u001b[39;00m \u001b[38;5;28;01mNone\u001b[39;00m:\n",
      "\u001b[0;31mKeyboardInterrupt\u001b[0m: "
     ]
    }
   ],
   "source": [
    "### We build and train the CNN model (After PreTrain using UrbanSound8K dataset and .h5 file with pretrain weights)\n",
    "from keras.models import Sequential\n",
    "from keras.layers import Dense, Conv2D, MaxPool2D, GlobalMaxPooling2D, Flatten, BatchNormalization, Dropout\n",
    "import tensorflow as tf\n",
    "from keras.initializers import glorot_uniform\n",
    "from keras.optimizers import Adam, SGD\n",
    "\n",
    "# Classify the final dataset\n",
    "strategy = tf.distribute.MirroredStrategy()\n",
    "with strategy.scope():\n",
    "    ## Create model\n",
    "    model = Sequential()\n",
    "    ## Add model layers\n",
    "    # Block 1\n",
    "    model.add(Conv2D(64, kernel_size=3, activation='relu', input_shape=(127,64,1), padding='same'))\n",
    "    model.add(BatchNormalization())\n",
    "    model.add(Conv2D(64, kernel_size=3, activation='relu', padding='same'))\n",
    "    model.add(BatchNormalization())\n",
    "    model.add(MaxPool2D((2, 2)))\n",
    "\n",
    "    # Block 2\n",
    "    model.add(Conv2D(128, kernel_size=3, activation='relu', padding='same'))\n",
    "    model.add(BatchNormalization())\n",
    "    model.add(Conv2D(128, kernel_size=3, activation='relu', padding='same'))\n",
    "    model.add(BatchNormalization())\n",
    "    model.add(MaxPool2D((2, 2)))\n",
    "\n",
    "    # Block 3\n",
    "    model.add(Conv2D(256, kernel_size=3, activation='relu', padding='same'))\n",
    "    model.add(BatchNormalization())\n",
    "    model.add(Conv2D(256, kernel_size=3, activation='relu', padding='same'))\n",
    "    model.add(BatchNormalization())\n",
    "    model.add(MaxPool2D((2, 2)))\n",
    "\n",
    "    # Block 4\n",
    "    model.add(Conv2D(512, kernel_size=3, activation='relu', padding='same'))\n",
    "    model.add(BatchNormalization())\n",
    "    model.add(Conv2D(512, kernel_size=3, activation='relu', padding='same'))\n",
    "    model.add(BatchNormalization())\n",
    "    model.add(MaxPool2D((2, 2)))\n",
    "\n",
    "    # Last max pool layer\n",
    "    model.add(GlobalMaxPooling2D())\n",
    "\n",
    "    # Fully connected layer and Output layer with softmax activation function\n",
    "    model.add(Flatten())\n",
    "    model.load_weights('my_lastest_model.h5', by_name=True)\n",
    "    #model.add(Dense(units=512,activation=\"relu\"))\n",
    "    #model.add(Dense(units=256,activation=\"relu\"))\n",
    "    model.add(Dense(10, activation='softmax'))\n",
    "\n",
    "# kernel_initializer='glorot_uniform'    \n",
    "\n",
    "model.summary()\n",
    "# Freeze all convolutional layers\n",
    "#for layer in model.layers:\n",
    "#    if 'conv' in layer.name:\n",
    "#        layer.trainable = False\n",
    "    \n",
    "trainable_layers = [layer for layer in model.layers if layer.trainable]\n",
    "\n",
    "# Count the number of frozen layers\n",
    "num_frozen_layers = len(model.layers) - len(trainable_layers)\n",
    "\n",
    "print(\"Number of frozen layers: \", num_frozen_layers)\n",
    "\n",
    "# We randomly initialize the weights of the classification part\n",
    "\n",
    "adam_final = Adam(learning_rate=0.00001)\n",
    "SGD_final = SGD(learning_rate=0.0001)\n",
    "model.compile(optimizer=adam_final, loss='categorical_crossentropy', metrics=['accuracy'])\n",
    "hist = model.fit(X_train, y_train, validation_data=(X_validate, y_validate), epochs=100, batch_size=64)\n",
    "model.save('final_model.h5')"
   ]
  },
  {
   "cell_type": "code",
   "execution_count": 39,
   "id": "df25117a-9fb1-476e-b13d-fa8b6cc51d0a",
   "metadata": {
    "tags": []
   },
   "outputs": [
    {
     "name": "stdout",
     "output_type": "stream",
     "text": [
      "INFO:tensorflow:Using MirroredStrategy with devices ('/job:localhost/replica:0/task:0/device:GPU:0', '/job:localhost/replica:0/task:0/device:GPU:1', '/job:localhost/replica:0/task:0/device:GPU:2', '/job:localhost/replica:0/task:0/device:GPU:3')\n",
      "Model: \"sequential_12\"\n",
      "_________________________________________________________________\n",
      " Layer (type)                Output Shape              Param #   \n",
      "=================================================================\n",
      " conv2d_84 (Conv2D)          (None, 127, 64, 64)       640       \n",
      "                                                                 \n",
      " batch_normalization_84 (Bat  (None, 127, 64, 64)      256       \n",
      " chNormalization)                                                \n",
      "                                                                 \n",
      " conv2d_85 (Conv2D)          (None, 127, 64, 64)       36928     \n",
      "                                                                 \n",
      " batch_normalization_85 (Bat  (None, 127, 64, 64)      256       \n",
      " chNormalization)                                                \n",
      "                                                                 \n",
      " max_pooling2d_42 (MaxPoolin  (None, 63, 32, 64)       0         \n",
      " g2D)                                                            \n",
      "                                                                 \n",
      " conv2d_86 (Conv2D)          (None, 63, 32, 128)       73856     \n",
      "                                                                 \n",
      " batch_normalization_86 (Bat  (None, 63, 32, 128)      512       \n",
      " chNormalization)                                                \n",
      "                                                                 \n",
      " conv2d_87 (Conv2D)          (None, 63, 32, 128)       147584    \n",
      "                                                                 \n",
      " batch_normalization_87 (Bat  (None, 63, 32, 128)      512       \n",
      " chNormalization)                                                \n",
      "                                                                 \n",
      " max_pooling2d_43 (MaxPoolin  (None, 31, 16, 128)      0         \n",
      " g2D)                                                            \n",
      "                                                                 \n",
      " conv2d_88 (Conv2D)          (None, 31, 16, 256)       295168    \n",
      "                                                                 \n",
      " batch_normalization_88 (Bat  (None, 31, 16, 256)      1024      \n",
      " chNormalization)                                                \n",
      "                                                                 \n",
      " conv2d_89 (Conv2D)          (None, 31, 16, 256)       590080    \n",
      "                                                                 \n",
      " batch_normalization_89 (Bat  (None, 31, 16, 256)      1024      \n",
      " chNormalization)                                                \n",
      "                                                                 \n",
      " max_pooling2d_44 (MaxPoolin  (None, 15, 8, 256)       0         \n",
      " g2D)                                                            \n",
      "                                                                 \n",
      " conv2d_90 (Conv2D)          (None, 15, 8, 512)        1180160   \n",
      "                                                                 \n",
      " batch_normalization_90 (Bat  (None, 15, 8, 512)       2048      \n",
      " chNormalization)                                                \n",
      "                                                                 \n",
      " conv2d_91 (Conv2D)          (None, 15, 8, 512)        2359808   \n",
      "                                                                 \n",
      " batch_normalization_91 (Bat  (None, 15, 8, 512)       2048      \n",
      " chNormalization)                                                \n",
      "                                                                 \n",
      " max_pooling2d_45 (MaxPoolin  (None, 7, 4, 512)        0         \n",
      " g2D)                                                            \n",
      "                                                                 \n",
      " global_max_pooling2d_12 (Gl  (None, 512)              0         \n",
      " obalMaxPooling2D)                                               \n",
      "                                                                 \n",
      " flatten_12 (Flatten)        (None, 512)               0         \n",
      "                                                                 \n",
      " dense_12 (Dense)            (None, 10)                5130      \n",
      "                                                                 \n",
      "=================================================================\n",
      "Total params: 4,697,034\n",
      "Trainable params: 4,693,194\n",
      "Non-trainable params: 3,840\n",
      "_________________________________________________________________\n"
     ]
    }
   ],
   "source": [
    "### We load the final model to make the prediction on our own dataset\n",
    "from keras.models import Sequential\n",
    "from keras.layers import Dense, Conv2D, MaxPool2D, GlobalMaxPooling2D, Flatten, BatchNormalization, Dropout\n",
    "import tensorflow as tf\n",
    "from keras.initializers import glorot_uniform\n",
    "from keras.optimizers import Adam, SGD\n",
    "\n",
    "# Classify the final dataset\n",
    "strategy = tf.distribute.MirroredStrategy()\n",
    "with strategy.scope():\n",
    "    ## Create model\n",
    "    model = Sequential()\n",
    "    ## Add model layers\n",
    "    # Block 1\n",
    "    model.add(Conv2D(64, kernel_size=3, activation='relu', input_shape=(127,64,1), padding='same'))\n",
    "    model.add(BatchNormalization())\n",
    "    model.add(Conv2D(64, kernel_size=3, activation='relu', padding='same'))\n",
    "    model.add(BatchNormalization())\n",
    "    model.add(MaxPool2D((2, 2)))\n",
    "\n",
    "    # Block 2\n",
    "    model.add(Conv2D(128, kernel_size=3, activation='relu', padding='same'))\n",
    "    model.add(BatchNormalization())\n",
    "    model.add(Conv2D(128, kernel_size=3, activation='relu', padding='same'))\n",
    "    model.add(BatchNormalization())\n",
    "    model.add(MaxPool2D((2, 2)))\n",
    "\n",
    "    # Block 3\n",
    "    model.add(Conv2D(256, kernel_size=3, activation='relu', padding='same'))\n",
    "    model.add(BatchNormalization())\n",
    "    model.add(Conv2D(256, kernel_size=3, activation='relu', padding='same'))\n",
    "    model.add(BatchNormalization())\n",
    "    model.add(MaxPool2D((2, 2)))\n",
    "\n",
    "    # Block 4\n",
    "    model.add(Conv2D(512, kernel_size=3, activation='relu', padding='same'))\n",
    "    model.add(BatchNormalization())\n",
    "    model.add(Conv2D(512, kernel_size=3, activation='relu', padding='same'))\n",
    "    model.add(BatchNormalization())\n",
    "    model.add(MaxPool2D((2, 2)))\n",
    "\n",
    "    # Last max pool layer\n",
    "    model.add(GlobalMaxPooling2D())\n",
    "\n",
    "    # Fully connected layer and Output layer with softmax activation function\n",
    "    model.add(Flatten())\n",
    "    model.add(Dense(10, activation='softmax'))    \n",
    "\n",
    "model.summary()\n",
    "\n",
    "# We randomly initialize the weights of the classification part\n",
    "model.compile(optimizer='adam', loss='categorical_crossentropy', metrics=['accuracy'])\n",
    "model.load_weights('final_model.h5', by_name=True)"
   ]
  },
  {
   "cell_type": "code",
   "execution_count": 4,
   "id": "cc470b9c-5ab5-4b68-a78c-a34c608f9521",
   "metadata": {
    "tags": []
   },
   "outputs": [
    {
     "data": {
      "image/png": "[encoded data removed]",
      "text/plain": [
       "<Figure size 640x480 with 1 Axes>"
      ]
     },
     "metadata": {},
     "output_type": "display_data"
    },
    {
     "data": {
      "image/png": "[encoded data removed]",
      "text/plain": [
       "<Figure size 640x480 with 1 Axes>"
      ]
     },
     "metadata": {},
     "output_type": "display_data"
    },
    {
     "name": "stdout",
     "output_type": "stream",
     "text": [
      "Validation Accuracy: 98.75%\n",
      "Validation loss: 0.04\n"
     ]
    },
    {
     "data": {
      "text/plain": [
       "<Figure size 640x480 with 0 Axes>"
      ]
     },
     "metadata": {},
     "output_type": "display_data"
    }
   ],
   "source": [
    "import matplotlib.pyplot as plt\n",
    "## We show the final results\n",
    "plt.plot(hist.history['accuracy'])\n",
    "plt.plot(hist.history['val_accuracy'])\n",
    "plt.title('Model accuracy')\n",
    "plt.ylabel('Accuracy')\n",
    "plt.xlabel('Epoch')\n",
    "plt.legend(['Train', 'Val'], loc='upper left')\n",
    "plt.show()\n",
    "plt.clf()\n",
    "\n",
    "\n",
    "# Plot training & validation loss values\n",
    "plt.plot(hist.history['loss'])\n",
    "plt.plot(hist.history['val_loss'])\n",
    "plt.title('Model loss')\n",
    "plt.ylabel('Loss')\n",
    "plt.xlabel('Epoch')\n",
    "plt.legend(['Train', 'Val'], loc='upper left')\n",
    "plt.show()\n",
    "plt.clf()\n",
    "\n",
    "# We print the final accuracy and loss for the test set.\n",
    "val_acc = hist.history['val_accuracy'][-1]\n",
    "val_loss = hist.history['val_loss'][-1]\n",
    "print(\"Validation Accuracy: {:.2f}%\".format(val_acc * 100))\n",
    "print(\"Validation loss: {:.2f}\".format(val_loss))"
   ]
  },
  {
   "cell_type": "code",
   "execution_count": 5,
   "id": "519b1c40-2666-4053-a1ef-8900941298e7",
   "metadata": {
    "tags": []
   },
   "outputs": [
    {
     "name": "stderr",
     "output_type": "stream",
     "text": [
      "2023-04-14 01:28:21.950762: W tensorflow/core/framework/dataset.cc:769] Input of GeneratorDatasetOp::Dataset will not be optimized because the dataset does not implement the AsGraphDefInternal() method needed to apply optimizations.\n"
     ]
    },
    {
     "name": "stdout",
     "output_type": "stream",
     "text": [
      "13/13 [==============================] - 3s 115ms/step\n",
      "Testing Accuracy: 66.50%\n",
      "Testing loss: 1.58\n"
     ]
    },
    {
     "data": {
      "image/png": "[encoded data removed]",
      "text/plain": [
       "<Figure size 600x400 with 2 Axes>"
      ]
     },
     "metadata": {},
     "output_type": "display_data"
    }
   ],
   "source": [
    "from sklearn.metrics import confusion_matrix\n",
    "import seaborn as sns\n",
    "\n",
    "y_pred = model.predict(X_test).argmax(axis=-1)\n",
    "y_true = y_test.argmax(axis=-1)\n",
    "\n",
    "cm = confusion_matrix(y_true, y_pred)\n",
    "\n",
    "# Plot the confusion matrix as a heatmap\n",
    "fig, ax = plt.subplots(figsize=(6, 4))\n",
    "conf=sns.heatmap(cm, annot=True, fmt='d')\n",
    "conf.set_xticklabels(['auto_rikshaw','cricket_crowd','electronic_stapler','formula_1','grass_cutting','guitar','helicoptor','sewing_machine','tap_water','traffic'])\n",
    "conf.set_yticklabels(['auto_rikshaw','cricket_crowd','electronic_stapler','formula_1','grass_cutting','guitar','helicoptor','sewing_machine','tap_water','traffic'])\n",
    "\n",
    "# We print the final accuracy and loss for the test set.\n",
    "test_loss, test_accuracy = model.evaluate(X_test, y_test, verbose=0)\n",
    "print(\"Testing Accuracy: {:.2f}%\".format(test_accuracy * 100))\n",
    "print(\"Testing loss: {:.2f}\".format(test_loss))\n",
    "\n",
    "# Customize the plot,1,1\n",
    "plt.xticks(fontsize=9)\n",
    "plt.yticks(fontsize=9)\n",
    "plt.xticks(rotation=80)\n",
    "plt.yticks(rotation=0)\n",
    "plt.xlabel('Predicted label')\n",
    "plt.ylabel('True label')\n",
    "plt.title('Confusion Matrix')\n",
    "plt.show()"
   ]
  },
  {
   "cell_type": "code",
   "execution_count": 10,
   "id": "2589d631-1d9f-4ca5-a3a7-46c4a76b5ff9",
   "metadata": {
    "tags": []
   },
   "outputs": [
    {
     "name": "stdout",
     "output_type": "stream",
     "text": [
      "1/7 [===>..........................] - ETA: 1s"
     ]
    },
    {
     "name": "stderr",
     "output_type": "stream",
     "text": [
      "2023-04-14 01:33:49.610675: W tensorflow/core/framework/dataset.cc:769] Input of GeneratorDatasetOp::Dataset will not be optimized because the dataset does not implement the AsGraphDefInternal() method needed to apply optimizations.\n"
     ]
    },
    {
     "name": "stdout",
     "output_type": "stream",
     "text": [
      "7/7 [==============================] - 1s 102ms/step\n",
      "Testing Accuracy: 16.00%\n",
      "Testing loss: 7.93\n"
     ]
    },
    {
     "data": {
      "image/png": "[encoded data removed]",
      "text/plain": [
       "<Figure size 600x400 with 2 Axes>"
      ]
     },
     "metadata": {},
     "output_type": "display_data"
    }
   ],
   "source": [
    "from sklearn.metrics import confusion_matrix\n",
    "import seaborn as sns\n",
    "\n",
    "y_pred = model.predict(X_final_005).argmax(axis=-1)\n",
    "y_true = y_final_005.argmax(axis=-1)\n",
    "\n",
    "cm = confusion_matrix(y_true, y_pred)\n",
    "\n",
    "# Plot the confusion matrix as a heatmap\n",
    "fig, ax = plt.subplots(figsize=(6, 4))\n",
    "conf=sns.heatmap(cm, annot=True, fmt='d')\n",
    "conf.set_xticklabels(['auto_rikshaw','cricket_crowd','electronic_stapler','formula_1','grass_cutting','guitar','helicoptor','sewing_machine','tap_water','traffic'])\n",
    "conf.set_yticklabels(['auto_rikshaw','cricket_crowd','electronic_stapler','formula_1','grass_cutting','guitar','helicoptor','sewing_machine','tap_water','traffic'])\n",
    "\n",
    "# We print the final accuracy and loss for the test set.\n",
    "test_loss, test_accuracy = model.evaluate(X_final_005, y_final_005, verbose=0)\n",
    "print(\"Testing Accuracy: {:.2f}%\".format(test_accuracy * 100))\n",
    "print(\"Testing loss: {:.2f}\".format(test_loss))\n",
    "\n",
    "# Customize the plot,1,1\n",
    "plt.xticks(fontsize=9)\n",
    "plt.yticks(fontsize=9)\n",
    "plt.xticks(rotation=80)\n",
    "plt.yticks(rotation=0)\n",
    "plt.xlabel('Predicted label')\n",
    "plt.ylabel('True label')\n",
    "plt.title('Confusion Matrix')\n",
    "plt.show()"
   ]
  },
  {
   "cell_type": "code",
   "execution_count": 30,
   "id": "969bde70-7c75-4915-8505-c9823cee7ecb",
   "metadata": {
    "tags": []
   },
   "outputs": [
    {
     "name": "stdout",
     "output_type": "stream",
     "text": [
      "13/13 [==============================] - 0s 7ms/step\n"
     ]
    },
    {
     "data": {
      "image/png": "[encoded data removed]",
      "text/plain": [
       "<Figure size 640x480 with 1 Axes>"
      ]
     },
     "metadata": {},
     "output_type": "display_data"
    }
   ],
   "source": [
    "# We draw the ROC curve\n",
    "from sklearn.metrics import roc_curve, auc\n",
    "y_pred_proba = model.predict(X_test)\n",
    "fpr = {}\n",
    "tpr = {}\n",
    "roc_auc = {}\n",
    "\n",
    "for i in range(10):\n",
    "    fpr[i], tpr[i], thresholds = roc_curve(y_test[:, i], y_pred_proba[:, i])\n",
    "    roc_auc[i] = auc(fpr[i], tpr[i])\n",
    "    \n",
    "for i in range(10):\n",
    "    plt.plot(fpr[i], tpr[i], label=f'Class {i} (AUC={roc_auc[i]:.2f})')\n",
    "\n",
    "plt.plot([0, 1], [0, 1], linestyle='--', color='gray')\n",
    "plt.xlabel('False Positive Rate')\n",
    "plt.ylabel('True Positive Rate')\n",
    "plt.title('ROC Curve')\n",
    "plt.legend()\n",
    "plt.show()"
   ]
  }
 ],
 "metadata": {
  "kernelspec": {
   "display_name": "Python 3 (ipykernel)",
   "language": "python",
   "name": "python3"
  },
  "language_info": {
   "codemirror_mode": {
    "name": "ipython",
    "version": 3
   },
   "file_extension": ".py",
   "mimetype": "text/x-python",
   "name": "python",
   "nbconvert_exporter": "python",
   "pygments_lexer": "ipython3",
   "version": "3.8.10"
  }
 },
 "nbformat": 4,
 "nbformat_minor": 5
}
